{
  "cells": [
    {
      "cell_type": "markdown",
      "metadata": {
        "id": "bl_Kuh0WT6Pt"
      },
      "source": [
        "#Assignment 1 (Project Phase 1)\n",
        "\n",
        "##Group Name: **Data Dreamers**\n",
        "\n",
        "##**Members**:\n",
        "- **Md. Fahim Islam -> 2131059642**\n",
        "- **Amit Chakraborty-> 2132692642**\n",
        "- **Aditto Rahman   -> 2122332042**\n",
        "- **Nahid Hassan    -> 2031269642**\n",
        "\n",
        "\n",
        "- Dataset: Road Traffic Accident Dataset, Rawalpindi-Punjab, Pakistan\n",
        "- Two possible targets- ***Injury Type*** or ***Patient Status***"
      ]
    },
    {
      "cell_type": "markdown",
      "metadata": {
        "id": "TsQjBaf9Kq0i"
      },
      "source": [
        "# Imports"
      ]
    },
    {
      "cell_type": "code",
      "execution_count": null,
      "metadata": {
        "id": "7-evX9UlLgD_"
      },
      "outputs": [],
      "source": [
        "import pandas as pd\n",
        "import numpy as numpy\n",
        "import matplotlib.pyplot as plt\n",
        "from sklearn.preprocessing import OneHotEncoder\n",
        "from sklearn.preprocessing import LabelEncoder\n",
        "from sklearn.model_selection import train_test_split\n",
        "from sklearn.preprocessing import StandardScaler\n",
        "from sklearn.preprocessing import MinMaxScaler\n",
        "from sklearn.preprocessing import Normalizer\n",
        "from sklearn.impute import SimpleImputer\n",
        "import seaborn as sns\n",
        "from sklearn.preprocessing import OrdinalEncoder\n",
        "from sklearn.linear_model import LogisticRegression\n",
        "from sklearn.metrics import accuracy_score, confusion_matrix, precision_score, recall_score, f1_score\n",
        "from sklearn.preprocessing import Normalizer"
      ]
    },
    {
      "cell_type": "markdown",
      "metadata": {
        "id": "jxE1rZv2LlU9"
      },
      "source": [
        "## Data Import"
      ]
    },
    {
      "cell_type": "code",
      "execution_count": null,
      "metadata": {
        "id": "7RTxWQg9LpY7"
      },
      "outputs": [],
      "source": [
        "df = pd.read_csv('/content/RTA Data 2020 to July 2023.csv')"
      ]
    },
    {
      "cell_type": "markdown",
      "metadata": {
        "id": "Q9lnYBY9L8Or"
      },
      "source": [
        "#Selecting Our Target Variable\n",
        "\n",
        "- For this assignment, we have selected **Injury Type** as the target variable.\n",
        "\n"
      ]
    },
    {
      "cell_type": "code",
      "execution_count": null,
      "metadata": {
        "id": "BWf38RfJM2A8"
      },
      "outputs": [],
      "source": [
        "# Missing values\n",
        "df.isnull().sum()"
      ]
    },
    {
      "cell_type": "markdown",
      "metadata": {
        "id": "gwDHnEieNi0S"
      },
      "source": [
        "#Droping Features\n",
        "\n"
      ]
    },
    {
      "cell_type": "code",
      "execution_count": null,
      "metadata": {
        "id": "j1Irtv-Sm4kK"
      },
      "outputs": [],
      "source": [
        "df['EcNumber'].value_counts()\n"
      ]
    },
    {
      "cell_type": "markdown",
      "metadata": {
        "id": "PI-N0xRq50w-"
      },
      "source": [
        "##EcNumber Correlation check"
      ]
    },
    {
      "cell_type": "code",
      "execution_count": null,
      "metadata": {
        "colab": {
          "base_uri": "https://localhost:8080/",
          "height": 356
        },
        "id": "qkPQPpQXgPER",
        "outputId": "25a85441-50ff-4f0b-c76c-31f8d247b7ae"
      },
      "outputs": [
        {
          "output_type": "error",
          "ename": "KeyError",
          "evalue": "\"['EcNumber'] not in index\"",
          "traceback": [
            "\u001b[0;31m---------------------------------------------------------------------------\u001b[0m",
            "\u001b[0;31mKeyError\u001b[0m                                  Traceback (most recent call last)",
            "\u001b[0;32m<ipython-input-844-115e8ece84e5>\u001b[0m in \u001b[0;36m<cell line: 1>\u001b[0;34m()\u001b[0m\n\u001b[0;32m----> 1\u001b[0;31m \u001b[0mdf_sub\u001b[0m \u001b[0;34m=\u001b[0m \u001b[0mdf\u001b[0m\u001b[0;34m[\u001b[0m\u001b[0;34m[\u001b[0m\u001b[0;34m'EcNumber'\u001b[0m\u001b[0;34m,\u001b[0m \u001b[0;34m'InjuryType'\u001b[0m\u001b[0;34m]\u001b[0m\u001b[0;34m]\u001b[0m\u001b[0;34m.\u001b[0m\u001b[0mcopy\u001b[0m\u001b[0;34m(\u001b[0m\u001b[0;34m)\u001b[0m\u001b[0;34m\u001b[0m\u001b[0;34m\u001b[0m\u001b[0m\n\u001b[0m\u001b[1;32m      2\u001b[0m \u001b[0mdf_sub\u001b[0m\u001b[0;34m[\u001b[0m\u001b[0;34m'EcNumber'\u001b[0m\u001b[0;34m]\u001b[0m \u001b[0;34m=\u001b[0m \u001b[0mdf_sub\u001b[0m\u001b[0;34m[\u001b[0m\u001b[0;34m'EcNumber'\u001b[0m\u001b[0;34m]\u001b[0m\u001b[0;34m.\u001b[0m\u001b[0mastype\u001b[0m\u001b[0;34m(\u001b[0m\u001b[0;34m'category'\u001b[0m\u001b[0;34m)\u001b[0m\u001b[0;34m.\u001b[0m\u001b[0mcat\u001b[0m\u001b[0;34m.\u001b[0m\u001b[0mcodes\u001b[0m\u001b[0;34m\u001b[0m\u001b[0;34m\u001b[0m\u001b[0m\n\u001b[1;32m      3\u001b[0m \u001b[0mdf_sub\u001b[0m\u001b[0;34m[\u001b[0m\u001b[0;34m'InjuryType'\u001b[0m\u001b[0;34m]\u001b[0m \u001b[0;34m=\u001b[0m \u001b[0mdf_sub\u001b[0m\u001b[0;34m[\u001b[0m\u001b[0;34m'InjuryType'\u001b[0m\u001b[0;34m]\u001b[0m\u001b[0;34m.\u001b[0m\u001b[0mastype\u001b[0m\u001b[0;34m(\u001b[0m\u001b[0;34m'category'\u001b[0m\u001b[0;34m)\u001b[0m\u001b[0;34m.\u001b[0m\u001b[0mcat\u001b[0m\u001b[0;34m.\u001b[0m\u001b[0mcodes\u001b[0m\u001b[0;34m\u001b[0m\u001b[0;34m\u001b[0m\u001b[0m\n\u001b[1;32m      4\u001b[0m \u001b[0mdf_sub\u001b[0m\u001b[0;34m.\u001b[0m\u001b[0mdropna\u001b[0m\u001b[0;34m(\u001b[0m\u001b[0minplace\u001b[0m\u001b[0;34m=\u001b[0m\u001b[0;32mTrue\u001b[0m\u001b[0;34m)\u001b[0m\u001b[0;34m\u001b[0m\u001b[0;34m\u001b[0m\u001b[0m\n\u001b[1;32m      5\u001b[0m \u001b[0;34m\u001b[0m\u001b[0m\n",
            "\u001b[0;32m/usr/local/lib/python3.10/dist-packages/pandas/core/frame.py\u001b[0m in \u001b[0;36m__getitem__\u001b[0;34m(self, key)\u001b[0m\n\u001b[1;32m   4106\u001b[0m             \u001b[0;32mif\u001b[0m \u001b[0mis_iterator\u001b[0m\u001b[0;34m(\u001b[0m\u001b[0mkey\u001b[0m\u001b[0;34m)\u001b[0m\u001b[0;34m:\u001b[0m\u001b[0;34m\u001b[0m\u001b[0;34m\u001b[0m\u001b[0m\n\u001b[1;32m   4107\u001b[0m                 \u001b[0mkey\u001b[0m \u001b[0;34m=\u001b[0m \u001b[0mlist\u001b[0m\u001b[0;34m(\u001b[0m\u001b[0mkey\u001b[0m\u001b[0;34m)\u001b[0m\u001b[0;34m\u001b[0m\u001b[0;34m\u001b[0m\u001b[0m\n\u001b[0;32m-> 4108\u001b[0;31m             \u001b[0mindexer\u001b[0m \u001b[0;34m=\u001b[0m \u001b[0mself\u001b[0m\u001b[0;34m.\u001b[0m\u001b[0mcolumns\u001b[0m\u001b[0;34m.\u001b[0m\u001b[0m_get_indexer_strict\u001b[0m\u001b[0;34m(\u001b[0m\u001b[0mkey\u001b[0m\u001b[0;34m,\u001b[0m \u001b[0;34m\"columns\"\u001b[0m\u001b[0;34m)\u001b[0m\u001b[0;34m[\u001b[0m\u001b[0;36m1\u001b[0m\u001b[0;34m]\u001b[0m\u001b[0;34m\u001b[0m\u001b[0;34m\u001b[0m\u001b[0m\n\u001b[0m\u001b[1;32m   4109\u001b[0m \u001b[0;34m\u001b[0m\u001b[0m\n\u001b[1;32m   4110\u001b[0m         \u001b[0;31m# take() does not accept boolean indexers\u001b[0m\u001b[0;34m\u001b[0m\u001b[0;34m\u001b[0m\u001b[0m\n",
            "\u001b[0;32m/usr/local/lib/python3.10/dist-packages/pandas/core/indexes/base.py\u001b[0m in \u001b[0;36m_get_indexer_strict\u001b[0;34m(self, key, axis_name)\u001b[0m\n\u001b[1;32m   6198\u001b[0m             \u001b[0mkeyarr\u001b[0m\u001b[0;34m,\u001b[0m \u001b[0mindexer\u001b[0m\u001b[0;34m,\u001b[0m \u001b[0mnew_indexer\u001b[0m \u001b[0;34m=\u001b[0m \u001b[0mself\u001b[0m\u001b[0;34m.\u001b[0m\u001b[0m_reindex_non_unique\u001b[0m\u001b[0;34m(\u001b[0m\u001b[0mkeyarr\u001b[0m\u001b[0;34m)\u001b[0m\u001b[0;34m\u001b[0m\u001b[0;34m\u001b[0m\u001b[0m\n\u001b[1;32m   6199\u001b[0m \u001b[0;34m\u001b[0m\u001b[0m\n\u001b[0;32m-> 6200\u001b[0;31m         \u001b[0mself\u001b[0m\u001b[0;34m.\u001b[0m\u001b[0m_raise_if_missing\u001b[0m\u001b[0;34m(\u001b[0m\u001b[0mkeyarr\u001b[0m\u001b[0;34m,\u001b[0m \u001b[0mindexer\u001b[0m\u001b[0;34m,\u001b[0m \u001b[0maxis_name\u001b[0m\u001b[0;34m)\u001b[0m\u001b[0;34m\u001b[0m\u001b[0;34m\u001b[0m\u001b[0m\n\u001b[0m\u001b[1;32m   6201\u001b[0m \u001b[0;34m\u001b[0m\u001b[0m\n\u001b[1;32m   6202\u001b[0m         \u001b[0mkeyarr\u001b[0m \u001b[0;34m=\u001b[0m \u001b[0mself\u001b[0m\u001b[0;34m.\u001b[0m\u001b[0mtake\u001b[0m\u001b[0;34m(\u001b[0m\u001b[0mindexer\u001b[0m\u001b[0;34m)\u001b[0m\u001b[0;34m\u001b[0m\u001b[0;34m\u001b[0m\u001b[0m\n",
            "\u001b[0;32m/usr/local/lib/python3.10/dist-packages/pandas/core/indexes/base.py\u001b[0m in \u001b[0;36m_raise_if_missing\u001b[0;34m(self, key, indexer, axis_name)\u001b[0m\n\u001b[1;32m   6250\u001b[0m \u001b[0;34m\u001b[0m\u001b[0m\n\u001b[1;32m   6251\u001b[0m             \u001b[0mnot_found\u001b[0m \u001b[0;34m=\u001b[0m \u001b[0mlist\u001b[0m\u001b[0;34m(\u001b[0m\u001b[0mensure_index\u001b[0m\u001b[0;34m(\u001b[0m\u001b[0mkey\u001b[0m\u001b[0;34m)\u001b[0m\u001b[0;34m[\u001b[0m\u001b[0mmissing_mask\u001b[0m\u001b[0;34m.\u001b[0m\u001b[0mnonzero\u001b[0m\u001b[0;34m(\u001b[0m\u001b[0;34m)\u001b[0m\u001b[0;34m[\u001b[0m\u001b[0;36m0\u001b[0m\u001b[0;34m]\u001b[0m\u001b[0;34m]\u001b[0m\u001b[0;34m.\u001b[0m\u001b[0munique\u001b[0m\u001b[0;34m(\u001b[0m\u001b[0;34m)\u001b[0m\u001b[0;34m)\u001b[0m\u001b[0;34m\u001b[0m\u001b[0;34m\u001b[0m\u001b[0m\n\u001b[0;32m-> 6252\u001b[0;31m             \u001b[0;32mraise\u001b[0m \u001b[0mKeyError\u001b[0m\u001b[0;34m(\u001b[0m\u001b[0;34mf\"{not_found} not in index\"\u001b[0m\u001b[0;34m)\u001b[0m\u001b[0;34m\u001b[0m\u001b[0;34m\u001b[0m\u001b[0m\n\u001b[0m\u001b[1;32m   6253\u001b[0m \u001b[0;34m\u001b[0m\u001b[0m\n\u001b[1;32m   6254\u001b[0m     \u001b[0;34m@\u001b[0m\u001b[0moverload\u001b[0m\u001b[0;34m\u001b[0m\u001b[0;34m\u001b[0m\u001b[0m\n",
            "\u001b[0;31mKeyError\u001b[0m: \"['EcNumber'] not in index\""
          ]
        }
      ],
      "source": [
        "df_sub = df[['EcNumber', 'InjuryType']].copy()\n",
        "df_sub['EcNumber'] = df_sub['EcNumber'].astype('category').cat.codes\n",
        "df_sub['InjuryType'] = df_sub['InjuryType'].astype('category').cat.codes\n",
        "df_sub.dropna(inplace=True)\n",
        "\n",
        "# Calculate the correlation matrix\n",
        "correlation = df_sub.corr()\n",
        "\n",
        "# Plot the heatmap for the correlation matrix\n",
        "plt.figure(figsize=(6, 4))\n",
        "sns.heatmap(correlation, annot=True, cmap='coolwarm', vmin=-1, vmax=1)\n",
        "plt.title('Correlation between EcNumber and InjuryType')\n",
        "plt.tight_layout()\n",
        "plt.show()\n"
      ]
    },
    {
      "cell_type": "markdown",
      "metadata": {
        "id": "Rdns0S31geL9"
      },
      "source": [
        "The value 0.00095 represents the correlation between EcNumber and InjuryType. A correlation of 0.00095 is extremely close to zero, meaning that there is no significant linear relationship between these two variables. That's why we deleted the EcNumber name region."
      ]
    },
    {
      "cell_type": "markdown",
      "metadata": {
        "id": "mWTrFvhp8PF-"
      },
      "source": [
        "##HospitalName Correlation check"
      ]
    },
    {
      "cell_type": "code",
      "execution_count": null,
      "metadata": {
        "id": "y9_fJXn1nHUn"
      },
      "outputs": [],
      "source": [
        "df['HospitalName'].value_counts()"
      ]
    },
    {
      "cell_type": "code",
      "execution_count": null,
      "metadata": {
        "id": "wpEQY5oz7PDo"
      },
      "outputs": [],
      "source": [
        "df_sub = df[['HospitalName', 'InjuryType']].copy()\n",
        "df_sub['HospitalName'] = df_sub['HospitalName'].astype('category').cat.codes\n",
        "df_sub['InjuryType'] = df_sub['InjuryType'].astype('category').cat.codes\n",
        "df_sub.dropna(inplace=True)\n",
        "\n",
        "# Calculate the correlation matrix\n",
        "correlation = df_sub.corr()\n",
        "\n",
        "# Plot the heatmap for the correlation matrix\n",
        "plt.figure(figsize=(6, 4))\n",
        "sns.heatmap(correlation, annot=True, cmap='coolwarm', vmin=-1, vmax=1)\n",
        "plt.title('Correlation between HospitalName and InjuryType')\n",
        "plt.tight_layout()\n",
        "plt.show()"
      ]
    },
    {
      "cell_type": "markdown",
      "metadata": {
        "id": "kGJfdKpQat4y"
      },
      "source": [
        "The correlation between HospitalName and InjuryType is 0.12, which is a very weak positive correlation. This indicates that the two variables have a very minimal linear relationship, meaning the hospital where a patient was treated has little influence on the type of injury in the data.So we will remove this column"
      ]
    },
    {
      "cell_type": "markdown",
      "metadata": {
        "id": "nCkpRybs8bU1"
      },
      "source": [
        "##CallTime Correlation check"
      ]
    },
    {
      "cell_type": "code",
      "execution_count": null,
      "metadata": {
        "colab": {
          "base_uri": "https://localhost:8080/",
          "height": 547
        },
        "id": "ji-_eVVlnUIw",
        "outputId": "05ae6491-1519-4fba-fb84-db1b2d5e6e18"
      },
      "outputs": [
        {
          "output_type": "error",
          "ename": "KeyError",
          "evalue": "'CallTime'",
          "traceback": [
            "\u001b[0;31m---------------------------------------------------------------------------\u001b[0m",
            "\u001b[0;31mKeyError\u001b[0m                                  Traceback (most recent call last)",
            "\u001b[0;32m/usr/local/lib/python3.10/dist-packages/pandas/core/indexes/base.py\u001b[0m in \u001b[0;36mget_loc\u001b[0;34m(self, key)\u001b[0m\n\u001b[1;32m   3804\u001b[0m         \u001b[0;32mtry\u001b[0m\u001b[0;34m:\u001b[0m\u001b[0;34m\u001b[0m\u001b[0;34m\u001b[0m\u001b[0m\n\u001b[0;32m-> 3805\u001b[0;31m             \u001b[0;32mreturn\u001b[0m \u001b[0mself\u001b[0m\u001b[0;34m.\u001b[0m\u001b[0m_engine\u001b[0m\u001b[0;34m.\u001b[0m\u001b[0mget_loc\u001b[0m\u001b[0;34m(\u001b[0m\u001b[0mcasted_key\u001b[0m\u001b[0;34m)\u001b[0m\u001b[0;34m\u001b[0m\u001b[0;34m\u001b[0m\u001b[0m\n\u001b[0m\u001b[1;32m   3806\u001b[0m         \u001b[0;32mexcept\u001b[0m \u001b[0mKeyError\u001b[0m \u001b[0;32mas\u001b[0m \u001b[0merr\u001b[0m\u001b[0;34m:\u001b[0m\u001b[0;34m\u001b[0m\u001b[0;34m\u001b[0m\u001b[0m\n",
            "\u001b[0;32mindex.pyx\u001b[0m in \u001b[0;36mpandas._libs.index.IndexEngine.get_loc\u001b[0;34m()\u001b[0m\n",
            "\u001b[0;32mindex.pyx\u001b[0m in \u001b[0;36mpandas._libs.index.IndexEngine.get_loc\u001b[0;34m()\u001b[0m\n",
            "\u001b[0;32mpandas/_libs/hashtable_class_helper.pxi\u001b[0m in \u001b[0;36mpandas._libs.hashtable.PyObjectHashTable.get_item\u001b[0;34m()\u001b[0m\n",
            "\u001b[0;32mpandas/_libs/hashtable_class_helper.pxi\u001b[0m in \u001b[0;36mpandas._libs.hashtable.PyObjectHashTable.get_item\u001b[0;34m()\u001b[0m\n",
            "\u001b[0;31mKeyError\u001b[0m: 'CallTime'",
            "\nThe above exception was the direct cause of the following exception:\n",
            "\u001b[0;31mKeyError\u001b[0m                                  Traceback (most recent call last)",
            "\u001b[0;32m<ipython-input-845-83fd78bebe1d>\u001b[0m in \u001b[0;36m<cell line: 1>\u001b[0;34m()\u001b[0m\n\u001b[0;32m----> 1\u001b[0;31m \u001b[0mdf\u001b[0m\u001b[0;34m[\u001b[0m\u001b[0;34m'CallTime'\u001b[0m\u001b[0;34m]\u001b[0m\u001b[0;34m.\u001b[0m\u001b[0mvalue_counts\u001b[0m\u001b[0;34m(\u001b[0m\u001b[0;34m)\u001b[0m\u001b[0;34m\u001b[0m\u001b[0;34m\u001b[0m\u001b[0m\n\u001b[0m",
            "\u001b[0;32m/usr/local/lib/python3.10/dist-packages/pandas/core/frame.py\u001b[0m in \u001b[0;36m__getitem__\u001b[0;34m(self, key)\u001b[0m\n\u001b[1;32m   4100\u001b[0m             \u001b[0;32mif\u001b[0m \u001b[0mself\u001b[0m\u001b[0;34m.\u001b[0m\u001b[0mcolumns\u001b[0m\u001b[0;34m.\u001b[0m\u001b[0mnlevels\u001b[0m \u001b[0;34m>\u001b[0m \u001b[0;36m1\u001b[0m\u001b[0;34m:\u001b[0m\u001b[0;34m\u001b[0m\u001b[0;34m\u001b[0m\u001b[0m\n\u001b[1;32m   4101\u001b[0m                 \u001b[0;32mreturn\u001b[0m \u001b[0mself\u001b[0m\u001b[0;34m.\u001b[0m\u001b[0m_getitem_multilevel\u001b[0m\u001b[0;34m(\u001b[0m\u001b[0mkey\u001b[0m\u001b[0;34m)\u001b[0m\u001b[0;34m\u001b[0m\u001b[0;34m\u001b[0m\u001b[0m\n\u001b[0;32m-> 4102\u001b[0;31m             \u001b[0mindexer\u001b[0m \u001b[0;34m=\u001b[0m \u001b[0mself\u001b[0m\u001b[0;34m.\u001b[0m\u001b[0mcolumns\u001b[0m\u001b[0;34m.\u001b[0m\u001b[0mget_loc\u001b[0m\u001b[0;34m(\u001b[0m\u001b[0mkey\u001b[0m\u001b[0;34m)\u001b[0m\u001b[0;34m\u001b[0m\u001b[0;34m\u001b[0m\u001b[0m\n\u001b[0m\u001b[1;32m   4103\u001b[0m             \u001b[0;32mif\u001b[0m \u001b[0mis_integer\u001b[0m\u001b[0;34m(\u001b[0m\u001b[0mindexer\u001b[0m\u001b[0;34m)\u001b[0m\u001b[0;34m:\u001b[0m\u001b[0;34m\u001b[0m\u001b[0;34m\u001b[0m\u001b[0m\n\u001b[1;32m   4104\u001b[0m                 \u001b[0mindexer\u001b[0m \u001b[0;34m=\u001b[0m \u001b[0;34m[\u001b[0m\u001b[0mindexer\u001b[0m\u001b[0;34m]\u001b[0m\u001b[0;34m\u001b[0m\u001b[0;34m\u001b[0m\u001b[0m\n",
            "\u001b[0;32m/usr/local/lib/python3.10/dist-packages/pandas/core/indexes/base.py\u001b[0m in \u001b[0;36mget_loc\u001b[0;34m(self, key)\u001b[0m\n\u001b[1;32m   3810\u001b[0m             ):\n\u001b[1;32m   3811\u001b[0m                 \u001b[0;32mraise\u001b[0m \u001b[0mInvalidIndexError\u001b[0m\u001b[0;34m(\u001b[0m\u001b[0mkey\u001b[0m\u001b[0;34m)\u001b[0m\u001b[0;34m\u001b[0m\u001b[0;34m\u001b[0m\u001b[0m\n\u001b[0;32m-> 3812\u001b[0;31m             \u001b[0;32mraise\u001b[0m \u001b[0mKeyError\u001b[0m\u001b[0;34m(\u001b[0m\u001b[0mkey\u001b[0m\u001b[0;34m)\u001b[0m \u001b[0;32mfrom\u001b[0m \u001b[0merr\u001b[0m\u001b[0;34m\u001b[0m\u001b[0;34m\u001b[0m\u001b[0m\n\u001b[0m\u001b[1;32m   3813\u001b[0m         \u001b[0;32mexcept\u001b[0m \u001b[0mTypeError\u001b[0m\u001b[0;34m:\u001b[0m\u001b[0;34m\u001b[0m\u001b[0;34m\u001b[0m\u001b[0m\n\u001b[1;32m   3814\u001b[0m             \u001b[0;31m# If we have a listlike key, _check_indexing_error will raise\u001b[0m\u001b[0;34m\u001b[0m\u001b[0;34m\u001b[0m\u001b[0m\n",
            "\u001b[0;31mKeyError\u001b[0m: 'CallTime'"
          ]
        }
      ],
      "source": [
        "df['CallTime'].value_counts()"
      ]
    },
    {
      "cell_type": "code",
      "execution_count": null,
      "metadata": {
        "id": "g2eesF_77qye"
      },
      "outputs": [],
      "source": [
        "df_sub = df[['CallTime', 'InjuryType']].copy()\n",
        "\n",
        "df_sub['CallTime'] = df_sub['CallTime'].astype('category').cat.codes\n",
        "df_sub['InjuryType'] = df_sub['InjuryType'].astype('category').cat.codes\n",
        "df_sub.dropna(inplace=True)\n",
        "correlation = df_sub.corr()\n",
        "\n",
        "\n",
        "# Plot heatmap\n",
        "plt.figure(figsize=(6, 4))\n",
        "sns.heatmap(correlation, annot=True, cmap='coolwarm', vmin=-1, vmax=1)\n",
        "plt.title('Correlation between CallTime and InjuryType')\n",
        "plt.tight_layout()\n",
        "plt.show()"
      ]
    },
    {
      "cell_type": "markdown",
      "metadata": {
        "id": "xrKDR78obOvT"
      },
      "source": [
        "The off-diagonal value of -0.0042 shows a very weak negative correlation between \"CallTime\" and \"InjuryType.\" This means that there is almost no linear relationship between these two variables, For that reason we deleted the \"CallTime\" column."
      ]
    },
    {
      "cell_type": "markdown",
      "metadata": {
        "id": "ONZtgvu28v0E"
      },
      "source": [
        "##EcYear Correlation check"
      ]
    },
    {
      "cell_type": "code",
      "execution_count": null,
      "metadata": {
        "id": "lvF54U8l76Xc"
      },
      "outputs": [],
      "source": [
        "df['EcYear'].value_counts()"
      ]
    },
    {
      "cell_type": "code",
      "execution_count": null,
      "metadata": {
        "id": "qbrlrBJN8AFe"
      },
      "outputs": [],
      "source": [
        "df_sub = df[['EcYear', 'InjuryType']].copy()\n",
        "\n",
        "df_sub['EcYear'] = df_sub['EcYear'].astype('category').cat.codes\n",
        "df_sub['InjuryType'] = df_sub['InjuryType'].astype('category').cat.codes\n",
        "df_sub.dropna(inplace=True)\n",
        "correlation = df_sub.corr()\n",
        "\n",
        "# Plot heatmap\n",
        "plt.figure(figsize=(6, 4))\n",
        "sns.heatmap(correlation, annot=True, cmap='coolwarm', vmin=-1, vmax=1)\n",
        "plt.title('Correlation between EcYear and InjuryType')\n",
        "plt.tight_layout()\n",
        "plt.show()"
      ]
    },
    {
      "cell_type": "markdown",
      "metadata": {
        "id": "kG9A4VAsbevf"
      },
      "source": [
        "The off-diagonal value of -0.0076 shows a very weak negative correlation between \"EcYear\" and \"InjuryType.\" This means that there is almost no linear relationship between these two variables, For that reason we deleted the \"EcYear\" column."
      ]
    },
    {
      "cell_type": "markdown",
      "metadata": {
        "id": "bZMjqQ-okWsb"
      },
      "source": [
        "##Info About Dropping\n",
        "\n",
        "` EcNumber, HospitalName, EcYear, PatientStatus and CallTime were removed as they do not exhibit any significant correlation with the target variable.`\n",
        "\n"
      ]
    },
    {
      "cell_type": "code",
      "execution_count": null,
      "metadata": {
        "id": "DHCkIxakQ4-Z"
      },
      "outputs": [],
      "source": [
        "df = df.drop(['EcNumber', 'HospitalName', 'EcYear', 'CallTime'], axis=1)"
      ]
    },
    {
      "cell_type": "code",
      "execution_count": null,
      "metadata": {
        "id": "c9J3Zs_z8cWg"
      },
      "outputs": [],
      "source": [
        "df['PatientStatus'].value_counts()\n"
      ]
    },
    {
      "cell_type": "code",
      "execution_count": null,
      "metadata": {
        "id": "rvv-eyHQQ_SW"
      },
      "outputs": [],
      "source": [
        "df.info()"
      ]
    },
    {
      "cell_type": "markdown",
      "metadata": {
        "id": "EYaKE7tjRC9q"
      },
      "source": [
        "#Filling the Missing Values\n"
      ]
    },
    {
      "cell_type": "code",
      "execution_count": null,
      "metadata": {
        "id": "wwW16sfIRT21"
      },
      "outputs": [],
      "source": [
        "#missing values\n",
        "df.isnull().sum()"
      ]
    },
    {
      "cell_type": "markdown",
      "metadata": {
        "id": "knaBVOlHRpR0"
      },
      "source": [
        "##Handling Missing Values\n",
        "`While several columns contain missing values, the number of missing entries is relatively low, with a maximum of 5 missing values in the **responseTime** column. Given the small number of missing values, it is not a significant issue. To address this, we can apply a forward fill technique, which propagates the last valid observation to the next missing one. In this case, we have opted for the forward fill method to handle the missing values efficiently.`"
      ]
    },
    {
      "cell_type": "code",
      "execution_count": null,
      "metadata": {
        "id": "Uc2YH2qwSWsa"
      },
      "outputs": [],
      "source": [
        "forwardfill = [\n",
        "    'Reason', 'responsetime', 'EducationTitle', 'InjuryType', 'Cause',\n",
        "    'BicycleInvovled', 'BikesInvolved', 'BusesInvolved', 'CarsInvolved',\n",
        "    'CartInvovled', 'RickshawsInvolved', 'TractorInvovled', 'TrainsInvovled',\n",
        "    'TrucksInvolved', 'VansInvolved', 'OthersInvolved', 'Age','Gender' ,'PatientStatus'\n",
        "]\n",
        "\n",
        "\n",
        "df[forwardfill] = df[forwardfill].fillna(method='ffill')\n",
        "\n",
        "\n",
        "df.isnull().sum()"
      ]
    },
    {
      "cell_type": "markdown",
      "metadata": {
        "id": "xsJCghPwluWd"
      },
      "source": [
        "#Duplicate Value"
      ]
    },
    {
      "cell_type": "code",
      "execution_count": null,
      "metadata": {
        "id": "cf--Bwwg6O1R"
      },
      "outputs": [],
      "source": [
        "df[df.duplicated()]"
      ]
    },
    {
      "cell_type": "code",
      "execution_count": null,
      "metadata": {
        "id": "dzPb75os6bdv"
      },
      "outputs": [],
      "source": [
        "df.duplicated().sum()"
      ]
    },
    {
      "cell_type": "markdown",
      "metadata": {
        "id": "HduExYEKl3K9"
      },
      "source": [
        "##Handle Duplicate value"
      ]
    },
    {
      "cell_type": "code",
      "execution_count": null,
      "metadata": {
        "id": "R0zEiH5M6nAD"
      },
      "outputs": [],
      "source": [
        "df.drop_duplicates(inplace =True)"
      ]
    },
    {
      "cell_type": "code",
      "execution_count": null,
      "metadata": {
        "id": "IZ_bEVPf6wsH"
      },
      "outputs": [],
      "source": [
        "df.shape"
      ]
    },
    {
      "cell_type": "code",
      "execution_count": null,
      "metadata": {
        "id": "DLkKtjzAV7Ad"
      },
      "outputs": [],
      "source": [
        "df.info()"
      ]
    },
    {
      "cell_type": "markdown",
      "metadata": {
        "id": "kOti_cB0S8uo"
      },
      "source": [
        "#Encoding the categorical columns"
      ]
    },
    {
      "cell_type": "markdown",
      "metadata": {
        "id": "fWaHsp0FV8If"
      },
      "source": [
        "##Data Type Conversion\n",
        "Upon reviewing the data types in the dataframe, we observe that the following columns are of object type:\n",
        "\n",
        "* EmergencyArea\n",
        "* Gender\n",
        "* Reason\n",
        "* EducationTitle\n",
        "* InjuryType\n",
        "* Cause\n",
        "\n",
        "\n",
        "Since machine learning models require numerical data, these categorical columns must be transformed into numerical format through encoding techniques. We will apply appropriate encoding methods to convert these columns into numerical values, making them suitable for analysis and modeling."
      ]
    },
    {
      "cell_type": "markdown",
      "metadata": {
        "id": "ZxKu_vTzXCOg"
      },
      "source": [
        "## Ordinal Encoding"
      ]
    },
    {
      "cell_type": "code",
      "execution_count": null,
      "metadata": {
        "id": "FN2ABTDZc3aa"
      },
      "outputs": [],
      "source": [
        "df['EducationTitle'].value_counts()"
      ]
    },
    {
      "cell_type": "code",
      "source": [
        "# Delete the whole row where EducationTitle is 0\n",
        "df = df[df['EducationTitle'] != '0']\n",
        "df['EducationTitle'].value_counts()"
      ],
      "metadata": {
        "id": "Fwg1bBmZl0U4"
      },
      "execution_count": null,
      "outputs": []
    },
    {
      "cell_type": "markdown",
      "metadata": {
        "id": "PtdyAmChc_3n"
      },
      "source": [
        "###Info EducationTitle Encoding\n",
        "\n",
        "```\n",
        "For the columns EducationTitle, we will apply Ordinal Encoding,\n",
        "because these features have a strong inherent order:\n",
        "\n",
        "- EducationTitle represents educational level that follows a defined hierarchy (PhD < Master < Primary < Matric).\n",
        "By using ordinal encoding, we can capture the meaningful order in these features.\n",
        "```\n",
        "\n"
      ]
    },
    {
      "cell_type": "markdown",
      "metadata": {
        "id": "MkPYIFc_1RkV"
      },
      "source": [
        "###EducationTitle Visualization Bar chart\n",
        "\n",
        "\n"
      ]
    },
    {
      "cell_type": "code",
      "execution_count": null,
      "metadata": {
        "id": "xoR-ioD50WML"
      },
      "outputs": [],
      "source": [
        "\n",
        "df['EducationTitle'].value_counts().plot(kind='bar', color=['blue', 'red'])\n",
        "\n",
        "\n",
        "plt.show()"
      ]
    },
    {
      "cell_type": "markdown",
      "metadata": {
        "id": "zhQH2I9827Lz"
      },
      "source": [
        "###EducationTitle encoding"
      ]
    },
    {
      "cell_type": "code",
      "execution_count": null,
      "metadata": {
        "id": "p2LpUPcM3JKg"
      },
      "outputs": [],
      "source": [
        "\n",
        "encoder=OrdinalEncoder()\n",
        "df['EducationTitle'] = encoder.fit_transform(df[['EducationTitle']])\n",
        "df.info()"
      ]
    },
    {
      "cell_type": "code",
      "execution_count": null,
      "metadata": {
        "id": "GHQkqIPG3UnG"
      },
      "outputs": [],
      "source": [
        "df['EducationTitle'].plot(kind='hist', color=['blue'])\n",
        "\n",
        "\n",
        "plt.show()"
      ]
    },
    {
      "cell_type": "markdown",
      "metadata": {
        "id": "iCMCMp0KcjD2"
      },
      "source": [
        "The histogram shows the distribution of EducationTitle in a dataset. It reveals that most people have education title 5, with fewer people having higher titles and even fewer having lower titles. There are also a few outliers with very high education titles.\n",
        "\n",
        "\n",
        "\n",
        "\n",
        "\n",
        "\n",
        "\n",
        "\n",
        "\\"
      ]
    },
    {
      "cell_type": "markdown",
      "metadata": {
        "id": "VSNbHeyp3dpz"
      },
      "source": [
        "###EducationTitle Visualization Box plot"
      ]
    },
    {
      "cell_type": "code",
      "execution_count": null,
      "metadata": {
        "id": "jIClO2lh3kmi"
      },
      "outputs": [],
      "source": [
        "#boxplot for column EducationTitle\n",
        "plt.figure(figsize=(12, 6))\n",
        "sns.boxplot(x=df['EducationTitle'])\n",
        "\n",
        "plt.show()"
      ]
    },
    {
      "cell_type": "markdown",
      "metadata": {
        "id": "EVkkhJbcdDDa"
      },
      "source": [
        "The median education title is 5, indicating that 50% of the individuals have an education title less than or equal to 5.\n",
        "\n",
        "The box plot shows a slight right skew, as the whisker on the right side is longer than the whisker on the left side. This indicates that there are a few individuals with higher education titles, but the majority of individuals have lower education titles.\n"
      ]
    },
    {
      "cell_type": "code",
      "execution_count": null,
      "metadata": {
        "id": "XxOhNvQBnHOa"
      },
      "outputs": [],
      "source": [
        "df['InjuryType'].value_counts()"
      ]
    },
    {
      "cell_type": "markdown",
      "metadata": {
        "id": "mCCQRsSun1vF"
      },
      "source": [
        "###Info InjuryType Encoding\n",
        "\n",
        "```\n",
        "We are using ordinal encoding for \"InjuryType\" because this method assigns numerical values to categories based on a meaningful order.\n",
        " In the case of injury severity, there is a natural hierarchy from minor to more serious conditions. For example:\n",
        "\n",
        "1. Minor\n",
        "2. Single Fracture\n",
        "3. Head Injury\n",
        "4. Multiple Fractures\n",
        "5. Spinal Injury\n",
        "\n",
        "By using ordinal encoding, you can capture this ordinal relationship, where higher numbers represent more severe injuries.\n",
        "```\n",
        "\n"
      ]
    },
    {
      "cell_type": "markdown",
      "metadata": {
        "id": "7phgoXuVxbJD"
      },
      "source": [
        "###InjuryType Visualization Bar Chart"
      ]
    },
    {
      "cell_type": "code",
      "execution_count": null,
      "metadata": {
        "id": "P2RMYNwJxmvv"
      },
      "outputs": [],
      "source": [
        "df['InjuryType'].value_counts().plot(kind='bar', color=['blue', 'red'])\n",
        "\n",
        "\n",
        "plt.show()"
      ]
    },
    {
      "cell_type": "markdown",
      "metadata": {
        "id": "4bYRbsONx2s6"
      },
      "source": [
        "###InjuryType Encoding"
      ]
    },
    {
      "cell_type": "code",
      "execution_count": null,
      "metadata": {
        "id": "A1epdJr4x-gm"
      },
      "outputs": [],
      "source": [
        "injury_order = [['Minor','Single Fracture', 'Multiple Fractures','Spinal Injury','Head Injury']]\n",
        "\n",
        "ordinal_encoder = OrdinalEncoder(categories=injury_order)\n",
        "\n",
        "df['InjuryType'] = ordinal_encoder.fit_transform(df[['InjuryType']])\n",
        "\n"
      ]
    },
    {
      "cell_type": "code",
      "execution_count": null,
      "metadata": {
        "id": "cVQMneLKy02l"
      },
      "outputs": [],
      "source": [
        "df['InjuryType'].value_counts()"
      ]
    },
    {
      "cell_type": "markdown",
      "metadata": {
        "id": "B3t84ZvyyZch"
      },
      "source": [
        "###InjuryType Visualization histogram\n"
      ]
    },
    {
      "cell_type": "code",
      "execution_count": null,
      "metadata": {
        "id": "YtNUjyQ5yx-g"
      },
      "outputs": [],
      "source": [
        "import matplotlib.pyplot as plt\n",
        "import seaborn as sns\n",
        "\n",
        "# Map injury type codes to descriptive labels\n",
        "injury_mapping = {0: 'Minor', 1: 'Single Fracture', 2: 'Multiple Fractures',\n",
        "                  3: 'Spinal Injury', 4: 'Head Injury'}\n",
        "\n",
        "# Convert encoded values to descriptive labels\n",
        "encoded_values = df['InjuryType']\n",
        "injury_labels = [injury_mapping[val] for val in encoded_values]\n",
        "\n",
        "# Set up figure size and style\n",
        "plt.figure(figsize=(10, 7))\n",
        "sns.set_theme(style=\"whitegrid\")  # Use a clean grid style\n",
        "\n",
        "# Use a modern color palette and sorted order\n",
        "palette = sns.color_palette(\"coolwarm\", len(injury_mapping))\n",
        "sns.countplot(x=injury_labels, order=injury_mapping.values(), palette=palette)\n",
        "\n",
        "# Add a title and axis labels with larger fonts and bold text\n",
        "plt.title('Distribution of Injury Types', fontsize=18, weight='bold')\n",
        "plt.xlabel('Injury Type', fontsize=14, weight='bold')\n",
        "plt.ylabel('Count', fontsize=14, weight='bold')\n",
        "\n",
        "# Rotate x-axis labels for better readability\n",
        "plt.xticks(rotation=30, fontsize=12, weight='bold')\n",
        "\n",
        "# Adjust layout and display the plot\n",
        "plt.tight_layout()\n",
        "plt.show()\n"
      ]
    },
    {
      "cell_type": "code",
      "execution_count": null,
      "metadata": {
        "id": "mNJTyeSxDmh7"
      },
      "outputs": [],
      "source": [
        "df['PatientStatus'].value_counts()"
      ]
    },
    {
      "cell_type": "markdown",
      "metadata": {
        "id": "XBCmtd2QDQMk"
      },
      "source": [
        "###Info Patient status Encoding\n",
        "\n",
        "```\n",
        "For the columns Patient status, we will apply Ordinal Encoding,\n",
        "because these features have a strong inherent order\n",
        "```"
      ]
    },
    {
      "cell_type": "markdown",
      "metadata": {
        "id": "iFx1VQGGEgpA"
      },
      "source": [
        "###InjuryType Visualization Bar Chart"
      ]
    },
    {
      "cell_type": "code",
      "execution_count": null,
      "metadata": {
        "id": "57olwwwQEhl3"
      },
      "outputs": [],
      "source": [
        "df['PatientStatus'].value_counts().plot(kind='bar', color=['blue', 'red'])\n",
        "\n",
        "\n",
        "plt.show()\n"
      ]
    },
    {
      "cell_type": "markdown",
      "metadata": {
        "id": "9EjhMdWaEmRK"
      },
      "source": [
        "###PatientStatus Encoding\n"
      ]
    },
    {
      "cell_type": "code",
      "execution_count": null,
      "metadata": {
        "id": "2-MNHT9BEqAw"
      },
      "outputs": [],
      "source": [
        "# Define the categories for encoding\n",
        "PatientStatus = [['Alive & unstable', 'Alive & stable', 'Dead']]\n",
        "\n",
        "# Initialize the OrdinalEncoder\n",
        "encoder = OrdinalEncoder(categories=PatientStatus)\n",
        "\n",
        "# Ensure the column is of type object or string\n",
        "df['PatientStatus'] = df['PatientStatus']\n",
        "# Apply the encoder to transform the column\n",
        "df['PatientStatus'] = encoder.fit_transform(df[['PatientStatus']])\n",
        "\n",
        "# Check the DataFrame info\n",
        "df.info()\n"
      ]
    },
    {
      "cell_type": "code",
      "execution_count": null,
      "metadata": {
        "id": "LmzLxAGCEs9y"
      },
      "outputs": [],
      "source": [
        "df['PatientStatus'].value_counts()\n"
      ]
    },
    {
      "cell_type": "code",
      "source": [
        "# Ensure PatientStatus contains integers\n",
        "encoded_values = df['PatientStatus']\n",
        "\n",
        "# Map the encoded values back to descriptive labels\n",
        "PatientStatus_mapping = {0: 'Alive & unstable', 1: 'Alive & stable', 2: 'Dead'}\n",
        "PatientStatus_mapping_labels = [PatientStatus_mapping[val] for val in encoded_values]\n",
        "\n",
        "# Prepare the plot\n",
        "plt.figure(figsize=(10, 7))\n",
        "sns.set_theme(style=\"whitegrid\")\n",
        "\n",
        "# Define a vibrant color palette\n",
        "palette = sns.color_palette(\"mako\", len(PatientStatus_mapping))\n",
        "\n",
        "# Plot the data using a count plot\n",
        "sns.countplot(\n",
        "    x=PatientStatus_mapping_labels,\n",
        "    order=list(PatientStatus_mapping.values()),  # Ensure correct order\n",
        "    palette=palette\n",
        ")\n",
        "\n",
        "# Add a title and labels with custom fonts\n",
        "plt.title('Distribution of Patient Status', fontsize=18, weight='bold', color=\"darkblue\")\n",
        "plt.xlabel('Patient Status', fontsize=14, weight='bold', color=\"darkblue\")\n",
        "plt.ylabel('Count', fontsize=14, weight='bold', color=\"darkblue\")\n",
        "\n",
        "# Rotate x-axis labels for better readability\n",
        "plt.xticks(rotation=30, fontsize=12, weight='bold', color=\"darkblue\")\n",
        "\n",
        "# Add grid lines for better data visualization\n",
        "plt.grid(axis='y', linestyle='--', alpha=0.7)\n",
        "\n",
        "# Adjust layout and display the plot\n",
        "plt.tight_layout()\n",
        "plt.show()\n"
      ],
      "metadata": {
        "id": "20K0NzwKp1c7"
      },
      "execution_count": null,
      "outputs": []
    },
    {
      "cell_type": "markdown",
      "metadata": {
        "id": "GLNbgvcjebCo"
      },
      "source": [
        "##Label Encoding"
      ]
    },
    {
      "cell_type": "code",
      "execution_count": null,
      "metadata": {
        "id": "kLDzZaLefP-O"
      },
      "outputs": [],
      "source": [
        "df['EmergencyArea'].value_counts()"
      ]
    },
    {
      "cell_type": "markdown",
      "metadata": {
        "id": "a3ISpf2Dhvw2"
      },
      "source": [
        "###Info EmergencyArea Encoding\n",
        "\n",
        "```\n",
        "The EmergencyArea column contains numerous unique locations, with varying frequencies of incidents at each.\n",
        " Label encoding was applied to convert these categorical values into numerical labels for machine learning models.\n",
        "  While label encoding simplifies the data for models, it doesn't capture the significance of frequent locations.\n",
        "```\n",
        "\n"
      ]
    },
    {
      "cell_type": "markdown",
      "metadata": {
        "id": "p0CU0GIh3KVw"
      },
      "source": [
        "###EmergencyArea Encoding"
      ]
    },
    {
      "cell_type": "code",
      "execution_count": null,
      "metadata": {
        "id": "hOTc3pUHiyqz"
      },
      "outputs": [],
      "source": [
        "df['EmergencyArea'].value_counts()"
      ]
    },
    {
      "cell_type": "code",
      "source": [
        "frequency_encoding = df['EmergencyArea'].value_counts()\n",
        "\n",
        "# Map the frequencies to the 'EmergencyArea' column\n",
        "df['EmergencyArea'] = df['EmergencyArea'].map(frequency_encoding)\n",
        "\n"
      ],
      "metadata": {
        "id": "0rFZ__Lywzxc"
      },
      "execution_count": null,
      "outputs": []
    },
    {
      "cell_type": "code",
      "execution_count": null,
      "metadata": {
        "id": "EPZhfeXdtazv"
      },
      "outputs": [],
      "source": [
        "df['EmergencyArea'].value_counts()"
      ]
    },
    {
      "cell_type": "markdown",
      "metadata": {
        "id": "yWDjXlLoaToW"
      },
      "source": [
        "###EmergencyArea Visualization Box Plot"
      ]
    },
    {
      "cell_type": "code",
      "execution_count": null,
      "metadata": {
        "id": "kbMSn4B_aZ4W"
      },
      "outputs": [],
      "source": [
        "plt.figure(figsize=(10, 6))\n",
        "sns.boxplot(x=df['EmergencyArea'])\n",
        "\n",
        "plt.show()"
      ]
    },
    {
      "cell_type": "markdown",
      "metadata": {
        "id": "Jo-VJNxpeFJC"
      },
      "source": [
        " The median value, represented by the line inside the box, is approximately 20,000. This suggests that the middle 50% of the data\n",
        " points fall within the range of 10,000 to 25,000.\n",
        "\n",
        "There are no visible outliers, as there are no data points outside of the whiskers."
      ]
    },
    {
      "cell_type": "markdown",
      "metadata": {
        "id": "ZYqHHdy2cW6m"
      },
      "source": [
        "###EmergencyArea Visualization Histogram"
      ]
    },
    {
      "cell_type": "code",
      "execution_count": null,
      "metadata": {
        "id": "lW7A2RhLbahJ"
      },
      "outputs": [],
      "source": [
        "df['EmergencyArea'].plot(kind='hist', color='red')\n",
        "plt.title('Distribution of EmergencyArea')\n",
        "plt.xlabel('EmergencyArea')\n",
        "plt.ylabel('Frequency')\n",
        "plt.show()\n"
      ]
    },
    {
      "cell_type": "markdown",
      "metadata": {
        "id": "afB7wZCoeXrZ"
      },
      "source": [
        "The histogram shows a relatively uniform distribution, with a consistent frequency across most of the \"Emergency Area\" values. There is no clear peak or skew in the data.\n",
        "\n",
        "The range of \"Emergency Area\" values appears to be from approximately 0 to 35,000.\n",
        "\n",
        "The frequency of each value seems to be around 4,000-5,000, with some minor variations."
      ]
    },
    {
      "cell_type": "code",
      "execution_count": null,
      "metadata": {
        "id": "CvYCLgm4DcAX"
      },
      "outputs": [],
      "source": [
        "df['EmergencyArea']  = (df['EmergencyArea'] - df['EmergencyArea'].mean())/df['EmergencyArea'].max()"
      ]
    },
    {
      "cell_type": "code",
      "source": [
        "df['EmergencyArea'].value_counts()"
      ],
      "metadata": {
        "id": "TY-JvAGwropy"
      },
      "execution_count": null,
      "outputs": []
    },
    {
      "cell_type": "markdown",
      "metadata": {
        "id": "b5tDNAjE3S5F"
      },
      "source": [
        "###Info Cause Encoding\n",
        "\n",
        "\n",
        "\n",
        "\n",
        "```\n",
        "Label encoding is used for the Cause column to convert categorical values (e.g., \"Over Speed,\" \"Carelessness\")\n",
        "into numeric labels that machine learning models can process.\n",
        "This is especially helpful for algorithms\n",
        "like decision trees or random forests, which handle numerical data efficiently.\n",
        "```\n",
        "\n"
      ]
    },
    {
      "cell_type": "code",
      "execution_count": null,
      "metadata": {
        "id": "ARNXUD-v5vzN"
      },
      "outputs": [],
      "source": [
        "df['Cause'].value_counts()"
      ]
    },
    {
      "cell_type": "markdown",
      "metadata": {
        "id": "L6MNiEnocuUw"
      },
      "source": [
        "###Cause Visualization Bar chart\n",
        "\n",
        "\n"
      ]
    },
    {
      "cell_type": "code",
      "execution_count": null,
      "metadata": {
        "id": "3E_n5pBsdZyz"
      },
      "outputs": [],
      "source": [
        "df['Cause'].value_counts().plot(kind='bar', color=['blue', 'red'])\n",
        "\n",
        "\n",
        "plt.show()"
      ]
    },
    {
      "cell_type": "markdown",
      "metadata": {
        "id": "4QXDTEF45KTn"
      },
      "source": [
        "###Cause Label Encoding"
      ]
    },
    {
      "cell_type": "code",
      "execution_count": null,
      "metadata": {
        "id": "djaHAwB25QoH"
      },
      "outputs": [],
      "source": [
        "encoder = LabelEncoder()\n",
        "df['Cause'] = encoder.fit_transform(df['Cause'])\n",
        "df.info()"
      ]
    },
    {
      "cell_type": "code",
      "execution_count": null,
      "metadata": {
        "id": "uwZw3Rcw5ZXb"
      },
      "outputs": [],
      "source": [
        "df['Cause'].value_counts()"
      ]
    },
    {
      "cell_type": "markdown",
      "metadata": {
        "id": "vFjO-tbjd8RQ"
      },
      "source": [
        "###Cause Visualization Histogram\n"
      ]
    },
    {
      "cell_type": "code",
      "execution_count": null,
      "metadata": {
        "id": "1pX2hz0YeDbU"
      },
      "outputs": [],
      "source": [
        "df['Cause'].plot(kind='hist', color='red')\n",
        "plt.title('Distribution of Cause')\n",
        "plt.xlabel('Cause')\n",
        "plt.show()\n"
      ]
    },
    {
      "cell_type": "code",
      "source": [
        "df['Cause']  = (df['Cause'] - df['Cause'].mean())/df['Cause'].max()"
      ],
      "metadata": {
        "id": "0DM9SR06rTM4"
      },
      "execution_count": null,
      "outputs": []
    },
    {
      "cell_type": "code",
      "source": [
        "df['Cause'].value_counts()"
      ],
      "metadata": {
        "id": "CvcuSeLCsHOz"
      },
      "execution_count": null,
      "outputs": []
    },
    {
      "cell_type": "code",
      "execution_count": null,
      "metadata": {
        "id": "8e9fOaknqLOq"
      },
      "outputs": [],
      "source": [
        "df['Reason'].value_counts()"
      ]
    },
    {
      "cell_type": "markdown",
      "metadata": {
        "id": "BDVzr6FxuOxh"
      },
      "source": [
        "###Fill 'Same' data with forward fill"
      ]
    },
    {
      "cell_type": "code",
      "execution_count": null,
      "metadata": {
        "id": "-LS74FiUqJ5R"
      },
      "outputs": [],
      "source": [
        "df['Reason'] = df['Reason'].replace(['Same', 'same','Same ','.'], pd.NA)\n",
        "\n",
        "# Forward fill the NaN values with the value from the previous row\n",
        "df['Reason'] = df['Reason'].fillna(method='ffill')\n",
        "\n",
        "df['Reason'].value_counts()"
      ]
    },
    {
      "cell_type": "markdown",
      "metadata": {
        "id": "dnXK733xuaX9"
      },
      "source": [
        "###Reason Encoding"
      ]
    },
    {
      "cell_type": "code",
      "execution_count": null,
      "metadata": {
        "id": "MoP0ehcc7Ktc"
      },
      "outputs": [],
      "source": [
        "encoder = LabelEncoder()\n",
        "df['Reason'] = encoder.fit_transform(df['Reason'])\n",
        "df.info()"
      ]
    },
    {
      "cell_type": "code",
      "execution_count": null,
      "metadata": {
        "id": "_cXMBmJOukJ7"
      },
      "outputs": [],
      "source": [
        "df['Reason'].value_counts()"
      ]
    },
    {
      "cell_type": "markdown",
      "metadata": {
        "id": "DVaYiFXz43tg"
      },
      "source": [
        "###Reason Visualization Box plot"
      ]
    },
    {
      "cell_type": "code",
      "execution_count": null,
      "metadata": {
        "id": "jEXGCd8s9EWf"
      },
      "outputs": [],
      "source": [
        "plt.figure(figsize=(10, 6))\n",
        "sns.boxplot(x=df['Reason'])\n",
        "\n",
        "plt.show()"
      ]
    },
    {
      "cell_type": "markdown",
      "metadata": {
        "id": "pWsDpjkm5Vzv"
      },
      "source": [
        " The median value, represented by the line inside the box, is approximately 15,000. This suggests that the middle 50% of the data points fall within the range of 10,000 to 20,000.\n",
        "\n",
        "There are no visible outliers, as there are no data points outside of the whiskers.\n"
      ]
    },
    {
      "cell_type": "markdown",
      "metadata": {
        "id": "V2GqBEqS68Ol"
      },
      "source": [
        "###Reason Visualization Histogram\n"
      ]
    },
    {
      "cell_type": "code",
      "execution_count": null,
      "metadata": {
        "id": "OQD5BqT6ktol"
      },
      "outputs": [],
      "source": [
        "df['Reason'].plot(kind='hist', color=[ 'red'])\n",
        "plt.show()"
      ]
    },
    {
      "cell_type": "markdown",
      "metadata": {
        "id": "LG-QYerQgN29"
      },
      "source": [
        "The histogram shows a skewed distribution, with a peak around the values 10,000 to 15,000 and a longer tail extending towards higher values.\n",
        "\n",
        "The range of values appears to be from approximately 0 to 25,000.\n"
      ]
    },
    {
      "cell_type": "code",
      "execution_count": null,
      "metadata": {
        "id": "eqsTFwkvDXIA"
      },
      "outputs": [],
      "source": [
        "df['Reason']  = (df['Reason'] - df['Reason'].mean())/df['Reason'].max()"
      ]
    },
    {
      "cell_type": "code",
      "source": [
        "df['Reason'].value_counts()"
      ],
      "metadata": {
        "id": "FyU-7rpgsTFA"
      },
      "execution_count": null,
      "outputs": []
    },
    {
      "cell_type": "markdown",
      "metadata": {
        "id": "8Deo6MiaKmsV"
      },
      "source": [
        "##One Hot Encoding"
      ]
    },
    {
      "cell_type": "markdown",
      "metadata": {
        "id": "oKdZT5lDuAgM"
      },
      "source": [
        "###Info Gender Encoding\n",
        "\n",
        "```\n",
        "We utilize one-hot encoding for Gender and Injury Type due to the lack of a coherent ordinal relationship\n",
        "among their values. This technique allows us to represent categorical variables as binary vectors, ensuring that\n",
        "each category is treated independently.\n",
        "\n",
        "```\n",
        "\n"
      ]
    },
    {
      "cell_type": "code",
      "execution_count": null,
      "metadata": {
        "id": "AjtE0nQrjuiu"
      },
      "outputs": [],
      "source": [
        "df['Gender'].value_counts()\n",
        "\n"
      ]
    },
    {
      "cell_type": "code",
      "execution_count": null,
      "metadata": {
        "id": "SJMCIvDVHt9g"
      },
      "outputs": [],
      "source": [
        "#print the '0' column whole row from gender\n",
        "df[df['Gender'] == '0']\n",
        "\n"
      ]
    },
    {
      "cell_type": "markdown",
      "metadata": {
        "id": "HbHozWYxI5bO"
      },
      "source": [
        "As the TotalPatientsInEmergency is not in perfect form same goes for Gender we can just delete this row"
      ]
    },
    {
      "cell_type": "code",
      "execution_count": null,
      "metadata": {
        "id": "V49XUnCPJGer"
      },
      "outputs": [],
      "source": [
        "#drop the row where Gender value is '0'\n",
        "df.drop(df[df['Gender'] == '0'].index, inplace=True)\n",
        "df['Gender'].value_counts()"
      ]
    },
    {
      "cell_type": "markdown",
      "metadata": {
        "id": "bPXpErCEvQ9a"
      },
      "source": [
        "###Gender Visualization Pie chart\n"
      ]
    },
    {
      "cell_type": "code",
      "execution_count": null,
      "metadata": {
        "id": "kJSiYMo_vXgl"
      },
      "outputs": [],
      "source": [
        "df['Gender'].value_counts().plot(kind='pie', colors=['orange', 'blue','purple'])\n",
        "plt.show()"
      ]
    },
    {
      "cell_type": "markdown",
      "metadata": {
        "id": "ZIGGZVcnvlud"
      },
      "source": [
        "###Gender Visualization Bar chart\n"
      ]
    },
    {
      "cell_type": "code",
      "execution_count": null,
      "metadata": {
        "id": "bmu_eazYvopx"
      },
      "outputs": [],
      "source": [
        "df['Gender'].value_counts().plot(kind='bar', color=['red', 'orange','purple'])\n",
        "plt.show()"
      ]
    },
    {
      "cell_type": "markdown",
      "metadata": {
        "id": "H56HD7lSwRx1"
      },
      "source": [
        "###Gender One Hot Encode"
      ]
    },
    {
      "cell_type": "code",
      "execution_count": null,
      "metadata": {
        "id": "ZpNGfGeAuRHL"
      },
      "outputs": [],
      "source": [
        "#convert gender into one-hot encoding\n",
        "df = pd.get_dummies(df, columns=['Gender'])\n",
        "df.info()"
      ]
    },
    {
      "cell_type": "markdown",
      "metadata": {
        "id": "fmKd3rNgGdrV"
      },
      "source": [
        "##Convert TotalPatientsInEmergency into numerical"
      ]
    },
    {
      "cell_type": "code",
      "execution_count": null,
      "metadata": {
        "id": "G2b45BRxGxsl"
      },
      "outputs": [],
      "source": [
        "df['TotalPatientsInEmergency'].value_counts()"
      ]
    },
    {
      "cell_type": "code",
      "execution_count": null,
      "metadata": {
        "id": "4QL4J35CLPqA"
      },
      "outputs": [],
      "source": [
        "df['TotalPatientsInEmergency'] = df['TotalPatientsInEmergency'].astype(float)\n",
        "df.info()\n"
      ]
    },
    {
      "cell_type": "code",
      "source": [
        "import pandas as pd\n",
        "import numpy as np\n",
        "\n",
        "df['TotalPatientsInEmergency'] = np.log1p(df['TotalPatientsInEmergency'])"
      ],
      "metadata": {
        "id": "UAsMreAYzTEP"
      },
      "execution_count": null,
      "outputs": []
    },
    {
      "cell_type": "code",
      "source": [
        "df['TotalPatientsInEmergency'].value_counts()"
      ],
      "metadata": {
        "id": "Jhm5nASEzYqc"
      },
      "execution_count": null,
      "outputs": []
    },
    {
      "cell_type": "markdown",
      "metadata": {
        "id": "BMp6OB94G60r"
      },
      "source": [
        "###TotalPatientEmergency Visualization Histogram\n"
      ]
    },
    {
      "cell_type": "code",
      "execution_count": null,
      "metadata": {
        "id": "HwgETlBeG97X"
      },
      "outputs": [],
      "source": [
        "plt.figure(figsize=(10, 6))\n",
        "plt.hist(df['TotalPatientsInEmergency'], bins=20, color='skyblue', edgecolor='black')\n",
        "\n",
        "# Title and labels\n",
        "plt.title('Distribution of Total Patients in Emergency', fontsize=16)\n",
        "plt.xlabel('Number of Patients', fontsize=12)\n",
        "plt.ylabel('Frequency', fontsize=12)\n",
        "\n",
        "# Optional: Add grid and adjust spines\n",
        "plt.grid(axis='y', alpha=0.75)\n",
        "plt.gca().spines[['top', 'right']].set_visible(False)\n",
        "\n",
        "# Show the plot\n",
        "plt.tight_layout()\n",
        "plt.show()"
      ]
    },
    {
      "cell_type": "markdown",
      "metadata": {
        "id": "G0OHz7gzOuXS"
      },
      "source": [
        " The distribution is heavily skewed to the right, with a long tail extending towards higher numbers of patients. This indicates that there are a few instances with a very large number of patients, which significantly impacts the overall distribution."
      ]
    },
    {
      "cell_type": "markdown",
      "metadata": {
        "id": "7ml7rF-bXO-l"
      },
      "source": [
        "#Assignment 2(Phase 2)\n",
        "\n"
      ]
    },
    {
      "cell_type": "markdown",
      "metadata": {
        "id": "bx1BLGGrNbV5"
      },
      "source": [
        "#For InjuryType"
      ]
    },
    {
      "cell_type": "markdown",
      "metadata": {
        "id": "at1dG47pxHRL"
      },
      "source": [
        "##Split Into Train and Test Sets for InjuryType"
      ]
    },
    {
      "cell_type": "code",
      "execution_count": null,
      "metadata": {
        "id": "5oyVYHH27lGb"
      },
      "outputs": [],
      "source": [
        "# X = df.drop(columns=['InjuryType'])\n",
        "# Y = df['InjuryType']\n",
        "\n",
        "# #Perform train-test split (80% train, 20% test)\n",
        "# X_train_InjuryType_p2, X_test_InjuryType_p2, y_train_InjuryType_p2, y_test_InjuryType_p2 = train_test_split(X, Y, test_size=0.2, random_state=42)\n"
      ]
    },
    {
      "cell_type": "markdown",
      "metadata": {
        "id": "0sdKt19iNtbc"
      },
      "source": [
        "##Model Train"
      ]
    },
    {
      "cell_type": "code",
      "execution_count": null,
      "metadata": {
        "id": "hdmrHv-FNifb"
      },
      "outputs": [],
      "source": [
        "# model = LogisticRegression(random_state=42)\n",
        "# model.fit(X_train_InjuryType_p2, y_train_InjuryType_p2)\n",
        "# y_pred_InjuryType_p2 = model.predict(X_test_InjuryType_p2)"
      ]
    },
    {
      "cell_type": "markdown",
      "metadata": {
        "id": "o2LfMUOmNwYB"
      },
      "source": [
        "##Accuracy, Precision, Recall, F1 Score measure\n"
      ]
    },
    {
      "cell_type": "code",
      "execution_count": null,
      "metadata": {
        "id": "q3Nhip6LOIFm"
      },
      "outputs": [],
      "source": [
        "# #accuray , precision recall f1 score measure\n",
        "# accuracy_InjuryType_p2 = accuracy_score(y_test_InjuryType_p2, y_pred_InjuryType_p2)\n",
        "# precision_InjuryType_p2 = precision_score(y_test_InjuryType_p2, y_pred_InjuryType_p2, average='weighted', zero_division=0)\n",
        "# recall_InjuryType_p2 = recall_score(y_test_InjuryType_p2, y_pred_InjuryType_p2, average='weighted')\n",
        "# f1_InjuryType_p2 = f1_score(y_test_InjuryType_p2, y_pred_InjuryType_p2, average='weighted')\n",
        "\n",
        "# print(f\"Accuracy: {accuracy_InjuryType_p2:.4f}\")\n",
        "# print(f\"Precision: {precision_InjuryType_p2:.4f}\")\n",
        "# print(f\"Recall: {recall_InjuryType_p2:.4f}\")\n",
        "# print(f\"F1 Score: {f1_InjuryType_p2:.4f}\")"
      ]
    },
    {
      "cell_type": "markdown",
      "metadata": {
        "id": "e6vKAZDyORzU"
      },
      "source": [
        "##confusion matrix plot"
      ]
    },
    {
      "cell_type": "code",
      "execution_count": null,
      "metadata": {
        "id": "Oi-7BiwEOpZM"
      },
      "outputs": [],
      "source": [
        "# #confusion matrix plot\n",
        "# import matplotlib.pyplot as plt\n",
        "# import seaborn as sns\n",
        "# from sklearn.metrics import confusion_matrix, ConfusionMatrixDisplay\n",
        "# # Compute the confusion matrix\n",
        "# cm = confusion_matrix(y_test_InjuryType_p2, y_pred_InjuryType_p2)\n",
        "# labels = model.classes_\n",
        "\n",
        "# # Plotting the confusion matrix\n",
        "# plt.figure(figsize=(8, 6))\n",
        "# sns.heatmap(cm, annot=True, fmt=\"d\", cmap=\"YlOrBr\", xticklabels=labels, yticklabels=labels)\n",
        "# plt.xlabel(\"Predicted Labels\")\n",
        "# plt.ylabel(\"True Labels\")\n",
        "# plt.title(\"Confusion Matrix for Logistic Regression Model\")\n",
        "# plt.show()\n"
      ]
    },
    {
      "cell_type": "markdown",
      "metadata": {
        "id": "14-QWGMeOcU6"
      },
      "source": [
        "##Accuracy, Precision, Recall, F1 Score plot"
      ]
    },
    {
      "cell_type": "code",
      "execution_count": null,
      "metadata": {
        "id": "gpSq1CydRgmN"
      },
      "outputs": [],
      "source": [
        "# metrics = ['Accuracy', 'Precision', 'Recall', 'F1 Score']\n",
        "# scores = [accuracy_InjuryType_p2, precision_InjuryType_p2, recall_InjuryType_p2, f1_InjuryType_p2]\n",
        "\n",
        "# # Plotting the metrics\n",
        "# plt.figure(figsize=(8, 6))\n",
        "# sns.barplot(x=metrics, y=scores, palette=\"Greens\")\n",
        "# plt.ylim(0, 1)\n",
        "# plt.ylabel(\"Score\")\n",
        "# plt.title(\"Model Performance Metrics\")\n",
        "# for i, v in enumerate(scores):\n",
        "#     plt.text(i, v + 0.02, f\"{v:.2f}\", ha='center', fontweight='bold')\n",
        "# plt.show()"
      ]
    },
    {
      "cell_type": "markdown",
      "metadata": {
        "id": "XGhOrewSeoPy"
      },
      "source": [
        "##Solver and Max_iter"
      ]
    },
    {
      "cell_type": "code",
      "execution_count": null,
      "metadata": {
        "id": "2P74evBTeSph"
      },
      "outputs": [],
      "source": [
        "# solvers = ['lbfgs', 'liblinear', 'newton-cg', 'newton-cholesky', 'sag', 'saga']\n",
        "# max_iters = [50, 100, 150, 200, 250, 300]\n",
        "\n",
        "# solver_results = []\n",
        "# max_iter_results = []\n",
        "# for solver in solvers:\n",
        "#     model_solver = LogisticRegression(solver=solver)\n",
        "#     model_solver.fit(X_train_InjuryType_p2, y_train_InjuryType_p2)\n",
        "#     y_pred_solver = model_solver.predict(X_test_InjuryType_p2)\n",
        "\n",
        "#     # Calculate metrics\n",
        "#     accuracy_solver = accuracy_score(y_test_InjuryType_p2, y_pred_solver)\n",
        "\n",
        "\n",
        "#     solver_results.append((solver, accuracy_solver))\n",
        "\n",
        "# # Evaluate each max_iter\n",
        "# for max_iter in max_iters:\n",
        "#     model_max_iter = LogisticRegression(max_iter=max_iter)\n",
        "#     model_max_iter.fit(X_train_InjuryType_p2, y_train_InjuryType_p2)\n",
        "#     y_pred_max_iter = model_max_iter.predict(X_test_InjuryType_p2)\n",
        "\n",
        "#     # Calculate metrics\n",
        "#     accuracy_max_iter = accuracy_score(y_test_InjuryType_p2, y_pred_max_iter)\n",
        "\n",
        "\n",
        "#     max_iter_results.append((max_iter, accuracy_max_iter))"
      ]
    },
    {
      "cell_type": "code",
      "execution_count": null,
      "metadata": {
        "id": "Mte4_5y6em-D"
      },
      "outputs": [],
      "source": [
        "# solvers = [result[0] for result in solver_results]\n",
        "# solver_accuracies = [result[1] for result in solver_results]\n",
        "\n",
        "# max_iters = [result[0] for result in max_iter_results]\n",
        "# max_iter_accuracies = [result[1] for result in max_iter_results]\n",
        "\n",
        "# # Plot Accuracy vs Solver\n",
        "# plt.figure(figsize=(10, 5))\n",
        "# plt.plot(solvers, solver_accuracies, marker='o', color='b')\n",
        "# plt.xlabel('Solver')\n",
        "# plt.ylabel('Accuracy')\n",
        "# plt.title('Accuracy vs Solver')\n",
        "# plt.grid(True)\n",
        "# plt.show()\n",
        "\n",
        "# # Plot Accuracy vs Max_iter\n",
        "# plt.figure(figsize=(10, 5))\n",
        "# plt.plot(max_iters, max_iter_accuracies, marker='o', color='r')\n",
        "# plt.xlabel('Max Iterations')\n",
        "# plt.ylabel('Accuracy')\n",
        "# plt.title('Accuracy vs Max_iter')\n",
        "# plt.grid(True)\n",
        "# plt.show()"
      ]
    },
    {
      "cell_type": "markdown",
      "metadata": {
        "id": "obwyrJnveukB"
      },
      "source": [
        "#For PatientStatus"
      ]
    },
    {
      "cell_type": "markdown",
      "metadata": {
        "id": "Ofafgf8-Gs-z"
      },
      "source": [
        "##Split Into Train and Test Sets for PatientStatus"
      ]
    },
    {
      "cell_type": "code",
      "execution_count": null,
      "metadata": {
        "id": "pH9EfXujGvld"
      },
      "outputs": [],
      "source": [
        "# X = df.drop(columns=['PatientStatus'])\n",
        "# Y = df['PatientStatus']\n",
        "\n",
        "\n",
        "# X_train_PatientStatus_p2, X_test_PatientStatus_p2, y_train_PatientStatus_p2, y_test_PatientStatus_p2 = train_test_split(X, Y, test_size=0.2, random_state=42)"
      ]
    },
    {
      "cell_type": "markdown",
      "metadata": {
        "id": "YiOUT7VdfHuG"
      },
      "source": [
        "##Model Train"
      ]
    },
    {
      "cell_type": "code",
      "execution_count": null,
      "metadata": {
        "id": "REzMfIFNfM0R"
      },
      "outputs": [],
      "source": [
        "# model = LogisticRegression(random_state=42)\n",
        "# model.fit(X_train_PatientStatus_p2, y_train_PatientStatus_p2)\n",
        "# y_pred_PatientStatus_p2 = model.predict(X_test_PatientStatus_p2)"
      ]
    },
    {
      "cell_type": "markdown",
      "metadata": {
        "id": "llPA7fqkfTdT"
      },
      "source": [
        "##Accuracy, Precision, Recall, F1 Score measure\n"
      ]
    },
    {
      "cell_type": "code",
      "execution_count": null,
      "metadata": {
        "id": "sRkhPVd2fWPA"
      },
      "outputs": [],
      "source": [
        "# #accuray , precision recall f1 score measure\n",
        "# accuracy_PatientStatus_p2 = accuracy_score(y_test_PatientStatus_p2, y_pred_PatientStatus_p2)\n",
        "# precision_PatientStatus_p2 = precision_score(y_test_PatientStatus_p2, y_pred_PatientStatus_p2, average='weighted', zero_division=0)\n",
        "# recall_PatientStatus_p2 = recall_score(y_test_PatientStatus_p2, y_pred_PatientStatus_p2, average='weighted')\n",
        "# f1_PatientStatus_p2 = f1_score(y_test_PatientStatus_p2, y_pred_PatientStatus_p2, average='weighted')\n",
        "\n",
        "# print(f\"Accuracy: {accuracy_PatientStatus_p2:.4f}\")\n",
        "# print(f\"Precision: {accuracy_PatientStatus_p2:.4f}\")\n",
        "# print(f\"Recall: {accuracy_PatientStatus_p2:.4f}\")\n",
        "# print(f\"F1 Score: {accuracy_PatientStatus_p2:.4f}\")"
      ]
    },
    {
      "cell_type": "markdown",
      "metadata": {
        "id": "rLPo1pyrfZg-"
      },
      "source": [
        "##confusion matrix plot"
      ]
    },
    {
      "cell_type": "code",
      "execution_count": null,
      "metadata": {
        "id": "QYtV-IMkfc0W"
      },
      "outputs": [],
      "source": [
        "# #confusion matrix plot\n",
        "# import matplotlib.pyplot as plt\n",
        "# import seaborn as sns\n",
        "# from sklearn.metrics import confusion_matrix, ConfusionMatrixDisplay\n",
        "# # Compute the confusion matrix\n",
        "# cm = confusion_matrix(y_test_PatientStatus_p2, y_pred_PatientStatus_p2)\n",
        "# labels = model.classes_\n",
        "\n",
        "# # Plotting the confusion matrix\n",
        "# plt.figure(figsize=(8, 6))\n",
        "# sns.heatmap(cm, annot=True, fmt=\"d\", cmap=\"YlOrBr\", xticklabels=labels, yticklabels=labels)\n",
        "# plt.xlabel(\"Predicted Labels\")\n",
        "# plt.ylabel(\"True Labels\")\n",
        "# plt.title(\"Confusion Matrix for Logistic Regression Model\")\n",
        "# plt.show()"
      ]
    },
    {
      "cell_type": "markdown",
      "metadata": {
        "id": "nf5EVngJf97s"
      },
      "source": [
        "##Accuracy, Precision, Recall, F1 Score plot"
      ]
    },
    {
      "cell_type": "code",
      "execution_count": null,
      "metadata": {
        "id": "d4feeENZgAXX"
      },
      "outputs": [],
      "source": [
        "# metrics = ['Accuracy', 'Precision', 'Recall', 'F1 Score']\n",
        "# scores = [accuracy_PatientStatus_p2, precision_PatientStatus_p2, recall_PatientStatus_p2, f1_PatientStatus_p2]\n",
        "\n",
        "# # Plotting the metrics\n",
        "# plt.figure(figsize=(8, 6))\n",
        "# sns.barplot(x=metrics, y=scores, palette=\"Greens\")\n",
        "# plt.ylim(0, 1)\n",
        "# plt.ylabel(\"Score\")\n",
        "# plt.title(\"Model Performance Metrics\")\n",
        "# for i, v in enumerate(scores):\n",
        "#     plt.text(i, v + 0.02, f\"{v:.2f}\", ha='center', fontweight='bold')\n",
        "# plt.show()"
      ]
    },
    {
      "cell_type": "markdown",
      "metadata": {
        "id": "qJwewWcfgCTT"
      },
      "source": [
        "##Solver and Max_iter"
      ]
    },
    {
      "cell_type": "code",
      "execution_count": null,
      "metadata": {
        "id": "lJiaufUOgFT3"
      },
      "outputs": [],
      "source": [
        "# solvers = ['lbfgs', 'liblinear', 'newton-cg', 'newton-cholesky', 'sag', 'saga']\n",
        "# max_iters = [50, 100, 150, 200, 250, 300]\n",
        "\n",
        "# solver_results = []\n",
        "# max_iter_results = []\n",
        "# for solver in solvers:\n",
        "#     model_solver = LogisticRegression(solver=solver)\n",
        "#     model_solver.fit(X_train_PatientStatus_p2, y_train_PatientStatus_p2)\n",
        "#     y_pred_solver = model_solver.predict(X_test_PatientStatus_p2)\n",
        "\n",
        "#     # Calculate metrics\n",
        "#     accuracy_solver = accuracy_score(y_test_PatientStatus_p2, y_pred_solver)\n",
        "\n",
        "\n",
        "#     solver_results.append((solver, accuracy_solver))\n",
        "\n",
        "# # Evaluate each max_iter\n",
        "# for max_iter in max_iters:\n",
        "#     model_max_iter = LogisticRegression(max_iter=max_iter)\n",
        "#     model_max_iter.fit(X_train_PatientStatus_p2, y_train_PatientStatus_p2)\n",
        "#     y_pred_max_iter = model_max_iter.predict(X_test_PatientStatus_p2)\n",
        "\n",
        "#     # Calculate metrics\n",
        "#     accuracy_max_iter = accuracy_score(y_test_PatientStatus_p2, y_pred_max_iter)\n",
        "\n",
        "\n",
        "#     max_iter_results.append((max_iter, accuracy_max_iter))"
      ]
    },
    {
      "cell_type": "code",
      "execution_count": null,
      "metadata": {
        "id": "TW0xEXlygSfW"
      },
      "outputs": [],
      "source": [
        "# solvers = [result[0] for result in solver_results]\n",
        "# solver_accuracies = [result[1] for result in solver_results]\n",
        "\n",
        "# max_iters = [result[0] for result in max_iter_results]\n",
        "# max_iter_accuracies = [result[1] for result in max_iter_results]\n",
        "\n",
        "# # Plot Accuracy vs Solver\n",
        "# plt.figure(figsize=(10, 5))\n",
        "# plt.plot(solvers, solver_accuracies, marker='o', color='b')\n",
        "# plt.xlabel('Solver')\n",
        "# plt.ylabel('Accuracy')\n",
        "# plt.title('Accuracy vs Solver')\n",
        "# plt.grid(True)\n",
        "# plt.show()\n",
        "\n",
        "# # Plot Accuracy vs Max_iter\n",
        "# plt.figure(figsize=(10, 5))\n",
        "# plt.plot(max_iters, max_iter_accuracies, marker='o', color='r')\n",
        "# plt.xlabel('Max Iterations')\n",
        "# plt.ylabel('Accuracy')\n",
        "# plt.title('Accuracy vs Max_iter')\n",
        "# plt.grid(True)\n",
        "# plt.show()"
      ]
    },
    {
      "cell_type": "markdown",
      "metadata": {
        "id": "un5_5z88KTrd"
      },
      "source": [
        "# Assignment 3(Phase 3)\n"
      ]
    },
    {
      "cell_type": "markdown",
      "metadata": {
        "id": "QC6cH4MVKbUB"
      },
      "source": [
        "# For InjuryType"
      ]
    },
    {
      "cell_type": "markdown",
      "metadata": {
        "id": "sbSXqpfELdJ7"
      },
      "source": [
        "#Model Train using decision tree"
      ]
    },
    {
      "cell_type": "markdown",
      "metadata": {
        "id": "ewrNEmEEK2I4"
      },
      "source": [
        "##Split Into Train and Test Sets for InjuryType"
      ]
    },
    {
      "cell_type": "code",
      "execution_count": null,
      "metadata": {
        "id": "LKX8tg9SLKnL"
      },
      "outputs": [],
      "source": [
        "X = df.drop(columns=['InjuryType'])\n",
        "Y = df['InjuryType']\n",
        "\n",
        "#Perform train-test split (80% train, 20% test)\n",
        "X_train_InjuryType_p3_dt, X_test_InjuryType_p3_dt, y_train_InjuryType_p3_dt, y_test_InjuryType_p3_dt = train_test_split(X, Y, test_size=0.2, random_state=42)\n"
      ]
    },
    {
      "cell_type": "markdown",
      "metadata": {
        "id": "UCu1kb-rSxZa"
      },
      "source": [
        "## Model Train"
      ]
    },
    {
      "cell_type": "code",
      "execution_count": null,
      "metadata": {
        "id": "mxkitr5RLfKq"
      },
      "outputs": [],
      "source": [
        "from sklearn.tree import DecisionTreeClassifier\n",
        "from sklearn.preprocessing import Normalizer\n",
        "\n",
        "\n",
        "# scaler = Normalizer(norm='l1')\n",
        "# X_train_InjuryType_p3_dt = scaler.fit_transform(X_train_InjuryType_p3_dt)  # Fit and transform training data\n",
        "# X_test_InjuryType_p3_dt = scaler.transform(X_test_InjuryType_p3_dt)        # Transform test data\n",
        "\n",
        "# Train the train set on desicion tree model\n",
        "\n",
        "model = DecisionTreeClassifier(random_state=42)\n",
        "model.fit(X_train_InjuryType_p3_dt, y_train_InjuryType_p3_dt)\n",
        "y_pred_InjuryType_p3_dt = model.predict(X_test_InjuryType_p3_dt)\n"
      ]
    },
    {
      "cell_type": "markdown",
      "metadata": {
        "id": "i-KISyu4L_aL"
      },
      "source": [
        "##Accuracy, Precision, Recall, F1 Score measure\n"
      ]
    },
    {
      "cell_type": "code",
      "execution_count": null,
      "metadata": {
        "id": "WmyfXDQeMBli"
      },
      "outputs": [],
      "source": [
        "#accuray , precision recall f1 score measure\n",
        "accuracy_InjuryType_p3_dt = accuracy_score(y_test_InjuryType_p3_dt, y_pred_InjuryType_p3_dt)\n",
        "precision_InjuryType_p3_dt = precision_score(y_test_InjuryType_p3_dt, y_pred_InjuryType_p3_dt, average='weighted', zero_division=0)\n",
        "recall_InjuryType_p3_dt = recall_score(y_test_InjuryType_p3_dt, y_pred_InjuryType_p3_dt, average='weighted')\n",
        "f1_InjuryType_p3_dt = f1_score(y_test_InjuryType_p3_dt, y_pred_InjuryType_p3_dt, average='weighted')\n",
        "\n",
        "print(f\"Accuracy: {accuracy_InjuryType_p3_dt:.4f}\")\n",
        "print(f\"Precision: {precision_InjuryType_p3_dt:.4f}\")\n",
        "print(f\"Recall: {recall_InjuryType_p3_dt:.4f}\")\n",
        "print(f\"F1 Score: {f1_InjuryType_p3_dt:.4f}\")"
      ]
    },
    {
      "cell_type": "markdown",
      "metadata": {
        "id": "ySIciYWPMMOm"
      },
      "source": [
        "##confusion matrix plot"
      ]
    },
    {
      "cell_type": "code",
      "execution_count": null,
      "metadata": {
        "id": "pzxC32lLMQEJ"
      },
      "outputs": [],
      "source": [
        "#confusion matrix plot\n",
        "import matplotlib.pyplot as plt\n",
        "import seaborn as sns\n",
        "from sklearn.metrics import confusion_matrix, ConfusionMatrixDisplay\n",
        "# Compute the confusion matrix\n",
        "cm = confusion_matrix(y_test_InjuryType_p3_dt, y_pred_InjuryType_p3_dt)\n",
        "labels = model.classes_\n",
        "\n",
        "# Plotting the confusion matrix\n",
        "plt.figure(figsize=(8, 6))\n",
        "sns.heatmap(cm, annot=True, fmt=\"d\", cmap=\"YlOrBr\", xticklabels=labels, yticklabels=labels)\n",
        "plt.xlabel(\"Predicted Labels\")\n",
        "plt.ylabel(\"True Labels\")\n",
        "plt.title(\"Confusion Matrix for Decision Tree Model\")\n",
        "plt.show()\n"
      ]
    },
    {
      "cell_type": "markdown",
      "metadata": {
        "id": "z0j0ZnG0MXUv"
      },
      "source": [
        "##Accuracy, Precision, Recall, F1 Score plot"
      ]
    },
    {
      "cell_type": "code",
      "execution_count": null,
      "metadata": {
        "id": "8nZ1WNkhMcSM"
      },
      "outputs": [],
      "source": [
        "metrics = ['Accuracy', 'Precision', 'Recall', 'F1 Score']\n",
        "scores = [accuracy_InjuryType_p3_dt, precision_InjuryType_p3_dt, recall_InjuryType_p3_dt, f1_InjuryType_p3_dt]\n",
        "\n",
        "# Plotting the metrics\n",
        "plt.figure(figsize=(8, 6))\n",
        "sns.barplot(x=metrics, y=scores, palette=\"Greens\")\n",
        "plt.ylim(0, 1)\n",
        "plt.ylabel(\"Score\")\n",
        "plt.title(\"Decision Tree Model Performance Metrics\")\n",
        "for i, v in enumerate(scores):\n",
        "    plt.text(i, v + 0.02, f\"{v:.2f}\", ha='center', fontweight='bold')\n",
        "plt.show()"
      ]
    },
    {
      "cell_type": "markdown",
      "metadata": {
        "id": "FFiMy2UpPWXB"
      },
      "source": [
        "#Model Train using SVM"
      ]
    },
    {
      "cell_type": "markdown",
      "metadata": {
        "id": "KMdOniLjSkFB"
      },
      "source": [
        "##Split Into Train and Test Sets for InjuryType"
      ]
    },
    {
      "cell_type": "code",
      "execution_count": null,
      "metadata": {
        "id": "CoXeLTASSl9q"
      },
      "outputs": [],
      "source": [
        "X = df.drop(columns=['InjuryType'])\n",
        "Y = df['InjuryType']\n",
        "\n",
        "#Perform train-test split (80% train, 20% test)\n",
        "X_train_InjuryType_p3_svm, X_test_InjuryType_p3_svm, y_train_InjuryType_p3_svm, y_test_InjuryType_p3_svm = train_test_split(X, Y, test_size=0.2, random_state=42)\n"
      ]
    },
    {
      "cell_type": "markdown",
      "metadata": {
        "id": "lIwrvTPaSow3"
      },
      "source": [
        "## Model Train"
      ]
    },
    {
      "cell_type": "code",
      "execution_count": null,
      "metadata": {
        "id": "Z-TRPfxFPapR"
      },
      "outputs": [],
      "source": [
        "# Model train using svm\n",
        "from sklearn.svm import SVC\n",
        "\n",
        "model = SVC(random_state=42)\n",
        "model.fit(X_train_InjuryType_p3_svm, y_train_InjuryType_p3_svm)\n",
        "y_pred_InjuryType_p3_svm = model.predict(X_test_InjuryType_p3_svm)\n"
      ]
    },
    {
      "cell_type": "markdown",
      "metadata": {
        "id": "LSOiBuhZQQOX"
      },
      "source": [
        "##Accuracy, Precision, Recall, F1 Score measure\n"
      ]
    },
    {
      "cell_type": "code",
      "execution_count": null,
      "metadata": {
        "id": "hasMMKArQS8t"
      },
      "outputs": [],
      "source": [
        "#accuray , precision recall f1 score measure\n",
        "accuracy_InjuryType_p3_svm = accuracy_score(y_test_InjuryType_p3_svm, y_pred_InjuryType_p3_svm)\n",
        "precision_InjuryType_p3_svm = precision_score(y_test_InjuryType_p3_svm, y_pred_InjuryType_p3_svm, average='weighted', zero_division=0)\n",
        "recall_InjuryType_p3_svm = recall_score(y_test_InjuryType_p3_svm, y_pred_InjuryType_p3_svm, average='weighted')\n",
        "f1_InjuryType_p3_svm = f1_score(y_test_InjuryType_p3_svm, y_pred_InjuryType_p3_svm, average='weighted')\n",
        "\n",
        "print(f\"Accuracy: {accuracy_InjuryType_p3_svm:.4f}\")\n",
        "print(f\"Precision: {precision_InjuryType_p3_svm:.4f}\")\n",
        "print(f\"Recall: {recall_InjuryType_p3_svm:.4f}\")\n",
        "print(f\"F1 Score: {f1_InjuryType_p3_svm:.4f}\")"
      ]
    },
    {
      "cell_type": "markdown",
      "metadata": {
        "id": "1_UZSS67QUox"
      },
      "source": [
        "##confusion matrix plot"
      ]
    },
    {
      "cell_type": "code",
      "execution_count": null,
      "metadata": {
        "id": "AfesTF2XQYFC"
      },
      "outputs": [],
      "source": [
        "#confusion matrix plot\n",
        "import matplotlib.pyplot as plt\n",
        "import seaborn as sns\n",
        "from sklearn.metrics import confusion_matrix, ConfusionMatrixDisplay\n",
        "# Compute the confusion matrix\n",
        "cm = confusion_matrix(y_test_InjuryType_p3_svm, y_pred_InjuryType_p3_svm)\n",
        "labels = model.classes_\n",
        "\n",
        "# Plotting the confusion matrix\n",
        "plt.figure(figsize=(8, 6))\n",
        "sns.heatmap(cm, annot=True, fmt=\"d\", cmap=\"YlOrBr\", xticklabels=labels, yticklabels=labels)\n",
        "plt.xlabel(\"Predicted Labels\")\n",
        "plt.ylabel(\"True Labels\")\n",
        "plt.title(\"Confusion Matrix for SVM Model\")\n",
        "plt.show()\n"
      ]
    },
    {
      "cell_type": "markdown",
      "metadata": {
        "id": "rYOmbwt4QZ2p"
      },
      "source": [
        "##Accuracy, Precision, Recall, F1 Score plot"
      ]
    },
    {
      "cell_type": "code",
      "execution_count": null,
      "metadata": {
        "id": "FxNgTCRQQa9b"
      },
      "outputs": [],
      "source": [
        "metrics = ['Accuracy', 'Precision', 'Recall', 'F1 Score']\n",
        "scores = [accuracy_InjuryType_p3_svm, precision_InjuryType_p3_svm, recall_InjuryType_p3_svm, f1_InjuryType_p3_svm]\n",
        "\n",
        "# Plotting the metrics\n",
        "plt.figure(figsize=(8, 6))\n",
        "sns.barplot(x=metrics, y=scores, palette=\"Greens\")\n",
        "plt.ylim(0, 1)\n",
        "plt.ylabel(\"Score\")\n",
        "plt.title(\"Model Performance Metrics\")\n",
        "for i, v in enumerate(scores):\n",
        "    plt.text(i, v + 0.02, f\"{v:.2f}\", ha='center', fontweight='bold')\n",
        "plt.show()"
      ]
    },
    {
      "cell_type": "markdown",
      "metadata": {
        "id": "Jusb8kNlR9tl"
      },
      "source": [
        "# For PatientStatus"
      ]
    },
    {
      "cell_type": "markdown",
      "metadata": {
        "id": "XN8VRDaSSZoy"
      },
      "source": [
        "#Model Train using decision tree"
      ]
    },
    {
      "cell_type": "markdown",
      "metadata": {
        "id": "Z9g2emtsSKNV"
      },
      "source": [
        "##Split Into Train and Test Sets for PatientStatus\n"
      ]
    },
    {
      "cell_type": "code",
      "execution_count": null,
      "metadata": {
        "id": "qpLqnFGtSQ2x"
      },
      "outputs": [],
      "source": [
        "X = df.drop(columns=['PatientStatus'])\n",
        "Y = df['PatientStatus']\n",
        "\n",
        "\n",
        "X_train_PatientStatus_p3_dt, X_test_PatientStatus_p3_dt, y_train_PatientStatus_p3_dt, y_test_PatientStatus_p3_dt = train_test_split(X, Y, test_size=0.2, random_state=42)"
      ]
    },
    {
      "cell_type": "markdown",
      "metadata": {
        "id": "prMOC5MHSeBN"
      },
      "source": [
        "## Model train"
      ]
    },
    {
      "cell_type": "code",
      "execution_count": null,
      "metadata": {
        "id": "uRz6U-qNS4tR"
      },
      "outputs": [],
      "source": [
        "# Model train using decision tree\n",
        "from sklearn.tree import DecisionTreeClassifier\n",
        "\n",
        "model = DecisionTreeClassifier(random_state=42)\n",
        "model.fit(X_train_PatientStatus_p3_dt, y_train_PatientStatus_p3_dt)\n",
        "y_pred_PatientStatus_p3_dt = model.predict(X_test_PatientStatus_p3_dt)"
      ]
    },
    {
      "cell_type": "markdown",
      "metadata": {
        "id": "3L7XkdwaS-s9"
      },
      "source": [
        "##Accuracy, Precision, Recall, F1 Score measure\n"
      ]
    },
    {
      "cell_type": "code",
      "execution_count": null,
      "metadata": {
        "colab": {
          "base_uri": "https://localhost:8080/"
        },
        "id": "4O8PGXqaTCZN",
        "outputId": "98951fa2-791f-482f-d52e-d21b9b614aa3"
      },
      "outputs": [
        {
          "output_type": "stream",
          "name": "stdout",
          "text": [
            "Accuracy: 0.6628\n",
            "Precision: 0.6626\n",
            "Recall: 0.6628\n",
            "F1 Score: 0.6627\n"
          ]
        }
      ],
      "source": [
        "#accuray , precision recall f1 score measure\n",
        "accuracy_PatientStatus_p3_dt = accuracy_score(y_test_PatientStatus_p3_dt, y_pred_PatientStatus_p3_dt)\n",
        "precision_PatientStatus_p3_dt = precision_score(y_test_PatientStatus_p3_dt, y_pred_PatientStatus_p3_dt, average='weighted', zero_division=0)\n",
        "recall_PatientStatus_p3_dt = recall_score(y_test_PatientStatus_p3_dt, y_pred_PatientStatus_p3_dt, average='weighted')\n",
        "f1_PatientStatus_p3_dt = f1_score(y_test_PatientStatus_p3_dt, y_pred_PatientStatus_p3_dt, average='weighted')\n",
        "\n",
        "print(f\"Accuracy: {accuracy_PatientStatus_p3_dt:.4f}\")\n",
        "print(f\"Precision: {precision_PatientStatus_p3_dt:.4f}\")\n",
        "print(f\"Recall: {recall_PatientStatus_p3_dt:.4f}\")\n",
        "print(f\"F1 Score: {f1_PatientStatus_p3_dt:.4f}\")"
      ]
    },
    {
      "cell_type": "markdown",
      "metadata": {
        "id": "AvmHHhf-TJHV"
      },
      "source": [
        "##confusion matrix plot"
      ]
    },
    {
      "cell_type": "code",
      "execution_count": null,
      "metadata": {
        "colab": {
          "base_uri": "https://localhost:8080/",
          "height": 573
        },
        "id": "DRW25TpXTNPs",
        "outputId": "b88e7abf-554f-4242-a699-be2bda37cc57"
      },
      "outputs": [
        {
          "output_type": "display_data",
          "data": {
            "text/plain": [
              "<Figure size 800x600 with 2 Axes>"
            ],
            "image/png": "[encoded data removed]"
          },
          "metadata": {}
        }
      ],
      "source": [
        "#confusion matrix plot\n",
        "import matplotlib.pyplot as plt\n",
        "import seaborn as sns\n",
        "from sklearn.metrics import confusion_matrix, ConfusionMatrixDisplay\n",
        "# Compute the confusion matrix\n",
        "cm = confusion_matrix(y_test_PatientStatus_p3_dt, y_pred_PatientStatus_p3_dt)\n",
        "labels = model.classes_\n",
        "\n",
        "# Plotting the confusion matrix\n",
        "plt.figure(figsize=(8, 6))\n",
        "sns.heatmap(cm, annot=True, fmt=\"d\", cmap=\"YlOrBr\", xticklabels=labels, yticklabels=labels)\n",
        "plt.xlabel(\"Predicted Labels\")\n",
        "plt.ylabel(\"True Labels\")\n",
        "plt.title(\"Confusion Matrix for Decision Tree Model\")\n",
        "plt.show()"
      ]
    },
    {
      "cell_type": "markdown",
      "metadata": {
        "id": "yRBnQQXsWoYX"
      },
      "source": [
        "##Accuracy, Precision, Recall, F1 Score plot"
      ]
    },
    {
      "cell_type": "code",
      "execution_count": null,
      "metadata": {
        "colab": {
          "base_uri": "https://localhost:8080/",
          "height": 636
        },
        "id": "aQQRJWiOWs8M",
        "outputId": "196c596d-10b4-4972-d97a-8f9ff5be35e9"
      },
      "outputs": [
        {
          "output_type": "stream",
          "name": "stderr",
          "text": [
            "<ipython-input-215-4e7a4c40d0ac>:6: FutureWarning: \n",
            "\n",
            "Passing `palette` without assigning `hue` is deprecated and will be removed in v0.14.0. Assign the `x` variable to `hue` and set `legend=False` for the same effect.\n",
            "\n",
            "  sns.barplot(x=metrics, y=scores, palette=\"Greens\")\n"
          ]
        },
        {
          "output_type": "display_data",
          "data": {
            "text/plain": [
              "<Figure size 800x600 with 1 Axes>"
            ],
            "image/png": "[encoded data removed]"
          },
          "metadata": {}
        }
      ],
      "source": [
        "metrics = ['Accuracy', 'Precision', 'Recall', 'F1 Score']\n",
        "scores = [accuracy_PatientStatus_p3_dt, precision_PatientStatus_p3_dt, recall_PatientStatus_p3_dt, f1_PatientStatus_p3_dt]\n",
        "\n",
        "# Plotting the metrics\n",
        "plt.figure(figsize=(8, 6))\n",
        "sns.barplot(x=metrics, y=scores, palette=\"Greens\")\n",
        "plt.ylim(0, 1)\n",
        "plt.ylabel(\"Score\")\n",
        "plt.title(\"Model Performance Metrics\")\n",
        "for i, v in enumerate(scores):\n",
        "    plt.text(i, v + 0.02, f\"{v:.2f}\", ha='center', fontweight='bold')\n",
        "plt.show()"
      ]
    },
    {
      "cell_type": "markdown",
      "metadata": {
        "id": "zXKE9gLhTq66"
      },
      "source": [
        "#Model Train using SVM"
      ]
    },
    {
      "cell_type": "markdown",
      "metadata": {
        "id": "ESlki0FbTtyX"
      },
      "source": [
        "##Split Into Train and Test Sets for PatientStatus\n"
      ]
    },
    {
      "cell_type": "code",
      "execution_count": null,
      "metadata": {
        "id": "EtcKDRALUM7Z"
      },
      "outputs": [],
      "source": [
        "X = df.drop(columns=['PatientStatus'])\n",
        "Y = df['PatientStatus']\n",
        "\n",
        "\n",
        "X_train_PatientStatus_p3_svm, X_test_PatientStatus_p3_svm, y_train_PatientStatus_p3_svm, y_test_PatientStatus_p3_svm = train_test_split(X, Y, test_size=0.2, random_state=42)"
      ]
    },
    {
      "cell_type": "markdown",
      "metadata": {
        "id": "4VZ0XKvmUUOu"
      },
      "source": [
        "## Model Train"
      ]
    },
    {
      "cell_type": "code",
      "execution_count": null,
      "metadata": {
        "id": "VFRF43FJUZqq"
      },
      "outputs": [],
      "source": [
        "# model train using svm\n",
        "from sklearn.svm import SVC\n",
        "\n",
        "model = SVC(random_state=42)\n",
        "model.fit(X_train_PatientStatus_p3_svm, y_train_PatientStatus_p3_svm)\n",
        "y_pred_PatientStatus_p3_svm = model.predict(X_test_PatientStatus_p3_svm)"
      ]
    },
    {
      "cell_type": "markdown",
      "metadata": {
        "id": "DTeheIbaUekl"
      },
      "source": [
        "##Accuracy, Precision, Recall, F1 Score measure\n",
        "  "
      ]
    },
    {
      "cell_type": "code",
      "execution_count": null,
      "metadata": {
        "colab": {
          "base_uri": "https://localhost:8080/"
        },
        "id": "-r9S_UKDUg3l",
        "outputId": "f00a4c0d-f0ce-4f7d-9c7b-2fe57f15814d"
      },
      "outputs": [
        {
          "output_type": "stream",
          "name": "stdout",
          "text": [
            "Accuracy: 0.7199\n",
            "Precision: 0.7331\n",
            "Recall: 0.7199\n",
            "F1 Score: 0.7085\n"
          ]
        }
      ],
      "source": [
        "#accuray , precision recall f1 score measure\n",
        "accuracy_PatientStatus_p3_svm = accuracy_score(y_test_PatientStatus_p3_svm, y_pred_PatientStatus_p3_svm)\n",
        "precision_PatientStatus_p3_svm = precision_score(y_test_PatientStatus_p3_svm, y_pred_PatientStatus_p3_svm, average='weighted', zero_division=0)\n",
        "recall_PatientStatus_p3_svm = recall_score(y_test_PatientStatus_p3_svm, y_pred_PatientStatus_p3_svm, average='weighted')\n",
        "f1_PatientStatus_p3_svm = f1_score(y_test_PatientStatus_p3_svm, y_pred_PatientStatus_p3_svm, average='weighted')\n",
        "\n",
        "print(f\"Accuracy: {accuracy_PatientStatus_p3_svm:.4f}\")\n",
        "print(f\"Precision: {precision_PatientStatus_p3_svm:.4f}\")\n",
        "print(f\"Recall: {recall_PatientStatus_p3_svm:.4f}\")\n",
        "print(f\"F1 Score: {f1_PatientStatus_p3_svm:.4f}\")"
      ]
    },
    {
      "cell_type": "markdown",
      "metadata": {
        "id": "cVeF6KXSVP3g"
      },
      "source": [
        "##confusion matrix plot"
      ]
    },
    {
      "cell_type": "code",
      "execution_count": null,
      "metadata": {
        "colab": {
          "base_uri": "https://localhost:8080/",
          "height": 573
        },
        "id": "Vicj_0gdVTDZ",
        "outputId": "95c295c3-7b23-4369-ebad-2c002d8636be"
      },
      "outputs": [
        {
          "output_type": "display_data",
          "data": {
            "text/plain": [
              "<Figure size 800x600 with 2 Axes>"
            ],
            "image/png": "[encoded data removed]"
          },
          "metadata": {}
        }
      ],
      "source": [
        "#confusion matrix plot\n",
        "import matplotlib.pyplot as plt\n",
        "import seaborn as sns\n",
        "from sklearn.metrics import confusion_matrix, ConfusionMatrixDisplay\n",
        "# Compute the confusion matrix\n",
        "cm = confusion_matrix(y_test_PatientStatus_p3_svm, y_pred_PatientStatus_p3_svm)\n",
        "labels = model.classes_\n",
        "\n",
        "# Plotting the confusion matrix\n",
        "plt.figure(figsize=(8, 6))\n",
        "sns.heatmap(cm, annot=True, fmt=\"d\", cmap=\"YlOrBr\", xticklabels=labels, yticklabels=labels)\n",
        "plt.xlabel(\"Predicted Labels\")\n",
        "plt.ylabel(\"True Labels\")\n",
        "plt.title(\"Confusion Matrix for SVM Model\")\n",
        "plt.show()"
      ]
    },
    {
      "cell_type": "markdown",
      "metadata": {
        "id": "HjaO75PJWvW1"
      },
      "source": [
        "##Accuracy, Precision, Recall, F1 Score plot"
      ]
    },
    {
      "cell_type": "code",
      "execution_count": null,
      "metadata": {
        "colab": {
          "base_uri": "https://localhost:8080/",
          "height": 636
        },
        "id": "W40QKrbpWv0c",
        "outputId": "0463e088-dd41-47b6-b158-0a4a247cb617"
      },
      "outputs": [
        {
          "output_type": "stream",
          "name": "stderr",
          "text": [
            "<ipython-input-220-7b0122c835fa>:6: FutureWarning: \n",
            "\n",
            "Passing `palette` without assigning `hue` is deprecated and will be removed in v0.14.0. Assign the `x` variable to `hue` and set `legend=False` for the same effect.\n",
            "\n",
            "  sns.barplot(x=metrics, y=scores, palette=\"Greens\")\n"
          ]
        },
        {
          "output_type": "display_data",
          "data": {
            "text/plain": [
              "<Figure size 800x600 with 1 Axes>"
            ],
            "image/png": "[encoded data removed]"
          },
          "metadata": {}
        }
      ],
      "source": [
        "metrics = ['Accuracy', 'Precision', 'Recall', 'F1 Score']\n",
        "scores = [accuracy_PatientStatus_p3_svm, precision_PatientStatus_p3_svm, recall_PatientStatus_p3_svm, f1_PatientStatus_p3_svm]\n",
        "\n",
        "# Plotting the metrics\n",
        "plt.figure(figsize=(8, 6))\n",
        "sns.barplot(x=metrics, y=scores, palette=\"Greens\")\n",
        "plt.ylim(0, 1)\n",
        "plt.ylabel(\"Score\")\n",
        "plt.title(\"Model Performance Metrics\")\n",
        "for i, v in enumerate(scores):\n",
        "    plt.text(i, v + 0.02, f\"{v:.2f}\", ha='center', fontweight='bold')\n",
        "plt.show()"
      ]
    },
    {
      "cell_type": "markdown",
      "source": [
        "# Comparison table for the performance of all models"
      ],
      "metadata": {
        "id": "01azziq3ejWe"
      }
    },
    {
      "cell_type": "code",
      "source": [
        "# comparison table for the performance of all models\n",
        "import matplotlib.pyplot as plt\n",
        "import numpy as np\n",
        "\n",
        "# Metrics data for models\n",
        "models = ['Logistic Regression', 'Decision Tree', 'SVM']\n",
        "metrics = ['Accuracy', 'Precision', 'Recall', 'F1 Score']\n",
        "\n",
        "# Metrics for \"InjuryType\" (replace these with actual values from your experiment)\n",
        "injury_metrics = {\n",
        "    \"Logistic Regression\": [accuracy_InjuryType_p2, precision_InjuryType_p2, recall_InjuryType_p2, f1_InjuryType_p2],\n",
        "    \"Decision Tree\": [accuracy_InjuryType_p3_dt, precision_InjuryType_p3_dt, recall_InjuryType_p3_dt, f1_InjuryType_p3_dt],\n",
        "    \"SVM\": [accuracy_InjuryType_p3_svm, precision_InjuryType_p3_svm, recall_InjuryType_p3_svm, f1_InjuryType_p3_svm],\n",
        "}\n",
        "\n",
        "# Metrics for \"PatientStatus\" (replace these with actual values from your experiment)\n",
        "patient_metrics = {\n",
        "    \"Logistic Regression\": [accuracy_PatientStatus_p2, precision_PatientStatus_p2, recall_PatientStatus_p2, f1_PatientStatus_p2],\n",
        "    \"Decision Tree\": [accuracy_PatientStatus_p3_dt, precision_PatientStatus_p3_dt, recall_PatientStatus_p3_dt, f1_PatientStatus_p3_dt],\n",
        "    \"SVM\": [accuracy_PatientStatus_p3_svm, precision_PatientStatus_p3_svm, recall_PatientStatus_p3_svm, f1_PatientStatus_p3_svm],\n",
        "}\n",
        "\n",
        "# Plot function\n",
        "def plot_comparison(metrics_data, title):\n",
        "    x = np.arange(len(metrics))  # the label locations\n",
        "    width = 0.25  # the width of the bars\n",
        "\n",
        "    fig, ax = plt.subplots(figsize=(10, 6))\n",
        "    for i, (model, scores) in enumerate(metrics_data.items()):\n",
        "        ax.bar(x + i * width, scores, width, label=model)\n",
        "\n",
        "    # Add labels, title, and legend\n",
        "    ax.set_xlabel('Metrics')\n",
        "    ax.set_ylabel('Scores')\n",
        "    ax.set_title(title)\n",
        "    ax.set_xticks(x + width)\n",
        "    ax.set_xticklabels(metrics)\n",
        "    ax.legend()\n",
        "\n",
        "    # Annotate bars with values\n",
        "    for i, (model, scores) in enumerate(metrics_data.items()):\n",
        "        for j, score in enumerate(scores):\n",
        "            ax.text(j + i * width, score + 0.02, f\"{score:.2f}\", ha='center', fontsize=10, fontweight='bold')\n",
        "\n",
        "    plt.ylim(0, 1.1)\n",
        "    plt.show()\n",
        "\n",
        "# Visualize comparison\n",
        "plot_comparison(injury_metrics, 'Model Comparison for InjuryType')\n",
        "plot_comparison(patient_metrics, 'Model Comparison for PatientStatus')\n"
      ],
      "metadata": {
        "colab": {
          "base_uri": "https://localhost:8080/",
          "height": 1000
        },
        "id": "JUWCiw26eodf",
        "outputId": "aed6b70a-41e4-4950-8ca5-ae690b5d0bda"
      },
      "execution_count": null,
      "outputs": [
        {
          "output_type": "display_data",
          "data": {
            "text/plain": [
              "<Figure size 1000x600 with 1 Axes>"
            ],
            "image/png": "[encoded data removed]"
          },
          "metadata": {}
        },
        {
          "output_type": "display_data",
          "data": {
            "text/plain": [
              "<Figure size 1000x600 with 1 Axes>"
            ],
            "image/png": "[encoded data removed]"
          },
          "metadata": {}
        }
      ]
    },
    {
      "cell_type": "code",
      "source": [
        "import pandas as pd\n",
        "\n",
        "# Data for InjuryType (example placeholder values)\n",
        "data_injurytype = {\n",
        "    \"Model\": [\"Logistic Regression\", \"Decision Tree\", \"SVM\"],\n",
        "    \"Accuracy\": [accuracy_InjuryType_p2, accuracy_InjuryType_p3_dt, accuracy_InjuryType_p3_svm],\n",
        "    \"Precision\": [precision_InjuryType_p2, precision_InjuryType_p3_dt, precision_InjuryType_p3_svm],\n",
        "    \"Recall\": [recall_InjuryType_p2, recall_InjuryType_p3_dt, recall_InjuryType_p3_svm],\n",
        "    \"F1 Score\": [f1_InjuryType_p2, f1_InjuryType_p3_dt, f1_InjuryType_p3_svm],\n",
        "}\n",
        "\n",
        "# Data for PatientStatus (example placeholder values)\n",
        "data_patientstatus = {\n",
        "    \"Model\": [\"Logistic Regression\", \"Decision Tree\", \"SVM\"],\n",
        "    \"Accuracy\": [accuracy_PatientStatus_p2, accuracy_PatientStatus_p3_dt, accuracy_PatientStatus_p3_svm],\n",
        "    \"Precision\": [precision_PatientStatus_p2, precision_PatientStatus_p3_dt, precision_PatientStatus_p3_svm],\n",
        "    \"Recall\": [recall_PatientStatus_p2, recall_PatientStatus_p3_dt, recall_PatientStatus_p3_svm],\n",
        "    \"F1 Score\": [f1_PatientStatus_p2, f1_PatientStatus_p3_dt, f1_PatientStatus_p3_svm],\n",
        "}\n",
        "\n",
        "# Convert data to DataFrames\n",
        "df_injurytype = pd.DataFrame(data_injurytype)\n",
        "df_patientstatus = pd.DataFrame(data_patientstatus)\n",
        "\n",
        "# Beautify the tables with color and styles\n",
        "def style_table(df, title):\n",
        "    styled_df = (\n",
        "        df.style\n",
        "        .format(\"{:.4f}\", subset=[\"Accuracy\", \"Precision\", \"Recall\", \"F1 Score\"])  # Format numeric columns\n",
        "        .set_table_styles(\n",
        "            [   # Header style\n",
        "                {\"selector\": \"thead\", \"props\": [(\"background-color\", \"#4CAF50\"), (\"color\", \"white\"), (\"font-size\", \"16px\"), (\"font-weight\", \"bold\"), (\"text-align\", \"center\")]},\n",
        "                {\"selector\": \"tbody td\", \"props\": [(\"text-align\", \"center\")]},  # Center data\n",
        "            ]\n",
        "        )\n",
        "        .set_properties(subset=[\"Model\"], **{\"font-weight\": \"bold\", \"color\": \"#2E8B57\"})  # Bold Model column\n",
        "        .background_gradient(cmap=\"coolwarm\", subset=[\"Accuracy\", \"Precision\", \"Recall\", \"F1 Score\"])  # Add gradient\n",
        "    )\n",
        "    styled_df = styled_df.set_caption(title).set_table_styles(\n",
        "        [{\"selector\": \"caption\", \"props\": [(\"caption-side\", \"top\"), (\"font-size\", \"18px\"), (\"color\", \"#333\"), (\"font-weight\", \"bold\")]}]\n",
        "    )\n",
        "    return styled_df\n",
        "\n",
        "# Display styled tables in Jupyter\n",
        "display(style_table(df_injurytype, \"Comparison Table for InjuryType\"))\n",
        "display(style_table(df_patientstatus, \"Comparison Table for PatientStatus\"))\n"
      ],
      "metadata": {
        "colab": {
          "base_uri": "https://localhost:8080/",
          "height": 315
        },
        "id": "4QG4lsWXjI2e",
        "outputId": "472690de-14fb-4ef3-c5d7-e1b0c6d64088"
      },
      "execution_count": null,
      "outputs": [
        {
          "output_type": "display_data",
          "data": {
            "text/plain": [
              "<pandas.io.formats.style.Styler at 0x7f57ce2b5810>"
            ],
            "text/html": [
              "<style type=\"text/css\">\n",
              "#T_39e75 caption {\n",
              "  caption-side: top;\n",
              "  font-size: 18px;\n",
              "  color: #333;\n",
              "  font-weight: bold;\n",
              "}\n",
              "#T_39e75_row0_col0, #T_39e75_row1_col0, #T_39e75_row2_col0 {\n",
              "  font-weight: bold;\n",
              "  color: #2E8B57;\n",
              "}\n",
              "#T_39e75_row0_col1, #T_39e75_row0_col3 {\n",
              "  background-color: #b50927;\n",
              "  color: #f1f1f1;\n",
              "}\n",
              "#T_39e75_row0_col2 {\n",
              "  background-color: #5572df;\n",
              "  color: #f1f1f1;\n",
              "}\n",
              "#T_39e75_row0_col4, #T_39e75_row1_col1, #T_39e75_row1_col3, #T_39e75_row2_col2, #T_39e75_row2_col4 {\n",
              "  background-color: #3b4cc0;\n",
              "  color: #f1f1f1;\n",
              "}\n",
              "#T_39e75_row1_col2, #T_39e75_row1_col4, #T_39e75_row2_col1, #T_39e75_row2_col3 {\n",
              "  background-color: #b40426;\n",
              "  color: #f1f1f1;\n",
              "}\n",
              "</style>\n",
              "<table id=\"T_39e75\" class=\"dataframe\">\n",
              "  <caption>Comparison Table for InjuryType</caption>\n",
              "  <thead>\n",
              "    <tr>\n",
              "      <th class=\"blank level0\" >&nbsp;</th>\n",
              "      <th id=\"T_39e75_level0_col0\" class=\"col_heading level0 col0\" >Model</th>\n",
              "      <th id=\"T_39e75_level0_col1\" class=\"col_heading level0 col1\" >Accuracy</th>\n",
              "      <th id=\"T_39e75_level0_col2\" class=\"col_heading level0 col2\" >Precision</th>\n",
              "      <th id=\"T_39e75_level0_col3\" class=\"col_heading level0 col3\" >Recall</th>\n",
              "      <th id=\"T_39e75_level0_col4\" class=\"col_heading level0 col4\" >F1 Score</th>\n",
              "    </tr>\n",
              "  </thead>\n",
              "  <tbody>\n",
              "    <tr>\n",
              "      <th id=\"T_39e75_level0_row0\" class=\"row_heading level0 row0\" >0</th>\n",
              "      <td id=\"T_39e75_row0_col0\" class=\"data row0 col0\" >Logistic Regression</td>\n",
              "      <td id=\"T_39e75_row0_col1\" class=\"data row0 col1\" >0.7570</td>\n",
              "      <td id=\"T_39e75_row0_col2\" class=\"data row0 col2\" >0.5830</td>\n",
              "      <td id=\"T_39e75_row0_col3\" class=\"data row0 col3\" >0.7570</td>\n",
              "      <td id=\"T_39e75_row0_col4\" class=\"data row0 col4\" >0.6530</td>\n",
              "    </tr>\n",
              "    <tr>\n",
              "      <th id=\"T_39e75_level0_row1\" class=\"row_heading level0 row1\" >1</th>\n",
              "      <td id=\"T_39e75_row1_col0\" class=\"data row1 col0\" >Decision Tree</td>\n",
              "      <td id=\"T_39e75_row1_col1\" class=\"data row1 col1\" >0.6685</td>\n",
              "      <td id=\"T_39e75_row1_col2\" class=\"data row1 col2\" >0.6777</td>\n",
              "      <td id=\"T_39e75_row1_col3\" class=\"data row1 col3\" >0.6685</td>\n",
              "      <td id=\"T_39e75_row1_col4\" class=\"data row1 col4\" >0.6730</td>\n",
              "    </tr>\n",
              "    <tr>\n",
              "      <th id=\"T_39e75_level0_row2\" class=\"row_heading level0 row2\" >2</th>\n",
              "      <td id=\"T_39e75_row2_col0\" class=\"data row2 col0\" >SVM</td>\n",
              "      <td id=\"T_39e75_row2_col1\" class=\"data row2 col1\" >0.7575</td>\n",
              "      <td id=\"T_39e75_row2_col2\" class=\"data row2 col2\" >0.5738</td>\n",
              "      <td id=\"T_39e75_row2_col3\" class=\"data row2 col3\" >0.7575</td>\n",
              "      <td id=\"T_39e75_row2_col4\" class=\"data row2 col4\" >0.6529</td>\n",
              "    </tr>\n",
              "  </tbody>\n",
              "</table>\n"
            ]
          },
          "metadata": {}
        },
        {
          "output_type": "display_data",
          "data": {
            "text/plain": [
              "<pandas.io.formats.style.Styler at 0x7f57ce2b5750>"
            ],
            "text/html": [
              "<style type=\"text/css\">\n",
              "#T_27f2e caption {\n",
              "  caption-side: top;\n",
              "  font-size: 18px;\n",
              "  color: #333;\n",
              "  font-weight: bold;\n",
              "}\n",
              "#T_27f2e_row0_col0, #T_27f2e_row1_col0, #T_27f2e_row2_col0 {\n",
              "  font-weight: bold;\n",
              "  color: #2E8B57;\n",
              "}\n",
              "#T_27f2e_row0_col1, #T_27f2e_row0_col2, #T_27f2e_row0_col3, #T_27f2e_row0_col4, #T_27f2e_row2_col2 {\n",
              "  background-color: #b40426;\n",
              "  color: #f1f1f1;\n",
              "}\n",
              "#T_27f2e_row1_col1, #T_27f2e_row1_col2, #T_27f2e_row1_col3, #T_27f2e_row1_col4 {\n",
              "  background-color: #3b4cc0;\n",
              "  color: #f1f1f1;\n",
              "}\n",
              "#T_27f2e_row2_col1, #T_27f2e_row2_col3 {\n",
              "  background-color: #d55042;\n",
              "  color: #f1f1f1;\n",
              "}\n",
              "#T_27f2e_row2_col4 {\n",
              "  background-color: #ee8669;\n",
              "  color: #f1f1f1;\n",
              "}\n",
              "</style>\n",
              "<table id=\"T_27f2e\" class=\"dataframe\">\n",
              "  <caption>Comparison Table for PatientStatus</caption>\n",
              "  <thead>\n",
              "    <tr>\n",
              "      <th class=\"blank level0\" >&nbsp;</th>\n",
              "      <th id=\"T_27f2e_level0_col0\" class=\"col_heading level0 col0\" >Model</th>\n",
              "      <th id=\"T_27f2e_level0_col1\" class=\"col_heading level0 col1\" >Accuracy</th>\n",
              "      <th id=\"T_27f2e_level0_col2\" class=\"col_heading level0 col2\" >Precision</th>\n",
              "      <th id=\"T_27f2e_level0_col3\" class=\"col_heading level0 col3\" >Recall</th>\n",
              "      <th id=\"T_27f2e_level0_col4\" class=\"col_heading level0 col4\" >F1 Score</th>\n",
              "    </tr>\n",
              "  </thead>\n",
              "  <tbody>\n",
              "    <tr>\n",
              "      <th id=\"T_27f2e_level0_row0\" class=\"row_heading level0 row0\" >0</th>\n",
              "      <td id=\"T_27f2e_row0_col0\" class=\"data row0 col0\" >Logistic Regression</td>\n",
              "      <td id=\"T_27f2e_row0_col1\" class=\"data row0 col1\" >0.7261</td>\n",
              "      <td id=\"T_27f2e_row0_col2\" class=\"data row0 col2\" >0.7328</td>\n",
              "      <td id=\"T_27f2e_row0_col3\" class=\"data row0 col3\" >0.7261</td>\n",
              "      <td id=\"T_27f2e_row0_col4\" class=\"data row0 col4\" >0.7204</td>\n",
              "    </tr>\n",
              "    <tr>\n",
              "      <th id=\"T_27f2e_level0_row1\" class=\"row_heading level0 row1\" >1</th>\n",
              "      <td id=\"T_27f2e_row1_col0\" class=\"data row1 col0\" >Decision Tree</td>\n",
              "      <td id=\"T_27f2e_row1_col1\" class=\"data row1 col1\" >0.6628</td>\n",
              "      <td id=\"T_27f2e_row1_col2\" class=\"data row1 col2\" >0.6626</td>\n",
              "      <td id=\"T_27f2e_row1_col3\" class=\"data row1 col3\" >0.6628</td>\n",
              "      <td id=\"T_27f2e_row1_col4\" class=\"data row1 col4\" >0.6627</td>\n",
              "    </tr>\n",
              "    <tr>\n",
              "      <th id=\"T_27f2e_level0_row2\" class=\"row_heading level0 row2\" >2</th>\n",
              "      <td id=\"T_27f2e_row2_col0\" class=\"data row2 col0\" >SVM</td>\n",
              "      <td id=\"T_27f2e_row2_col1\" class=\"data row2 col1\" >0.7199</td>\n",
              "      <td id=\"T_27f2e_row2_col2\" class=\"data row2 col2\" >0.7331</td>\n",
              "      <td id=\"T_27f2e_row2_col3\" class=\"data row2 col3\" >0.7199</td>\n",
              "      <td id=\"T_27f2e_row2_col4\" class=\"data row2 col4\" >0.7085</td>\n",
              "    </tr>\n",
              "  </tbody>\n",
              "</table>\n"
            ]
          },
          "metadata": {}
        }
      ]
    }
  ],
  "metadata": {
    "colab": {
      "provenance": []
    },
    "kernelspec": {
      "display_name": "Python 3",
      "name": "python3"
    },
    "language_info": {
      "name": "python"
    }
  },
  "nbformat": 4,
  "nbformat_minor": 0
}