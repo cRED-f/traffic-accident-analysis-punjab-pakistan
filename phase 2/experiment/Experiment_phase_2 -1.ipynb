{
  "nbformat": 4,
  "nbformat_minor": 0,
  "metadata": {
    "colab": {
      "provenance": []
    },
    "kernelspec": {
      "name": "python3",
      "display_name": "Python 3"
    },
    "language_info": {
      "name": "python"
    }
  },
  "cells": [
    {
      "cell_type": "markdown",
      "source": [
        "#Assignment 2 (Project Phase 2)\n",
        "\n",
        "##Group Name: **Data Dreamers**\n",
        "\n",
        "##**Members**:\n",
        "- **Md. Fahim Islam -> 2131059642**\n",
        "- **Amit Chakraborty-> 2132692642**\n",
        "- **Aditto Rahman   -> 2122332042**\n",
        "- **Nahid Hassan    -> 2031269642**\n",
        "\n",
        "\n",
        "- Dataset: Road Traffic Accident Dataset, Rawalpindi-Punjab, Pakistan\n",
        "- Two possible targets- ***Injury Type*** or ***Patient Status***\n"
      ],
      "metadata": {
        "id": "bl_Kuh0WT6Pt"
      }
    },
    {
      "cell_type": "markdown",
      "source": [
        "# Imports"
      ],
      "metadata": {
        "id": "TsQjBaf9Kq0i"
      }
    },
    {
      "cell_type": "code",
      "source": [
        "import pandas as pd\n",
        "import numpy as numpy\n",
        "import matplotlib.pyplot as plt\n",
        "from sklearn.preprocessing import OneHotEncoder\n",
        "from sklearn.preprocessing import LabelEncoder\n",
        "from sklearn.model_selection import train_test_split\n",
        "from sklearn.preprocessing import StandardScaler\n",
        "from sklearn.preprocessing import MinMaxScaler\n",
        "from sklearn.preprocessing import Normalizer\n",
        "from sklearn.impute import SimpleImputer\n",
        "import seaborn as sns\n",
        "from sklearn.preprocessing import OrdinalEncoder\n",
        "from sklearn.linear_model import LogisticRegression\n",
        "from sklearn.metrics import accuracy_score, confusion_matrix, precision_score, recall_score, f1_score\n",
        "from sklearn.preprocessing import Normalizer"
      ],
      "metadata": {
        "id": "7-evX9UlLgD_"
      },
      "execution_count": 4113,
      "outputs": []
    },
    {
      "cell_type": "markdown",
      "source": [
        "## Data Import"
      ],
      "metadata": {
        "id": "jxE1rZv2LlU9"
      }
    },
    {
      "cell_type": "code",
      "source": [
        "df = pd.read_csv('/content/RTA Data 2020 to July 2023.csv')"
      ],
      "metadata": {
        "colab": {
          "base_uri": "https://localhost:8080/"
        },
        "id": "7RTxWQg9LpY7",
        "outputId": "951f8937-726c-4c9c-d7c5-49eec932b89a"
      },
      "execution_count": 4114,
      "outputs": [
        {
          "output_type": "stream",
          "name": "stderr",
          "text": [
            "<ipython-input-4114-c93f1944acf5>:1: DtypeWarning: Columns (0,1,4) have mixed types. Specify dtype option on import or set low_memory=False.\n",
            "  df = pd.read_csv('/content/RTA Data 2020 to July 2023.csv')\n"
          ]
        }
      ]
    },
    {
      "cell_type": "markdown",
      "source": [
        "#Selecting Our Target Variable\n",
        "\n",
        "- For this assignment, we have selected **Injury Type** as the target variable.\n",
        "\n"
      ],
      "metadata": {
        "id": "Q9lnYBY9L8Or"
      }
    },
    {
      "cell_type": "code",
      "source": [
        "# Missing values\n",
        "df.isnull().sum()"
      ],
      "metadata": {
        "id": "BWf38RfJM2A8",
        "colab": {
          "base_uri": "https://localhost:8080/",
          "height": 868
        },
        "outputId": "764cce2b-3f71-44a7-8fbb-0772924176f0"
      },
      "execution_count": 4115,
      "outputs": [
        {
          "output_type": "execute_result",
          "data": {
            "text/plain": [
              "EcYear                          0\n",
              "EcNumber                     7211\n",
              "CallTime                     5956\n",
              "EmergencyArea                   0\n",
              "TotalPatientsInEmergency        0\n",
              "Gender                          1\n",
              "Age                             1\n",
              "HospitalName                21950\n",
              "Reason                          1\n",
              "responsetime                    5\n",
              "EducationTitle                  1\n",
              "InjuryType                      2\n",
              "Cause                           2\n",
              "PatientStatus                   2\n",
              "BicycleInvovled                 2\n",
              "BikesInvolved                   2\n",
              "BusesInvolved                   2\n",
              "CarsInvolved                    2\n",
              "CartInvovled                    2\n",
              "RickshawsInvolved               2\n",
              "TractorInvovled                 2\n",
              "TrainsInvovled                  2\n",
              "TrucksInvolved                  2\n",
              "VansInvolved                    2\n",
              "OthersInvolved                  2\n",
              "dtype: int64"
            ],
            "text/html": [
              "<div>\n",
              "<style scoped>\n",
              "    .dataframe tbody tr th:only-of-type {\n",
              "        vertical-align: middle;\n",
              "    }\n",
              "\n",
              "    .dataframe tbody tr th {\n",
              "        vertical-align: top;\n",
              "    }\n",
              "\n",
              "    .dataframe thead th {\n",
              "        text-align: right;\n",
              "    }\n",
              "</style>\n",
              "<table border=\"1\" class=\"dataframe\">\n",
              "  <thead>\n",
              "    <tr style=\"text-align: right;\">\n",
              "      <th></th>\n",
              "      <th>0</th>\n",
              "    </tr>\n",
              "  </thead>\n",
              "  <tbody>\n",
              "    <tr>\n",
              "      <th>EcYear</th>\n",
              "      <td>0</td>\n",
              "    </tr>\n",
              "    <tr>\n",
              "      <th>EcNumber</th>\n",
              "      <td>7211</td>\n",
              "    </tr>\n",
              "    <tr>\n",
              "      <th>CallTime</th>\n",
              "      <td>5956</td>\n",
              "    </tr>\n",
              "    <tr>\n",
              "      <th>EmergencyArea</th>\n",
              "      <td>0</td>\n",
              "    </tr>\n",
              "    <tr>\n",
              "      <th>TotalPatientsInEmergency</th>\n",
              "      <td>0</td>\n",
              "    </tr>\n",
              "    <tr>\n",
              "      <th>Gender</th>\n",
              "      <td>1</td>\n",
              "    </tr>\n",
              "    <tr>\n",
              "      <th>Age</th>\n",
              "      <td>1</td>\n",
              "    </tr>\n",
              "    <tr>\n",
              "      <th>HospitalName</th>\n",
              "      <td>21950</td>\n",
              "    </tr>\n",
              "    <tr>\n",
              "      <th>Reason</th>\n",
              "      <td>1</td>\n",
              "    </tr>\n",
              "    <tr>\n",
              "      <th>responsetime</th>\n",
              "      <td>5</td>\n",
              "    </tr>\n",
              "    <tr>\n",
              "      <th>EducationTitle</th>\n",
              "      <td>1</td>\n",
              "    </tr>\n",
              "    <tr>\n",
              "      <th>InjuryType</th>\n",
              "      <td>2</td>\n",
              "    </tr>\n",
              "    <tr>\n",
              "      <th>Cause</th>\n",
              "      <td>2</td>\n",
              "    </tr>\n",
              "    <tr>\n",
              "      <th>PatientStatus</th>\n",
              "      <td>2</td>\n",
              "    </tr>\n",
              "    <tr>\n",
              "      <th>BicycleInvovled</th>\n",
              "      <td>2</td>\n",
              "    </tr>\n",
              "    <tr>\n",
              "      <th>BikesInvolved</th>\n",
              "      <td>2</td>\n",
              "    </tr>\n",
              "    <tr>\n",
              "      <th>BusesInvolved</th>\n",
              "      <td>2</td>\n",
              "    </tr>\n",
              "    <tr>\n",
              "      <th>CarsInvolved</th>\n",
              "      <td>2</td>\n",
              "    </tr>\n",
              "    <tr>\n",
              "      <th>CartInvovled</th>\n",
              "      <td>2</td>\n",
              "    </tr>\n",
              "    <tr>\n",
              "      <th>RickshawsInvolved</th>\n",
              "      <td>2</td>\n",
              "    </tr>\n",
              "    <tr>\n",
              "      <th>TractorInvovled</th>\n",
              "      <td>2</td>\n",
              "    </tr>\n",
              "    <tr>\n",
              "      <th>TrainsInvovled</th>\n",
              "      <td>2</td>\n",
              "    </tr>\n",
              "    <tr>\n",
              "      <th>TrucksInvolved</th>\n",
              "      <td>2</td>\n",
              "    </tr>\n",
              "    <tr>\n",
              "      <th>VansInvolved</th>\n",
              "      <td>2</td>\n",
              "    </tr>\n",
              "    <tr>\n",
              "      <th>OthersInvolved</th>\n",
              "      <td>2</td>\n",
              "    </tr>\n",
              "  </tbody>\n",
              "</table>\n",
              "</div><br><label><b>dtype:</b> int64</label>"
            ]
          },
          "metadata": {},
          "execution_count": 4115
        }
      ]
    },
    {
      "cell_type": "markdown",
      "source": [
        "#Droping Features\n",
        "\n"
      ],
      "metadata": {
        "id": "gwDHnEieNi0S"
      }
    },
    {
      "cell_type": "code",
      "source": [
        "df['EcNumber'].value_counts()\n"
      ],
      "metadata": {
        "id": "j1Irtv-Sm4kK",
        "colab": {
          "base_uri": "https://localhost:8080/",
          "height": 490
        },
        "outputId": "1b51dbbe-2a10-46da-e1d6-4a56a9a242f9"
      },
      "execution_count": 4116,
      "outputs": [
        {
          "output_type": "execute_result",
          "data": {
            "text/plain": [
              "EcNumber\n",
              "598         2\n",
              "256         2\n",
              "21582       2\n",
              "246         2\n",
              "247         2\n",
              "           ..\n",
              "13946       1\n",
              "13949       1\n",
              "13951       1\n",
              "13962       1\n",
              "356977.0    1\n",
              "Name: count, Length: 36024, dtype: int64"
            ],
            "text/html": [
              "<div>\n",
              "<style scoped>\n",
              "    .dataframe tbody tr th:only-of-type {\n",
              "        vertical-align: middle;\n",
              "    }\n",
              "\n",
              "    .dataframe tbody tr th {\n",
              "        vertical-align: top;\n",
              "    }\n",
              "\n",
              "    .dataframe thead th {\n",
              "        text-align: right;\n",
              "    }\n",
              "</style>\n",
              "<table border=\"1\" class=\"dataframe\">\n",
              "  <thead>\n",
              "    <tr style=\"text-align: right;\">\n",
              "      <th></th>\n",
              "      <th>count</th>\n",
              "    </tr>\n",
              "    <tr>\n",
              "      <th>EcNumber</th>\n",
              "      <th></th>\n",
              "    </tr>\n",
              "  </thead>\n",
              "  <tbody>\n",
              "    <tr>\n",
              "      <th>598</th>\n",
              "      <td>2</td>\n",
              "    </tr>\n",
              "    <tr>\n",
              "      <th>256</th>\n",
              "      <td>2</td>\n",
              "    </tr>\n",
              "    <tr>\n",
              "      <th>21582</th>\n",
              "      <td>2</td>\n",
              "    </tr>\n",
              "    <tr>\n",
              "      <th>246</th>\n",
              "      <td>2</td>\n",
              "    </tr>\n",
              "    <tr>\n",
              "      <th>247</th>\n",
              "      <td>2</td>\n",
              "    </tr>\n",
              "    <tr>\n",
              "      <th>...</th>\n",
              "      <td>...</td>\n",
              "    </tr>\n",
              "    <tr>\n",
              "      <th>13946</th>\n",
              "      <td>1</td>\n",
              "    </tr>\n",
              "    <tr>\n",
              "      <th>13949</th>\n",
              "      <td>1</td>\n",
              "    </tr>\n",
              "    <tr>\n",
              "      <th>13951</th>\n",
              "      <td>1</td>\n",
              "    </tr>\n",
              "    <tr>\n",
              "      <th>13962</th>\n",
              "      <td>1</td>\n",
              "    </tr>\n",
              "    <tr>\n",
              "      <th>356977.0</th>\n",
              "      <td>1</td>\n",
              "    </tr>\n",
              "  </tbody>\n",
              "</table>\n",
              "<p>36024 rows × 1 columns</p>\n",
              "</div><br><label><b>dtype:</b> int64</label>"
            ]
          },
          "metadata": {},
          "execution_count": 4116
        }
      ]
    },
    {
      "cell_type": "markdown",
      "source": [
        "##EcNumber Correlation check"
      ],
      "metadata": {
        "id": "PI-N0xRq50w-"
      }
    },
    {
      "cell_type": "code",
      "source": [
        "df_sub = df[['EcNumber', 'InjuryType']].copy()\n",
        "df_sub['EcNumber'] = df_sub['EcNumber'].astype('category').cat.codes\n",
        "df_sub['InjuryType'] = df_sub['InjuryType'].astype('category').cat.codes\n",
        "df_sub.dropna(inplace=True)\n",
        "\n",
        "# Calculate the correlation matrix\n",
        "correlation = df_sub.corr()\n",
        "\n",
        "# Plot the heatmap for the correlation matrix\n",
        "plt.figure(figsize=(6, 4))\n",
        "sns.heatmap(correlation, annot=True, cmap='coolwarm', vmin=-1, vmax=1)\n",
        "plt.title('Correlation between EcNumber and InjuryType')\n",
        "plt.tight_layout()\n",
        "plt.show()\n"
      ],
      "metadata": {
        "colab": {
          "base_uri": "https://localhost:8080/",
          "height": 407
        },
        "id": "qkPQPpQXgPER",
        "outputId": "584feb37-543c-4584-b92f-4d7199fe6d51"
      },
      "execution_count": 4117,
      "outputs": [
        {
          "output_type": "display_data",
          "data": {
            "text/plain": [
              "<Figure size 600x400 with 2 Axes>"
            ],
            "image/png": "[encoded data removed]"
          },
          "metadata": {}
        }
      ]
    },
    {
      "cell_type": "markdown",
      "source": [
        "The value 0.00095 represents the correlation between EcNumber and InjuryType. A correlation of 0.00095 is extremely close to zero, meaning that there is no significant linear relationship between these two variables. That's why we deleted the EcNumber name region."
      ],
      "metadata": {
        "id": "Rdns0S31geL9"
      }
    },
    {
      "cell_type": "markdown",
      "source": [
        "##HospitalName Correlation check"
      ],
      "metadata": {
        "id": "mWTrFvhp8PF-"
      }
    },
    {
      "cell_type": "code",
      "source": [
        "df['HospitalName'].value_counts()"
      ],
      "metadata": {
        "id": "y9_fJXn1nHUn",
        "colab": {
          "base_uri": "https://localhost:8080/",
          "height": 490
        },
        "outputId": "924a6fe1-e208-4bd7-d6a0-d1cd9b229798"
      },
      "execution_count": 4118,
      "outputs": [
        {
          "output_type": "execute_result",
          "data": {
            "text/plain": [
              "HospitalName\n",
              "BBH                               6953\n",
              "DHQ                               6099\n",
              "PIMS                              1663\n",
              "RHC,Mandra,Rawalpindi             1655\n",
              "Wah General Hospital              1231\n",
              "                                  ... \n",
              "THQ, Fateh Jang                      1\n",
              "Nissa Nursing Home, Rawalpindi       1\n",
              "Nadeem Clinic, Rwp                   1\n",
              "Al Noor Hospital, Rwp                1\n",
              "Noor Khan Base, Rwp                  1\n",
              "Name: count, Length: 162, dtype: int64"
            ],
            "text/html": [
              "<div>\n",
              "<style scoped>\n",
              "    .dataframe tbody tr th:only-of-type {\n",
              "        vertical-align: middle;\n",
              "    }\n",
              "\n",
              "    .dataframe tbody tr th {\n",
              "        vertical-align: top;\n",
              "    }\n",
              "\n",
              "    .dataframe thead th {\n",
              "        text-align: right;\n",
              "    }\n",
              "</style>\n",
              "<table border=\"1\" class=\"dataframe\">\n",
              "  <thead>\n",
              "    <tr style=\"text-align: right;\">\n",
              "      <th></th>\n",
              "      <th>count</th>\n",
              "    </tr>\n",
              "    <tr>\n",
              "      <th>HospitalName</th>\n",
              "      <th></th>\n",
              "    </tr>\n",
              "  </thead>\n",
              "  <tbody>\n",
              "    <tr>\n",
              "      <th>BBH</th>\n",
              "      <td>6953</td>\n",
              "    </tr>\n",
              "    <tr>\n",
              "      <th>DHQ</th>\n",
              "      <td>6099</td>\n",
              "    </tr>\n",
              "    <tr>\n",
              "      <th>PIMS</th>\n",
              "      <td>1663</td>\n",
              "    </tr>\n",
              "    <tr>\n",
              "      <th>RHC,Mandra,Rawalpindi</th>\n",
              "      <td>1655</td>\n",
              "    </tr>\n",
              "    <tr>\n",
              "      <th>Wah General Hospital</th>\n",
              "      <td>1231</td>\n",
              "    </tr>\n",
              "    <tr>\n",
              "      <th>...</th>\n",
              "      <td>...</td>\n",
              "    </tr>\n",
              "    <tr>\n",
              "      <th>THQ, Fateh Jang</th>\n",
              "      <td>1</td>\n",
              "    </tr>\n",
              "    <tr>\n",
              "      <th>Nissa Nursing Home, Rawalpindi</th>\n",
              "      <td>1</td>\n",
              "    </tr>\n",
              "    <tr>\n",
              "      <th>Nadeem Clinic, Rwp</th>\n",
              "      <td>1</td>\n",
              "    </tr>\n",
              "    <tr>\n",
              "      <th>Al Noor Hospital, Rwp</th>\n",
              "      <td>1</td>\n",
              "    </tr>\n",
              "    <tr>\n",
              "      <th>Noor Khan Base, Rwp</th>\n",
              "      <td>1</td>\n",
              "    </tr>\n",
              "  </tbody>\n",
              "</table>\n",
              "<p>162 rows × 1 columns</p>\n",
              "</div><br><label><b>dtype:</b> int64</label>"
            ]
          },
          "metadata": {},
          "execution_count": 4118
        }
      ]
    },
    {
      "cell_type": "code",
      "source": [
        "df_sub = df[['HospitalName', 'InjuryType']].copy()\n",
        "df_sub['HospitalName'] = df_sub['HospitalName'].astype('category').cat.codes\n",
        "df_sub['InjuryType'] = df_sub['InjuryType'].astype('category').cat.codes\n",
        "df_sub.dropna(inplace=True)\n",
        "\n",
        "# Calculate the correlation matrix\n",
        "correlation = df_sub.corr()\n",
        "\n",
        "# Plot the heatmap for the correlation matrix\n",
        "plt.figure(figsize=(6, 4))\n",
        "sns.heatmap(correlation, annot=True, cmap='coolwarm', vmin=-1, vmax=1)\n",
        "plt.title('Correlation between HospitalName and InjuryType')\n",
        "plt.tight_layout()\n",
        "plt.show()"
      ],
      "metadata": {
        "colab": {
          "base_uri": "https://localhost:8080/",
          "height": 407
        },
        "id": "wpEQY5oz7PDo",
        "outputId": "6bd3305a-1ffa-4883-a315-0522285d6695"
      },
      "execution_count": 4119,
      "outputs": [
        {
          "output_type": "display_data",
          "data": {
            "text/plain": [
              "<Figure size 600x400 with 2 Axes>"
            ],
            "image/png": "[encoded data removed]"
          },
          "metadata": {}
        }
      ]
    },
    {
      "cell_type": "markdown",
      "source": [
        "The correlation between HospitalName and InjuryType is 0.12, which is a very weak positive correlation. This indicates that the two variables have a very minimal linear relationship, meaning the hospital where a patient was treated has little influence on the type of injury in the data.So we will remove this column"
      ],
      "metadata": {
        "id": "kGJfdKpQat4y"
      }
    },
    {
      "cell_type": "markdown",
      "source": [
        "##CallTime Correlation check"
      ],
      "metadata": {
        "id": "nCkpRybs8bU1"
      }
    },
    {
      "cell_type": "code",
      "source": [
        "df['CallTime'].value_counts()"
      ],
      "metadata": {
        "id": "ji-_eVVlnUIw",
        "colab": {
          "base_uri": "https://localhost:8080/",
          "height": 490
        },
        "outputId": "349b7bf5-f55b-4733-e2b0-dbb10b2484d2"
      },
      "execution_count": 4120,
      "outputs": [
        {
          "output_type": "execute_result",
          "data": {
            "text/plain": [
              "CallTime\n",
              "1/3/21 10:07     3\n",
              "9/30/20 13:35    3\n",
              "12/3/20 19:58    2\n",
              "10/13/20 8:36    2\n",
              "9/24/22 21:07    2\n",
              "                ..\n",
              "8/29/21 13:23    1\n",
              "8/29/21 13:07    1\n",
              "8/29/21 13:04    1\n",
              "8/29/21 12:50    1\n",
              "1/1/23 1:00      1\n",
              "Name: count, Length: 39994, dtype: int64"
            ],
            "text/html": [
              "<div>\n",
              "<style scoped>\n",
              "    .dataframe tbody tr th:only-of-type {\n",
              "        vertical-align: middle;\n",
              "    }\n",
              "\n",
              "    .dataframe tbody tr th {\n",
              "        vertical-align: top;\n",
              "    }\n",
              "\n",
              "    .dataframe thead th {\n",
              "        text-align: right;\n",
              "    }\n",
              "</style>\n",
              "<table border=\"1\" class=\"dataframe\">\n",
              "  <thead>\n",
              "    <tr style=\"text-align: right;\">\n",
              "      <th></th>\n",
              "      <th>count</th>\n",
              "    </tr>\n",
              "    <tr>\n",
              "      <th>CallTime</th>\n",
              "      <th></th>\n",
              "    </tr>\n",
              "  </thead>\n",
              "  <tbody>\n",
              "    <tr>\n",
              "      <th>1/3/21 10:07</th>\n",
              "      <td>3</td>\n",
              "    </tr>\n",
              "    <tr>\n",
              "      <th>9/30/20 13:35</th>\n",
              "      <td>3</td>\n",
              "    </tr>\n",
              "    <tr>\n",
              "      <th>12/3/20 19:58</th>\n",
              "      <td>2</td>\n",
              "    </tr>\n",
              "    <tr>\n",
              "      <th>10/13/20 8:36</th>\n",
              "      <td>2</td>\n",
              "    </tr>\n",
              "    <tr>\n",
              "      <th>9/24/22 21:07</th>\n",
              "      <td>2</td>\n",
              "    </tr>\n",
              "    <tr>\n",
              "      <th>...</th>\n",
              "      <td>...</td>\n",
              "    </tr>\n",
              "    <tr>\n",
              "      <th>8/29/21 13:23</th>\n",
              "      <td>1</td>\n",
              "    </tr>\n",
              "    <tr>\n",
              "      <th>8/29/21 13:07</th>\n",
              "      <td>1</td>\n",
              "    </tr>\n",
              "    <tr>\n",
              "      <th>8/29/21 13:04</th>\n",
              "      <td>1</td>\n",
              "    </tr>\n",
              "    <tr>\n",
              "      <th>8/29/21 12:50</th>\n",
              "      <td>1</td>\n",
              "    </tr>\n",
              "    <tr>\n",
              "      <th>1/1/23 1:00</th>\n",
              "      <td>1</td>\n",
              "    </tr>\n",
              "  </tbody>\n",
              "</table>\n",
              "<p>39994 rows × 1 columns</p>\n",
              "</div><br><label><b>dtype:</b> int64</label>"
            ]
          },
          "metadata": {},
          "execution_count": 4120
        }
      ]
    },
    {
      "cell_type": "code",
      "source": [
        "df_sub = df[['CallTime', 'InjuryType']].copy()\n",
        "\n",
        "df_sub['CallTime'] = df_sub['CallTime'].astype('category').cat.codes\n",
        "df_sub['InjuryType'] = df_sub['InjuryType'].astype('category').cat.codes\n",
        "df_sub.dropna(inplace=True)\n",
        "correlation = df_sub.corr()\n",
        "\n",
        "\n",
        "# Plot heatmap\n",
        "plt.figure(figsize=(6, 4))\n",
        "sns.heatmap(correlation, annot=True, cmap='coolwarm', vmin=-1, vmax=1)\n",
        "plt.title('Correlation between CallTime and InjuryType')\n",
        "plt.tight_layout()\n",
        "plt.show()"
      ],
      "metadata": {
        "colab": {
          "base_uri": "https://localhost:8080/",
          "height": 407
        },
        "id": "g2eesF_77qye",
        "outputId": "a74e5694-eace-4c29-833b-a8958f089c25"
      },
      "execution_count": 4121,
      "outputs": [
        {
          "output_type": "display_data",
          "data": {
            "text/plain": [
              "<Figure size 600x400 with 2 Axes>"
            ],
            "image/png": "[encoded data removed]"
          },
          "metadata": {}
        }
      ]
    },
    {
      "cell_type": "markdown",
      "source": [
        "The off-diagonal value of -0.0042 shows a very weak negative correlation between \"CallTime\" and \"InjuryType.\" This means that there is almost no linear relationship between these two variables, For that reason we deleted the \"CallTime\" column."
      ],
      "metadata": {
        "id": "xrKDR78obOvT"
      }
    },
    {
      "cell_type": "markdown",
      "source": [
        "##EcYear Correlation check"
      ],
      "metadata": {
        "id": "ONZtgvu28v0E"
      }
    },
    {
      "cell_type": "code",
      "source": [
        "df['EcYear'].value_counts()"
      ],
      "metadata": {
        "colab": {
          "base_uri": "https://localhost:8080/",
          "height": 304
        },
        "id": "lvF54U8l76Xc",
        "outputId": "532b813f-2bd7-44ab-dfc4-f7ae26f40018"
      },
      "execution_count": 4122,
      "outputs": [
        {
          "output_type": "execute_result",
          "data": {
            "text/plain": [
              "EcYear\n",
              "2021        12677\n",
              "2020        11382\n",
              "2023         9227\n",
              "2022         8708\n",
              "2022         4194\n",
              "Hospital        1\n",
              "Name: count, dtype: int64"
            ],
            "text/html": [
              "<div>\n",
              "<style scoped>\n",
              "    .dataframe tbody tr th:only-of-type {\n",
              "        vertical-align: middle;\n",
              "    }\n",
              "\n",
              "    .dataframe tbody tr th {\n",
              "        vertical-align: top;\n",
              "    }\n",
              "\n",
              "    .dataframe thead th {\n",
              "        text-align: right;\n",
              "    }\n",
              "</style>\n",
              "<table border=\"1\" class=\"dataframe\">\n",
              "  <thead>\n",
              "    <tr style=\"text-align: right;\">\n",
              "      <th></th>\n",
              "      <th>count</th>\n",
              "    </tr>\n",
              "    <tr>\n",
              "      <th>EcYear</th>\n",
              "      <th></th>\n",
              "    </tr>\n",
              "  </thead>\n",
              "  <tbody>\n",
              "    <tr>\n",
              "      <th>2021</th>\n",
              "      <td>12677</td>\n",
              "    </tr>\n",
              "    <tr>\n",
              "      <th>2020</th>\n",
              "      <td>11382</td>\n",
              "    </tr>\n",
              "    <tr>\n",
              "      <th>2023</th>\n",
              "      <td>9227</td>\n",
              "    </tr>\n",
              "    <tr>\n",
              "      <th>2022</th>\n",
              "      <td>8708</td>\n",
              "    </tr>\n",
              "    <tr>\n",
              "      <th>2022</th>\n",
              "      <td>4194</td>\n",
              "    </tr>\n",
              "    <tr>\n",
              "      <th>Hospital</th>\n",
              "      <td>1</td>\n",
              "    </tr>\n",
              "  </tbody>\n",
              "</table>\n",
              "</div><br><label><b>dtype:</b> int64</label>"
            ]
          },
          "metadata": {},
          "execution_count": 4122
        }
      ]
    },
    {
      "cell_type": "code",
      "source": [
        "df_sub = df[['EcYear', 'InjuryType']].copy()\n",
        "\n",
        "df_sub['EcYear'] = df_sub['EcYear'].astype('category').cat.codes\n",
        "df_sub['InjuryType'] = df_sub['InjuryType'].astype('category').cat.codes\n",
        "df_sub.dropna(inplace=True)\n",
        "correlation = df_sub.corr()\n",
        "\n",
        "# Plot heatmap\n",
        "plt.figure(figsize=(6, 4))\n",
        "sns.heatmap(correlation, annot=True, cmap='coolwarm', vmin=-1, vmax=1)\n",
        "plt.title('Correlation between EcYear and InjuryType')\n",
        "plt.tight_layout()\n",
        "plt.show()"
      ],
      "metadata": {
        "colab": {
          "base_uri": "https://localhost:8080/",
          "height": 407
        },
        "id": "qbrlrBJN8AFe",
        "outputId": "8e072b13-6604-4493-95a2-b2515c2d826f"
      },
      "execution_count": 4123,
      "outputs": [
        {
          "output_type": "display_data",
          "data": {
            "text/plain": [
              "<Figure size 600x400 with 2 Axes>"
            ],
            "image/png": "[encoded data removed]"
          },
          "metadata": {}
        }
      ]
    },
    {
      "cell_type": "markdown",
      "source": [
        "The off-diagonal value of -0.0076 shows a very weak negative correlation between \"EcYear\" and \"InjuryType.\" This means that there is almost no linear relationship between these two variables, For that reason we deleted the \"EcYear\" column."
      ],
      "metadata": {
        "id": "kG9A4VAsbevf"
      }
    },
    {
      "cell_type": "markdown",
      "source": [
        "##Info About Dropping\n",
        "\n",
        "` EcNumber, HospitalName, EcYear, PatientStatus and CallTime were removed as they do not exhibit any significant correlation with the target variable.`\n",
        "\n"
      ],
      "metadata": {
        "id": "bZMjqQ-okWsb"
      }
    },
    {
      "cell_type": "code",
      "source": [
        "df = df.drop(['EcNumber', 'HospitalName', 'EcYear', 'CallTime'], axis=1)"
      ],
      "metadata": {
        "id": "DHCkIxakQ4-Z"
      },
      "execution_count": 4124,
      "outputs": []
    },
    {
      "cell_type": "code",
      "source": [
        "df.info()"
      ],
      "metadata": {
        "id": "rvv-eyHQQ_SW",
        "colab": {
          "base_uri": "https://localhost:8080/"
        },
        "outputId": "30e3b811-e2e2-44c9-ff04-3c94d49fc861"
      },
      "execution_count": 4125,
      "outputs": [
        {
          "output_type": "stream",
          "name": "stdout",
          "text": [
            "<class 'pandas.core.frame.DataFrame'>\n",
            "RangeIndex: 46189 entries, 0 to 46188\n",
            "Data columns (total 21 columns):\n",
            " #   Column                    Non-Null Count  Dtype  \n",
            "---  ------                    --------------  -----  \n",
            " 0   EmergencyArea             46189 non-null  object \n",
            " 1   TotalPatientsInEmergency  46189 non-null  object \n",
            " 2   Gender                    46188 non-null  object \n",
            " 3   Age                       46188 non-null  float64\n",
            " 4   Reason                    46188 non-null  object \n",
            " 5   responsetime              46184 non-null  float64\n",
            " 6   EducationTitle            46188 non-null  object \n",
            " 7   InjuryType                46187 non-null  object \n",
            " 8   Cause                     46187 non-null  object \n",
            " 9   PatientStatus             46187 non-null  object \n",
            " 10  BicycleInvovled           46187 non-null  float64\n",
            " 11  BikesInvolved             46187 non-null  float64\n",
            " 12  BusesInvolved             46187 non-null  float64\n",
            " 13  CarsInvolved              46187 non-null  float64\n",
            " 14  CartInvovled              46187 non-null  float64\n",
            " 15  RickshawsInvolved         46187 non-null  float64\n",
            " 16  TractorInvovled           46187 non-null  float64\n",
            " 17  TrainsInvovled            46187 non-null  float64\n",
            " 18  TrucksInvolved            46187 non-null  float64\n",
            " 19  VansInvolved              46187 non-null  float64\n",
            " 20  OthersInvolved            46187 non-null  float64\n",
            "dtypes: float64(13), object(8)\n",
            "memory usage: 7.4+ MB\n"
          ]
        }
      ]
    },
    {
      "cell_type": "markdown",
      "source": [
        "#Filling the Missing Values\n"
      ],
      "metadata": {
        "id": "EYaKE7tjRC9q"
      }
    },
    {
      "cell_type": "code",
      "source": [
        "#missing values\n",
        "df.isnull().sum()"
      ],
      "metadata": {
        "id": "wwW16sfIRT21",
        "colab": {
          "base_uri": "https://localhost:8080/",
          "height": 743
        },
        "outputId": "4b1f5348-e005-4795-f129-0246f097ae46"
      },
      "execution_count": 4126,
      "outputs": [
        {
          "output_type": "execute_result",
          "data": {
            "text/plain": [
              "EmergencyArea               0\n",
              "TotalPatientsInEmergency    0\n",
              "Gender                      1\n",
              "Age                         1\n",
              "Reason                      1\n",
              "responsetime                5\n",
              "EducationTitle              1\n",
              "InjuryType                  2\n",
              "Cause                       2\n",
              "PatientStatus               2\n",
              "BicycleInvovled             2\n",
              "BikesInvolved               2\n",
              "BusesInvolved               2\n",
              "CarsInvolved                2\n",
              "CartInvovled                2\n",
              "RickshawsInvolved           2\n",
              "TractorInvovled             2\n",
              "TrainsInvovled              2\n",
              "TrucksInvolved              2\n",
              "VansInvolved                2\n",
              "OthersInvolved              2\n",
              "dtype: int64"
            ],
            "text/html": [
              "<div>\n",
              "<style scoped>\n",
              "    .dataframe tbody tr th:only-of-type {\n",
              "        vertical-align: middle;\n",
              "    }\n",
              "\n",
              "    .dataframe tbody tr th {\n",
              "        vertical-align: top;\n",
              "    }\n",
              "\n",
              "    .dataframe thead th {\n",
              "        text-align: right;\n",
              "    }\n",
              "</style>\n",
              "<table border=\"1\" class=\"dataframe\">\n",
              "  <thead>\n",
              "    <tr style=\"text-align: right;\">\n",
              "      <th></th>\n",
              "      <th>0</th>\n",
              "    </tr>\n",
              "  </thead>\n",
              "  <tbody>\n",
              "    <tr>\n",
              "      <th>EmergencyArea</th>\n",
              "      <td>0</td>\n",
              "    </tr>\n",
              "    <tr>\n",
              "      <th>TotalPatientsInEmergency</th>\n",
              "      <td>0</td>\n",
              "    </tr>\n",
              "    <tr>\n",
              "      <th>Gender</th>\n",
              "      <td>1</td>\n",
              "    </tr>\n",
              "    <tr>\n",
              "      <th>Age</th>\n",
              "      <td>1</td>\n",
              "    </tr>\n",
              "    <tr>\n",
              "      <th>Reason</th>\n",
              "      <td>1</td>\n",
              "    </tr>\n",
              "    <tr>\n",
              "      <th>responsetime</th>\n",
              "      <td>5</td>\n",
              "    </tr>\n",
              "    <tr>\n",
              "      <th>EducationTitle</th>\n",
              "      <td>1</td>\n",
              "    </tr>\n",
              "    <tr>\n",
              "      <th>InjuryType</th>\n",
              "      <td>2</td>\n",
              "    </tr>\n",
              "    <tr>\n",
              "      <th>Cause</th>\n",
              "      <td>2</td>\n",
              "    </tr>\n",
              "    <tr>\n",
              "      <th>PatientStatus</th>\n",
              "      <td>2</td>\n",
              "    </tr>\n",
              "    <tr>\n",
              "      <th>BicycleInvovled</th>\n",
              "      <td>2</td>\n",
              "    </tr>\n",
              "    <tr>\n",
              "      <th>BikesInvolved</th>\n",
              "      <td>2</td>\n",
              "    </tr>\n",
              "    <tr>\n",
              "      <th>BusesInvolved</th>\n",
              "      <td>2</td>\n",
              "    </tr>\n",
              "    <tr>\n",
              "      <th>CarsInvolved</th>\n",
              "      <td>2</td>\n",
              "    </tr>\n",
              "    <tr>\n",
              "      <th>CartInvovled</th>\n",
              "      <td>2</td>\n",
              "    </tr>\n",
              "    <tr>\n",
              "      <th>RickshawsInvolved</th>\n",
              "      <td>2</td>\n",
              "    </tr>\n",
              "    <tr>\n",
              "      <th>TractorInvovled</th>\n",
              "      <td>2</td>\n",
              "    </tr>\n",
              "    <tr>\n",
              "      <th>TrainsInvovled</th>\n",
              "      <td>2</td>\n",
              "    </tr>\n",
              "    <tr>\n",
              "      <th>TrucksInvolved</th>\n",
              "      <td>2</td>\n",
              "    </tr>\n",
              "    <tr>\n",
              "      <th>VansInvolved</th>\n",
              "      <td>2</td>\n",
              "    </tr>\n",
              "    <tr>\n",
              "      <th>OthersInvolved</th>\n",
              "      <td>2</td>\n",
              "    </tr>\n",
              "  </tbody>\n",
              "</table>\n",
              "</div><br><label><b>dtype:</b> int64</label>"
            ]
          },
          "metadata": {},
          "execution_count": 4126
        }
      ]
    },
    {
      "cell_type": "markdown",
      "source": [
        "##Handling Missing Values\n",
        "`While several columns contain missing values, the number of missing entries is relatively low, with a maximum of 5 missing values in the **responseTime** column. Given the small number of missing values, it is not a significant issue. To address this, we can apply a forward fill technique, which propagates the last valid observation to the next missing one. In this case, we have opted for the forward fill method to handle the missing values efficiently.`"
      ],
      "metadata": {
        "id": "knaBVOlHRpR0"
      }
    },
    {
      "cell_type": "code",
      "source": [
        "forwardfill = [\n",
        "    'Reason', 'responsetime', 'EducationTitle', 'InjuryType', 'Cause',\n",
        "    'BicycleInvovled', 'BikesInvolved', 'BusesInvolved', 'CarsInvolved',\n",
        "    'CartInvovled', 'RickshawsInvolved', 'TractorInvovled', 'TrainsInvovled',\n",
        "    'TrucksInvolved', 'VansInvolved', 'OthersInvolved', 'Age','Gender' ,'PatientStatus'\n",
        "]\n",
        "\n",
        "\n",
        "df[forwardfill] = df[forwardfill].fillna(method='ffill')\n",
        "\n",
        "\n",
        "df.isnull().sum()"
      ],
      "metadata": {
        "id": "Uc2YH2qwSWsa",
        "colab": {
          "base_uri": "https://localhost:8080/",
          "height": 797
        },
        "outputId": "5b3f9cbf-1263-452e-b370-67240d36ad92"
      },
      "execution_count": 4127,
      "outputs": [
        {
          "output_type": "stream",
          "name": "stderr",
          "text": [
            "<ipython-input-4127-a5da0e5dd916>:9: FutureWarning: DataFrame.fillna with 'method' is deprecated and will raise in a future version. Use obj.ffill() or obj.bfill() instead.\n",
            "  df[forwardfill] = df[forwardfill].fillna(method='ffill')\n"
          ]
        },
        {
          "output_type": "execute_result",
          "data": {
            "text/plain": [
              "EmergencyArea               0\n",
              "TotalPatientsInEmergency    0\n",
              "Gender                      0\n",
              "Age                         0\n",
              "Reason                      0\n",
              "responsetime                0\n",
              "EducationTitle              0\n",
              "InjuryType                  0\n",
              "Cause                       0\n",
              "PatientStatus               0\n",
              "BicycleInvovled             0\n",
              "BikesInvolved               0\n",
              "BusesInvolved               0\n",
              "CarsInvolved                0\n",
              "CartInvovled                0\n",
              "RickshawsInvolved           0\n",
              "TractorInvovled             0\n",
              "TrainsInvovled              0\n",
              "TrucksInvolved              0\n",
              "VansInvolved                0\n",
              "OthersInvolved              0\n",
              "dtype: int64"
            ],
            "text/html": [
              "<div>\n",
              "<style scoped>\n",
              "    .dataframe tbody tr th:only-of-type {\n",
              "        vertical-align: middle;\n",
              "    }\n",
              "\n",
              "    .dataframe tbody tr th {\n",
              "        vertical-align: top;\n",
              "    }\n",
              "\n",
              "    .dataframe thead th {\n",
              "        text-align: right;\n",
              "    }\n",
              "</style>\n",
              "<table border=\"1\" class=\"dataframe\">\n",
              "  <thead>\n",
              "    <tr style=\"text-align: right;\">\n",
              "      <th></th>\n",
              "      <th>0</th>\n",
              "    </tr>\n",
              "  </thead>\n",
              "  <tbody>\n",
              "    <tr>\n",
              "      <th>EmergencyArea</th>\n",
              "      <td>0</td>\n",
              "    </tr>\n",
              "    <tr>\n",
              "      <th>TotalPatientsInEmergency</th>\n",
              "      <td>0</td>\n",
              "    </tr>\n",
              "    <tr>\n",
              "      <th>Gender</th>\n",
              "      <td>0</td>\n",
              "    </tr>\n",
              "    <tr>\n",
              "      <th>Age</th>\n",
              "      <td>0</td>\n",
              "    </tr>\n",
              "    <tr>\n",
              "      <th>Reason</th>\n",
              "      <td>0</td>\n",
              "    </tr>\n",
              "    <tr>\n",
              "      <th>responsetime</th>\n",
              "      <td>0</td>\n",
              "    </tr>\n",
              "    <tr>\n",
              "      <th>EducationTitle</th>\n",
              "      <td>0</td>\n",
              "    </tr>\n",
              "    <tr>\n",
              "      <th>InjuryType</th>\n",
              "      <td>0</td>\n",
              "    </tr>\n",
              "    <tr>\n",
              "      <th>Cause</th>\n",
              "      <td>0</td>\n",
              "    </tr>\n",
              "    <tr>\n",
              "      <th>PatientStatus</th>\n",
              "      <td>0</td>\n",
              "    </tr>\n",
              "    <tr>\n",
              "      <th>BicycleInvovled</th>\n",
              "      <td>0</td>\n",
              "    </tr>\n",
              "    <tr>\n",
              "      <th>BikesInvolved</th>\n",
              "      <td>0</td>\n",
              "    </tr>\n",
              "    <tr>\n",
              "      <th>BusesInvolved</th>\n",
              "      <td>0</td>\n",
              "    </tr>\n",
              "    <tr>\n",
              "      <th>CarsInvolved</th>\n",
              "      <td>0</td>\n",
              "    </tr>\n",
              "    <tr>\n",
              "      <th>CartInvovled</th>\n",
              "      <td>0</td>\n",
              "    </tr>\n",
              "    <tr>\n",
              "      <th>RickshawsInvolved</th>\n",
              "      <td>0</td>\n",
              "    </tr>\n",
              "    <tr>\n",
              "      <th>TractorInvovled</th>\n",
              "      <td>0</td>\n",
              "    </tr>\n",
              "    <tr>\n",
              "      <th>TrainsInvovled</th>\n",
              "      <td>0</td>\n",
              "    </tr>\n",
              "    <tr>\n",
              "      <th>TrucksInvolved</th>\n",
              "      <td>0</td>\n",
              "    </tr>\n",
              "    <tr>\n",
              "      <th>VansInvolved</th>\n",
              "      <td>0</td>\n",
              "    </tr>\n",
              "    <tr>\n",
              "      <th>OthersInvolved</th>\n",
              "      <td>0</td>\n",
              "    </tr>\n",
              "  </tbody>\n",
              "</table>\n",
              "</div><br><label><b>dtype:</b> int64</label>"
            ]
          },
          "metadata": {},
          "execution_count": 4127
        }
      ]
    },
    {
      "cell_type": "markdown",
      "source": [
        "#Duplicate Value"
      ],
      "metadata": {
        "id": "xsJCghPwluWd"
      }
    },
    {
      "cell_type": "code",
      "source": [
        "df[df.duplicated()]"
      ],
      "metadata": {
        "id": "cf--Bwwg6O1R",
        "colab": {
          "base_uri": "https://localhost:8080/",
          "height": 1000
        },
        "outputId": "3bc0326a-77f4-4632-f572-474530fdea82"
      },
      "execution_count": 4128,
      "outputs": [
        {
          "output_type": "execute_result",
          "data": {
            "text/plain": [
              "                                           EmergencyArea  \\\n",
              "745                   Near sehal village chakri road Rwp   \n",
              "1546   Infront of ashraf marriage hall dhoke hafiz   ...   \n",
              "6037               Near flying Club Old airport road rwp   \n",
              "8301   Main Ali Nawaz Chowk Khatarnaak More Rawal Roa...   \n",
              "9573   Infront Of BAwali Hotel T/W Mandra GT Road Guj...   \n",
              "11314  Dhoke Muqadam Stop, Near Attock Pump/ LRBT, G ...   \n",
              "12518           ranial near ranial choki chakri road rwp   \n",
              "17488  NEAR BRIDGE,BHARIATOWN PHASE 1,NEAR SIFFARI VI...   \n",
              "21791               Missa Kaswal GT Road Gujjar Khan Rwp   \n",
              "23862                    AZAD PATTAN AZAD KASHMIR KAHUTA   \n",
              "23863                    AZAD PATTAN AZAD KASHMIR KAHUTA   \n",
              "23864                    AZAD PATTAN AZAD KASHMIR KAHUTA   \n",
              "23974                            Panjar Near Soon Kahuta   \n",
              "25122                  Taxila Bypass, Kabli Market, Rwp.   \n",
              "27046                      N/r statep bank mall road rwp   \n",
              "31881            Butt karahi wah Garden barrier 3 Taxila   \n",
              "36040                 Koh e Noor Mill Peshawar Road Rwp    \n",
              "36633                         Near Missa Kaswal GT Road    \n",
              "38070         Grand Trunk Road, Koh-e-Noor Mill gate Rwp   \n",
              "38859   Front of Nawaz Shareef Park Murree road Rawal...   \n",
              "40706           Mureed chowk Dobairan Road kallar syedan   \n",
              "41093   Wah International hospital Gt Road Near Wgh T...   \n",
              "41694                         IJP Road, I-10, Rawalpindi   \n",
              "41790          Ayub Park, near golf club jhelum road rwp   \n",
              "43188        Near pso pump link adyala road cod stop rwp   \n",
              "44773  Near Eyes hospital LRBT Toll Plaza G.t Road Ma...   \n",
              "44876   bahria town phase 07 globe chowk, front of ba...   \n",
              "45225  Near Fauji Foundation Hospital T/W Kacheri Jhe...   \n",
              "\n",
              "      TotalPatientsInEmergency  Gender   Age  \\\n",
              "745                          4    Male  42.0   \n",
              "1546                         3    Male  16.0   \n",
              "6037                         3    Male  18.0   \n",
              "8301                         5    Male  17.0   \n",
              "9573                         4    Male  50.0   \n",
              "11314                        5  Female  45.0   \n",
              "12518                        4    Male  27.0   \n",
              "17488                        3    Male  18.0   \n",
              "21791                        8    Male  30.0   \n",
              "23862                        5    Male  40.0   \n",
              "23863                        5    Male  40.0   \n",
              "23864                        5    Male  40.0   \n",
              "23974                        6    Male  63.0   \n",
              "25122                        3    Male  19.0   \n",
              "27046                        3    Male  16.0   \n",
              "31881                        3    Male  50.0   \n",
              "36040                        3  Female  40.0   \n",
              "36633                        4    Male  25.0   \n",
              "38070                        3    Male  18.0   \n",
              "38859                        4    Male  22.0   \n",
              "40706                        3    Male  20.0   \n",
              "41093                        3    Male  20.0   \n",
              "41694                        3    Male  20.0   \n",
              "41790                        3    Male  27.0   \n",
              "43188                        3    Male  20.0   \n",
              "44773                        4  Female  35.0   \n",
              "44876                       15    Male  30.0   \n",
              "45225                        3  Female  19.0   \n",
              "\n",
              "                                                  Reason  responsetime  \\\n",
              "745                                                 same           8.0   \n",
              "1546                                                same           3.0   \n",
              "6037                                               Same            7.0   \n",
              "8301                                                same           7.0   \n",
              "9573                                                same           6.0   \n",
              "11314                                              Same            7.0   \n",
              "12518                                              Same            8.0   \n",
              "17488                                               Same          12.0   \n",
              "21791                                               same          10.0   \n",
              "23862                                               same          53.0   \n",
              "23863                                               same          53.0   \n",
              "23864                                               same          53.0   \n",
              "23974                                               same           6.0   \n",
              "25122                                              Same           12.0   \n",
              "27046                                               Same           6.0   \n",
              "31881                                              Same            5.0   \n",
              "36040                                              Same            5.0   \n",
              "36633                                               same           8.0   \n",
              "38070                                                  .          13.0   \n",
              "38859                                                  .           3.0   \n",
              "40706                                              Same            5.0   \n",
              "41093                                                  .          14.0   \n",
              "41694                                                  .           5.0   \n",
              "41790                                              Same            3.0   \n",
              "43188                                               Same           7.0   \n",
              "44773   Rakshaw(applied for ) ka excel Tutney ki wajh...           5.0   \n",
              "44876                                              Same            5.0   \n",
              "45225                                                  .           5.0   \n",
              "\n",
              "      EducationTitle       InjuryType         Cause     PatientStatus  ...  \\\n",
              "745           Matric            Minor  Carelessness  Alive & unstable  ...   \n",
              "1546          Matric            Minor    Over Speed  Alive & unstable  ...   \n",
              "6037         Primary            Minor    Over Speed  Alive & unstable  ...   \n",
              "8301          Matric            Minor    Over Speed  Alive & unstable  ...   \n",
              "9573         Primary            Minor        U Turn  Alive & unstable  ...   \n",
              "11314         Middle            Minor    Over Speed  Alive & unstable  ...   \n",
              "12518      Illetrate            Minor    Over Speed  Alive & unstable  ...   \n",
              "17488        Primary            Minor  Carelessness    Alive & stable  ...   \n",
              "21791      Illetrate            Minor    Over Speed  Alive & unstable  ...   \n",
              "23862      Illetrate      Head Injury    Over Speed              Dead  ...   \n",
              "23863      Illetrate      Head Injury    Over Speed              Dead  ...   \n",
              "23864      Illetrate      Head Injury    Over Speed              Dead  ...   \n",
              "23974      Illetrate            Minor  Carelessness    Alive & stable  ...   \n",
              "25122     Graduation            Minor  Carelessness  Alive & unstable  ...   \n",
              "27046         Matric            Minor    Over Speed  Alive & unstable  ...   \n",
              "31881      Illetrate            Minor  Carelessness  Alive & unstable  ...   \n",
              "36040      Illetrate            Minor  Carelessness  Alive & unstable  ...   \n",
              "36633         Matric  Single Fracture    Over Speed  Alive & unstable  ...   \n",
              "38070         Matric            Minor  Carelessness  Alive & unstable  ...   \n",
              "38859   Intermediate            Minor    Over Speed  Alive & unstable  ...   \n",
              "40706         Matric      Head Injury    Over Speed  Alive & unstable  ...   \n",
              "41093     Graduation            Minor  Carelessness  Alive & unstable  ...   \n",
              "41694         Matric            Minor    Over Speed  Alive & unstable  ...   \n",
              "41790         Matric            Minor    Over Speed  Alive & unstable  ...   \n",
              "43188      Illetrate            Minor  Carelessness  Alive & unstable  ...   \n",
              "44773        Primary            Minor    Over Speed  Alive & unstable  ...   \n",
              "44876      Illetrate            Minor  Carelessness  Alive & unstable  ...   \n",
              "45225   Intermediate            Minor    Over Speed  Alive & unstable  ...   \n",
              "\n",
              "       BikesInvolved  BusesInvolved  CarsInvolved  CartInvovled  \\\n",
              "745              0.0            0.0           0.0           0.0   \n",
              "1546             1.0            0.0           0.0           0.0   \n",
              "6037             0.0            1.0           1.0           0.0   \n",
              "8301             0.0            0.0           2.0           0.0   \n",
              "9573             0.0            0.0           1.0           0.0   \n",
              "11314            0.0            0.0           0.0           0.0   \n",
              "12518            0.0            0.0           0.0           0.0   \n",
              "17488            1.0            0.0           1.0           0.0   \n",
              "21791            0.0            0.0           1.0           0.0   \n",
              "23862            0.0            0.0           1.0           0.0   \n",
              "23863            0.0            0.0           1.0           0.0   \n",
              "23864            0.0            0.0           1.0           0.0   \n",
              "23974            0.0            0.0           0.0           0.0   \n",
              "25122            1.0            0.0           0.0           0.0   \n",
              "27046            1.0            0.0           0.0           0.0   \n",
              "31881            0.0            0.0           0.0           0.0   \n",
              "36040            0.0            0.0           1.0           0.0   \n",
              "36633            0.0            0.0           1.0           0.0   \n",
              "38070            2.0            0.0           0.0           0.0   \n",
              "38859            0.0            0.0           1.0           0.0   \n",
              "40706            2.0            0.0           0.0           0.0   \n",
              "41093            1.0            0.0           0.0           0.0   \n",
              "41694            1.0            0.0           0.0           0.0   \n",
              "41790            1.0            0.0           1.0           0.0   \n",
              "43188            0.0            0.0           1.0           0.0   \n",
              "44773            0.0            0.0           1.0           0.0   \n",
              "44876            0.0            0.0           0.0           0.0   \n",
              "45225            0.0            0.0           1.0           0.0   \n",
              "\n",
              "       RickshawsInvolved  TractorInvovled  TrainsInvovled  TrucksInvolved  \\\n",
              "745                  0.0              0.0             0.0             0.0   \n",
              "1546                 0.0              0.0             0.0             0.0   \n",
              "6037                 0.0              0.0             0.0             0.0   \n",
              "8301                 0.0              0.0             0.0             0.0   \n",
              "9573                 0.0              0.0             0.0             0.0   \n",
              "11314                1.0              0.0             0.0             0.0   \n",
              "12518                0.0              0.0             0.0             1.0   \n",
              "17488                0.0              0.0             0.0             0.0   \n",
              "21791                0.0              0.0             0.0             1.0   \n",
              "23862                0.0              0.0             0.0             0.0   \n",
              "23863                0.0              0.0             0.0             0.0   \n",
              "23864                0.0              0.0             0.0             0.0   \n",
              "23974                0.0              0.0             0.0             0.0   \n",
              "25122                0.0              0.0             0.0             1.0   \n",
              "27046                0.0              0.0             0.0             0.0   \n",
              "31881                0.0              0.0             0.0             1.0   \n",
              "36040                0.0              0.0             0.0             0.0   \n",
              "36633                0.0              0.0             0.0             0.0   \n",
              "38070                0.0              0.0             0.0             0.0   \n",
              "38859                0.0              0.0             0.0             0.0   \n",
              "40706                0.0              0.0             0.0             0.0   \n",
              "41093                0.0              0.0             0.0             0.0   \n",
              "41694                0.0              0.0             0.0             0.0   \n",
              "41790                0.0              0.0             0.0             0.0   \n",
              "43188                0.0              0.0             0.0             0.0   \n",
              "44773                1.0              0.0             0.0             0.0   \n",
              "44876                0.0              1.0             0.0             0.0   \n",
              "45225                0.0              0.0             0.0             0.0   \n",
              "\n",
              "       VansInvolved  OthersInvolved  \n",
              "745             1.0             0.0  \n",
              "1546            1.0             0.0  \n",
              "6037            0.0             0.0  \n",
              "8301            0.0             0.0  \n",
              "9573            1.0             0.0  \n",
              "11314           1.0             0.0  \n",
              "12518           0.0             0.0  \n",
              "17488           0.0             0.0  \n",
              "21791           1.0             0.0  \n",
              "23862           1.0             0.0  \n",
              "23863           1.0             0.0  \n",
              "23864           1.0             0.0  \n",
              "23974           1.0             0.0  \n",
              "25122           0.0             0.0  \n",
              "27046           1.0             0.0  \n",
              "31881           0.0             0.0  \n",
              "36040           0.0             0.0  \n",
              "36633           0.0             0.0  \n",
              "38070           0.0             0.0  \n",
              "38859           0.0             0.0  \n",
              "40706           0.0             0.0  \n",
              "41093           0.0             0.0  \n",
              "41694           0.0             0.0  \n",
              "41790           0.0             0.0  \n",
              "43188           0.0             0.0  \n",
              "44773           0.0             0.0  \n",
              "44876           0.0             0.0  \n",
              "45225           1.0             0.0  \n",
              "\n",
              "[28 rows x 21 columns]"
            ],
            "text/html": [
              "\n",
              "  <div id=\"df-1298c09c-e2cf-4a5a-a980-1aac4b98543f\" class=\"colab-df-container\">\n",
              "    <div>\n",
              "<style scoped>\n",
              "    .dataframe tbody tr th:only-of-type {\n",
              "        vertical-align: middle;\n",
              "    }\n",
              "\n",
              "    .dataframe tbody tr th {\n",
              "        vertical-align: top;\n",
              "    }\n",
              "\n",
              "    .dataframe thead th {\n",
              "        text-align: right;\n",
              "    }\n",
              "</style>\n",
              "<table border=\"1\" class=\"dataframe\">\n",
              "  <thead>\n",
              "    <tr style=\"text-align: right;\">\n",
              "      <th></th>\n",
              "      <th>EmergencyArea</th>\n",
              "      <th>TotalPatientsInEmergency</th>\n",
              "      <th>Gender</th>\n",
              "      <th>Age</th>\n",
              "      <th>Reason</th>\n",
              "      <th>responsetime</th>\n",
              "      <th>EducationTitle</th>\n",
              "      <th>InjuryType</th>\n",
              "      <th>Cause</th>\n",
              "      <th>PatientStatus</th>\n",
              "      <th>...</th>\n",
              "      <th>BikesInvolved</th>\n",
              "      <th>BusesInvolved</th>\n",
              "      <th>CarsInvolved</th>\n",
              "      <th>CartInvovled</th>\n",
              "      <th>RickshawsInvolved</th>\n",
              "      <th>TractorInvovled</th>\n",
              "      <th>TrainsInvovled</th>\n",
              "      <th>TrucksInvolved</th>\n",
              "      <th>VansInvolved</th>\n",
              "      <th>OthersInvolved</th>\n",
              "    </tr>\n",
              "  </thead>\n",
              "  <tbody>\n",
              "    <tr>\n",
              "      <th>745</th>\n",
              "      <td>Near sehal village chakri road Rwp</td>\n",
              "      <td>4</td>\n",
              "      <td>Male</td>\n",
              "      <td>42.0</td>\n",
              "      <td>same</td>\n",
              "      <td>8.0</td>\n",
              "      <td>Matric</td>\n",
              "      <td>Minor</td>\n",
              "      <td>Carelessness</td>\n",
              "      <td>Alive &amp; unstable</td>\n",
              "      <td>...</td>\n",
              "      <td>0.0</td>\n",
              "      <td>0.0</td>\n",
              "      <td>0.0</td>\n",
              "      <td>0.0</td>\n",
              "      <td>0.0</td>\n",
              "      <td>0.0</td>\n",
              "      <td>0.0</td>\n",
              "      <td>0.0</td>\n",
              "      <td>1.0</td>\n",
              "      <td>0.0</td>\n",
              "    </tr>\n",
              "    <tr>\n",
              "      <th>1546</th>\n",
              "      <td>Infront of ashraf marriage hall dhoke hafiz   ...</td>\n",
              "      <td>3</td>\n",
              "      <td>Male</td>\n",
              "      <td>16.0</td>\n",
              "      <td>same</td>\n",
              "      <td>3.0</td>\n",
              "      <td>Matric</td>\n",
              "      <td>Minor</td>\n",
              "      <td>Over Speed</td>\n",
              "      <td>Alive &amp; unstable</td>\n",
              "      <td>...</td>\n",
              "      <td>1.0</td>\n",
              "      <td>0.0</td>\n",
              "      <td>0.0</td>\n",
              "      <td>0.0</td>\n",
              "      <td>0.0</td>\n",
              "      <td>0.0</td>\n",
              "      <td>0.0</td>\n",
              "      <td>0.0</td>\n",
              "      <td>1.0</td>\n",
              "      <td>0.0</td>\n",
              "    </tr>\n",
              "    <tr>\n",
              "      <th>6037</th>\n",
              "      <td>Near flying Club Old airport road rwp</td>\n",
              "      <td>3</td>\n",
              "      <td>Male</td>\n",
              "      <td>18.0</td>\n",
              "      <td>Same</td>\n",
              "      <td>7.0</td>\n",
              "      <td>Primary</td>\n",
              "      <td>Minor</td>\n",
              "      <td>Over Speed</td>\n",
              "      <td>Alive &amp; unstable</td>\n",
              "      <td>...</td>\n",
              "      <td>0.0</td>\n",
              "      <td>1.0</td>\n",
              "      <td>1.0</td>\n",
              "      <td>0.0</td>\n",
              "      <td>0.0</td>\n",
              "      <td>0.0</td>\n",
              "      <td>0.0</td>\n",
              "      <td>0.0</td>\n",
              "      <td>0.0</td>\n",
              "      <td>0.0</td>\n",
              "    </tr>\n",
              "    <tr>\n",
              "      <th>8301</th>\n",
              "      <td>Main Ali Nawaz Chowk Khatarnaak More Rawal Roa...</td>\n",
              "      <td>5</td>\n",
              "      <td>Male</td>\n",
              "      <td>17.0</td>\n",
              "      <td>same</td>\n",
              "      <td>7.0</td>\n",
              "      <td>Matric</td>\n",
              "      <td>Minor</td>\n",
              "      <td>Over Speed</td>\n",
              "      <td>Alive &amp; unstable</td>\n",
              "      <td>...</td>\n",
              "      <td>0.0</td>\n",
              "      <td>0.0</td>\n",
              "      <td>2.0</td>\n",
              "      <td>0.0</td>\n",
              "      <td>0.0</td>\n",
              "      <td>0.0</td>\n",
              "      <td>0.0</td>\n",
              "      <td>0.0</td>\n",
              "      <td>0.0</td>\n",
              "      <td>0.0</td>\n",
              "    </tr>\n",
              "    <tr>\n",
              "      <th>9573</th>\n",
              "      <td>Infront Of BAwali Hotel T/W Mandra GT Road Guj...</td>\n",
              "      <td>4</td>\n",
              "      <td>Male</td>\n",
              "      <td>50.0</td>\n",
              "      <td>same</td>\n",
              "      <td>6.0</td>\n",
              "      <td>Primary</td>\n",
              "      <td>Minor</td>\n",
              "      <td>U Turn</td>\n",
              "      <td>Alive &amp; unstable</td>\n",
              "      <td>...</td>\n",
              "      <td>0.0</td>\n",
              "      <td>0.0</td>\n",
              "      <td>1.0</td>\n",
              "      <td>0.0</td>\n",
              "      <td>0.0</td>\n",
              "      <td>0.0</td>\n",
              "      <td>0.0</td>\n",
              "      <td>0.0</td>\n",
              "      <td>1.0</td>\n",
              "      <td>0.0</td>\n",
              "    </tr>\n",
              "    <tr>\n",
              "      <th>11314</th>\n",
              "      <td>Dhoke Muqadam Stop, Near Attock Pump/ LRBT, G ...</td>\n",
              "      <td>5</td>\n",
              "      <td>Female</td>\n",
              "      <td>45.0</td>\n",
              "      <td>Same</td>\n",
              "      <td>7.0</td>\n",
              "      <td>Middle</td>\n",
              "      <td>Minor</td>\n",
              "      <td>Over Speed</td>\n",
              "      <td>Alive &amp; unstable</td>\n",
              "      <td>...</td>\n",
              "      <td>0.0</td>\n",
              "      <td>0.0</td>\n",
              "      <td>0.0</td>\n",
              "      <td>0.0</td>\n",
              "      <td>1.0</td>\n",
              "      <td>0.0</td>\n",
              "      <td>0.0</td>\n",
              "      <td>0.0</td>\n",
              "      <td>1.0</td>\n",
              "      <td>0.0</td>\n",
              "    </tr>\n",
              "    <tr>\n",
              "      <th>12518</th>\n",
              "      <td>ranial near ranial choki chakri road rwp</td>\n",
              "      <td>4</td>\n",
              "      <td>Male</td>\n",
              "      <td>27.0</td>\n",
              "      <td>Same</td>\n",
              "      <td>8.0</td>\n",
              "      <td>Illetrate</td>\n",
              "      <td>Minor</td>\n",
              "      <td>Over Speed</td>\n",
              "      <td>Alive &amp; unstable</td>\n",
              "      <td>...</td>\n",
              "      <td>0.0</td>\n",
              "      <td>0.0</td>\n",
              "      <td>0.0</td>\n",
              "      <td>0.0</td>\n",
              "      <td>0.0</td>\n",
              "      <td>0.0</td>\n",
              "      <td>0.0</td>\n",
              "      <td>1.0</td>\n",
              "      <td>0.0</td>\n",
              "      <td>0.0</td>\n",
              "    </tr>\n",
              "    <tr>\n",
              "      <th>17488</th>\n",
              "      <td>NEAR BRIDGE,BHARIATOWN PHASE 1,NEAR SIFFARI VI...</td>\n",
              "      <td>3</td>\n",
              "      <td>Male</td>\n",
              "      <td>18.0</td>\n",
              "      <td>Same</td>\n",
              "      <td>12.0</td>\n",
              "      <td>Primary</td>\n",
              "      <td>Minor</td>\n",
              "      <td>Carelessness</td>\n",
              "      <td>Alive &amp; stable</td>\n",
              "      <td>...</td>\n",
              "      <td>1.0</td>\n",
              "      <td>0.0</td>\n",
              "      <td>1.0</td>\n",
              "      <td>0.0</td>\n",
              "      <td>0.0</td>\n",
              "      <td>0.0</td>\n",
              "      <td>0.0</td>\n",
              "      <td>0.0</td>\n",
              "      <td>0.0</td>\n",
              "      <td>0.0</td>\n",
              "    </tr>\n",
              "    <tr>\n",
              "      <th>21791</th>\n",
              "      <td>Missa Kaswal GT Road Gujjar Khan Rwp</td>\n",
              "      <td>8</td>\n",
              "      <td>Male</td>\n",
              "      <td>30.0</td>\n",
              "      <td>same</td>\n",
              "      <td>10.0</td>\n",
              "      <td>Illetrate</td>\n",
              "      <td>Minor</td>\n",
              "      <td>Over Speed</td>\n",
              "      <td>Alive &amp; unstable</td>\n",
              "      <td>...</td>\n",
              "      <td>0.0</td>\n",
              "      <td>0.0</td>\n",
              "      <td>1.0</td>\n",
              "      <td>0.0</td>\n",
              "      <td>0.0</td>\n",
              "      <td>0.0</td>\n",
              "      <td>0.0</td>\n",
              "      <td>1.0</td>\n",
              "      <td>1.0</td>\n",
              "      <td>0.0</td>\n",
              "    </tr>\n",
              "    <tr>\n",
              "      <th>23862</th>\n",
              "      <td>AZAD PATTAN AZAD KASHMIR KAHUTA</td>\n",
              "      <td>5</td>\n",
              "      <td>Male</td>\n",
              "      <td>40.0</td>\n",
              "      <td>same</td>\n",
              "      <td>53.0</td>\n",
              "      <td>Illetrate</td>\n",
              "      <td>Head Injury</td>\n",
              "      <td>Over Speed</td>\n",
              "      <td>Dead</td>\n",
              "      <td>...</td>\n",
              "      <td>0.0</td>\n",
              "      <td>0.0</td>\n",
              "      <td>1.0</td>\n",
              "      <td>0.0</td>\n",
              "      <td>0.0</td>\n",
              "      <td>0.0</td>\n",
              "      <td>0.0</td>\n",
              "      <td>0.0</td>\n",
              "      <td>1.0</td>\n",
              "      <td>0.0</td>\n",
              "    </tr>\n",
              "    <tr>\n",
              "      <th>23863</th>\n",
              "      <td>AZAD PATTAN AZAD KASHMIR KAHUTA</td>\n",
              "      <td>5</td>\n",
              "      <td>Male</td>\n",
              "      <td>40.0</td>\n",
              "      <td>same</td>\n",
              "      <td>53.0</td>\n",
              "      <td>Illetrate</td>\n",
              "      <td>Head Injury</td>\n",
              "      <td>Over Speed</td>\n",
              "      <td>Dead</td>\n",
              "      <td>...</td>\n",
              "      <td>0.0</td>\n",
              "      <td>0.0</td>\n",
              "      <td>1.0</td>\n",
              "      <td>0.0</td>\n",
              "      <td>0.0</td>\n",
              "      <td>0.0</td>\n",
              "      <td>0.0</td>\n",
              "      <td>0.0</td>\n",
              "      <td>1.0</td>\n",
              "      <td>0.0</td>\n",
              "    </tr>\n",
              "    <tr>\n",
              "      <th>23864</th>\n",
              "      <td>AZAD PATTAN AZAD KASHMIR KAHUTA</td>\n",
              "      <td>5</td>\n",
              "      <td>Male</td>\n",
              "      <td>40.0</td>\n",
              "      <td>same</td>\n",
              "      <td>53.0</td>\n",
              "      <td>Illetrate</td>\n",
              "      <td>Head Injury</td>\n",
              "      <td>Over Speed</td>\n",
              "      <td>Dead</td>\n",
              "      <td>...</td>\n",
              "      <td>0.0</td>\n",
              "      <td>0.0</td>\n",
              "      <td>1.0</td>\n",
              "      <td>0.0</td>\n",
              "      <td>0.0</td>\n",
              "      <td>0.0</td>\n",
              "      <td>0.0</td>\n",
              "      <td>0.0</td>\n",
              "      <td>1.0</td>\n",
              "      <td>0.0</td>\n",
              "    </tr>\n",
              "    <tr>\n",
              "      <th>23974</th>\n",
              "      <td>Panjar Near Soon Kahuta</td>\n",
              "      <td>6</td>\n",
              "      <td>Male</td>\n",
              "      <td>63.0</td>\n",
              "      <td>same</td>\n",
              "      <td>6.0</td>\n",
              "      <td>Illetrate</td>\n",
              "      <td>Minor</td>\n",
              "      <td>Carelessness</td>\n",
              "      <td>Alive &amp; stable</td>\n",
              "      <td>...</td>\n",
              "      <td>0.0</td>\n",
              "      <td>0.0</td>\n",
              "      <td>0.0</td>\n",
              "      <td>0.0</td>\n",
              "      <td>0.0</td>\n",
              "      <td>0.0</td>\n",
              "      <td>0.0</td>\n",
              "      <td>0.0</td>\n",
              "      <td>1.0</td>\n",
              "      <td>0.0</td>\n",
              "    </tr>\n",
              "    <tr>\n",
              "      <th>25122</th>\n",
              "      <td>Taxila Bypass, Kabli Market, Rwp.</td>\n",
              "      <td>3</td>\n",
              "      <td>Male</td>\n",
              "      <td>19.0</td>\n",
              "      <td>Same</td>\n",
              "      <td>12.0</td>\n",
              "      <td>Graduation</td>\n",
              "      <td>Minor</td>\n",
              "      <td>Carelessness</td>\n",
              "      <td>Alive &amp; unstable</td>\n",
              "      <td>...</td>\n",
              "      <td>1.0</td>\n",
              "      <td>0.0</td>\n",
              "      <td>0.0</td>\n",
              "      <td>0.0</td>\n",
              "      <td>0.0</td>\n",
              "      <td>0.0</td>\n",
              "      <td>0.0</td>\n",
              "      <td>1.0</td>\n",
              "      <td>0.0</td>\n",
              "      <td>0.0</td>\n",
              "    </tr>\n",
              "    <tr>\n",
              "      <th>27046</th>\n",
              "      <td>N/r statep bank mall road rwp</td>\n",
              "      <td>3</td>\n",
              "      <td>Male</td>\n",
              "      <td>16.0</td>\n",
              "      <td>Same</td>\n",
              "      <td>6.0</td>\n",
              "      <td>Matric</td>\n",
              "      <td>Minor</td>\n",
              "      <td>Over Speed</td>\n",
              "      <td>Alive &amp; unstable</td>\n",
              "      <td>...</td>\n",
              "      <td>1.0</td>\n",
              "      <td>0.0</td>\n",
              "      <td>0.0</td>\n",
              "      <td>0.0</td>\n",
              "      <td>0.0</td>\n",
              "      <td>0.0</td>\n",
              "      <td>0.0</td>\n",
              "      <td>0.0</td>\n",
              "      <td>1.0</td>\n",
              "      <td>0.0</td>\n",
              "    </tr>\n",
              "    <tr>\n",
              "      <th>31881</th>\n",
              "      <td>Butt karahi wah Garden barrier 3 Taxila</td>\n",
              "      <td>3</td>\n",
              "      <td>Male</td>\n",
              "      <td>50.0</td>\n",
              "      <td>Same</td>\n",
              "      <td>5.0</td>\n",
              "      <td>Illetrate</td>\n",
              "      <td>Minor</td>\n",
              "      <td>Carelessness</td>\n",
              "      <td>Alive &amp; unstable</td>\n",
              "      <td>...</td>\n",
              "      <td>0.0</td>\n",
              "      <td>0.0</td>\n",
              "      <td>0.0</td>\n",
              "      <td>0.0</td>\n",
              "      <td>0.0</td>\n",
              "      <td>0.0</td>\n",
              "      <td>0.0</td>\n",
              "      <td>1.0</td>\n",
              "      <td>0.0</td>\n",
              "      <td>0.0</td>\n",
              "    </tr>\n",
              "    <tr>\n",
              "      <th>36040</th>\n",
              "      <td>Koh e Noor Mill Peshawar Road Rwp</td>\n",
              "      <td>3</td>\n",
              "      <td>Female</td>\n",
              "      <td>40.0</td>\n",
              "      <td>Same</td>\n",
              "      <td>5.0</td>\n",
              "      <td>Illetrate</td>\n",
              "      <td>Minor</td>\n",
              "      <td>Carelessness</td>\n",
              "      <td>Alive &amp; unstable</td>\n",
              "      <td>...</td>\n",
              "      <td>0.0</td>\n",
              "      <td>0.0</td>\n",
              "      <td>1.0</td>\n",
              "      <td>0.0</td>\n",
              "      <td>0.0</td>\n",
              "      <td>0.0</td>\n",
              "      <td>0.0</td>\n",
              "      <td>0.0</td>\n",
              "      <td>0.0</td>\n",
              "      <td>0.0</td>\n",
              "    </tr>\n",
              "    <tr>\n",
              "      <th>36633</th>\n",
              "      <td>Near Missa Kaswal GT Road</td>\n",
              "      <td>4</td>\n",
              "      <td>Male</td>\n",
              "      <td>25.0</td>\n",
              "      <td>same</td>\n",
              "      <td>8.0</td>\n",
              "      <td>Matric</td>\n",
              "      <td>Single Fracture</td>\n",
              "      <td>Over Speed</td>\n",
              "      <td>Alive &amp; unstable</td>\n",
              "      <td>...</td>\n",
              "      <td>0.0</td>\n",
              "      <td>0.0</td>\n",
              "      <td>1.0</td>\n",
              "      <td>0.0</td>\n",
              "      <td>0.0</td>\n",
              "      <td>0.0</td>\n",
              "      <td>0.0</td>\n",
              "      <td>0.0</td>\n",
              "      <td>0.0</td>\n",
              "      <td>0.0</td>\n",
              "    </tr>\n",
              "    <tr>\n",
              "      <th>38070</th>\n",
              "      <td>Grand Trunk Road, Koh-e-Noor Mill gate Rwp</td>\n",
              "      <td>3</td>\n",
              "      <td>Male</td>\n",
              "      <td>18.0</td>\n",
              "      <td>.</td>\n",
              "      <td>13.0</td>\n",
              "      <td>Matric</td>\n",
              "      <td>Minor</td>\n",
              "      <td>Carelessness</td>\n",
              "      <td>Alive &amp; unstable</td>\n",
              "      <td>...</td>\n",
              "      <td>2.0</td>\n",
              "      <td>0.0</td>\n",
              "      <td>0.0</td>\n",
              "      <td>0.0</td>\n",
              "      <td>0.0</td>\n",
              "      <td>0.0</td>\n",
              "      <td>0.0</td>\n",
              "      <td>0.0</td>\n",
              "      <td>0.0</td>\n",
              "      <td>0.0</td>\n",
              "    </tr>\n",
              "    <tr>\n",
              "      <th>38859</th>\n",
              "      <td>Front of Nawaz Shareef Park Murree road Rawal...</td>\n",
              "      <td>4</td>\n",
              "      <td>Male</td>\n",
              "      <td>22.0</td>\n",
              "      <td>.</td>\n",
              "      <td>3.0</td>\n",
              "      <td>Intermediate</td>\n",
              "      <td>Minor</td>\n",
              "      <td>Over Speed</td>\n",
              "      <td>Alive &amp; unstable</td>\n",
              "      <td>...</td>\n",
              "      <td>0.0</td>\n",
              "      <td>0.0</td>\n",
              "      <td>1.0</td>\n",
              "      <td>0.0</td>\n",
              "      <td>0.0</td>\n",
              "      <td>0.0</td>\n",
              "      <td>0.0</td>\n",
              "      <td>0.0</td>\n",
              "      <td>0.0</td>\n",
              "      <td>0.0</td>\n",
              "    </tr>\n",
              "    <tr>\n",
              "      <th>40706</th>\n",
              "      <td>Mureed chowk Dobairan Road kallar syedan</td>\n",
              "      <td>3</td>\n",
              "      <td>Male</td>\n",
              "      <td>20.0</td>\n",
              "      <td>Same</td>\n",
              "      <td>5.0</td>\n",
              "      <td>Matric</td>\n",
              "      <td>Head Injury</td>\n",
              "      <td>Over Speed</td>\n",
              "      <td>Alive &amp; unstable</td>\n",
              "      <td>...</td>\n",
              "      <td>2.0</td>\n",
              "      <td>0.0</td>\n",
              "      <td>0.0</td>\n",
              "      <td>0.0</td>\n",
              "      <td>0.0</td>\n",
              "      <td>0.0</td>\n",
              "      <td>0.0</td>\n",
              "      <td>0.0</td>\n",
              "      <td>0.0</td>\n",
              "      <td>0.0</td>\n",
              "    </tr>\n",
              "    <tr>\n",
              "      <th>41093</th>\n",
              "      <td>Wah International hospital Gt Road Near Wgh T...</td>\n",
              "      <td>3</td>\n",
              "      <td>Male</td>\n",
              "      <td>20.0</td>\n",
              "      <td>.</td>\n",
              "      <td>14.0</td>\n",
              "      <td>Graduation</td>\n",
              "      <td>Minor</td>\n",
              "      <td>Carelessness</td>\n",
              "      <td>Alive &amp; unstable</td>\n",
              "      <td>...</td>\n",
              "      <td>1.0</td>\n",
              "      <td>0.0</td>\n",
              "      <td>0.0</td>\n",
              "      <td>0.0</td>\n",
              "      <td>0.0</td>\n",
              "      <td>0.0</td>\n",
              "      <td>0.0</td>\n",
              "      <td>0.0</td>\n",
              "      <td>0.0</td>\n",
              "      <td>0.0</td>\n",
              "    </tr>\n",
              "    <tr>\n",
              "      <th>41694</th>\n",
              "      <td>IJP Road, I-10, Rawalpindi</td>\n",
              "      <td>3</td>\n",
              "      <td>Male</td>\n",
              "      <td>20.0</td>\n",
              "      <td>.</td>\n",
              "      <td>5.0</td>\n",
              "      <td>Matric</td>\n",
              "      <td>Minor</td>\n",
              "      <td>Over Speed</td>\n",
              "      <td>Alive &amp; unstable</td>\n",
              "      <td>...</td>\n",
              "      <td>1.0</td>\n",
              "      <td>0.0</td>\n",
              "      <td>0.0</td>\n",
              "      <td>0.0</td>\n",
              "      <td>0.0</td>\n",
              "      <td>0.0</td>\n",
              "      <td>0.0</td>\n",
              "      <td>0.0</td>\n",
              "      <td>0.0</td>\n",
              "      <td>0.0</td>\n",
              "    </tr>\n",
              "    <tr>\n",
              "      <th>41790</th>\n",
              "      <td>Ayub Park, near golf club jhelum road rwp</td>\n",
              "      <td>3</td>\n",
              "      <td>Male</td>\n",
              "      <td>27.0</td>\n",
              "      <td>Same</td>\n",
              "      <td>3.0</td>\n",
              "      <td>Matric</td>\n",
              "      <td>Minor</td>\n",
              "      <td>Over Speed</td>\n",
              "      <td>Alive &amp; unstable</td>\n",
              "      <td>...</td>\n",
              "      <td>1.0</td>\n",
              "      <td>0.0</td>\n",
              "      <td>1.0</td>\n",
              "      <td>0.0</td>\n",
              "      <td>0.0</td>\n",
              "      <td>0.0</td>\n",
              "      <td>0.0</td>\n",
              "      <td>0.0</td>\n",
              "      <td>0.0</td>\n",
              "      <td>0.0</td>\n",
              "    </tr>\n",
              "    <tr>\n",
              "      <th>43188</th>\n",
              "      <td>Near pso pump link adyala road cod stop rwp</td>\n",
              "      <td>3</td>\n",
              "      <td>Male</td>\n",
              "      <td>20.0</td>\n",
              "      <td>Same</td>\n",
              "      <td>7.0</td>\n",
              "      <td>Illetrate</td>\n",
              "      <td>Minor</td>\n",
              "      <td>Carelessness</td>\n",
              "      <td>Alive &amp; unstable</td>\n",
              "      <td>...</td>\n",
              "      <td>0.0</td>\n",
              "      <td>0.0</td>\n",
              "      <td>1.0</td>\n",
              "      <td>0.0</td>\n",
              "      <td>0.0</td>\n",
              "      <td>0.0</td>\n",
              "      <td>0.0</td>\n",
              "      <td>0.0</td>\n",
              "      <td>0.0</td>\n",
              "      <td>0.0</td>\n",
              "    </tr>\n",
              "    <tr>\n",
              "      <th>44773</th>\n",
              "      <td>Near Eyes hospital LRBT Toll Plaza G.t Road Ma...</td>\n",
              "      <td>4</td>\n",
              "      <td>Female</td>\n",
              "      <td>35.0</td>\n",
              "      <td>Rakshaw(applied for ) ka excel Tutney ki wajh...</td>\n",
              "      <td>5.0</td>\n",
              "      <td>Primary</td>\n",
              "      <td>Minor</td>\n",
              "      <td>Over Speed</td>\n",
              "      <td>Alive &amp; unstable</td>\n",
              "      <td>...</td>\n",
              "      <td>0.0</td>\n",
              "      <td>0.0</td>\n",
              "      <td>1.0</td>\n",
              "      <td>0.0</td>\n",
              "      <td>1.0</td>\n",
              "      <td>0.0</td>\n",
              "      <td>0.0</td>\n",
              "      <td>0.0</td>\n",
              "      <td>0.0</td>\n",
              "      <td>0.0</td>\n",
              "    </tr>\n",
              "    <tr>\n",
              "      <th>44876</th>\n",
              "      <td>bahria town phase 07 globe chowk, front of ba...</td>\n",
              "      <td>15</td>\n",
              "      <td>Male</td>\n",
              "      <td>30.0</td>\n",
              "      <td>Same</td>\n",
              "      <td>5.0</td>\n",
              "      <td>Illetrate</td>\n",
              "      <td>Minor</td>\n",
              "      <td>Carelessness</td>\n",
              "      <td>Alive &amp; unstable</td>\n",
              "      <td>...</td>\n",
              "      <td>0.0</td>\n",
              "      <td>0.0</td>\n",
              "      <td>0.0</td>\n",
              "      <td>0.0</td>\n",
              "      <td>0.0</td>\n",
              "      <td>1.0</td>\n",
              "      <td>0.0</td>\n",
              "      <td>0.0</td>\n",
              "      <td>0.0</td>\n",
              "      <td>0.0</td>\n",
              "    </tr>\n",
              "    <tr>\n",
              "      <th>45225</th>\n",
              "      <td>Near Fauji Foundation Hospital T/W Kacheri Jhe...</td>\n",
              "      <td>3</td>\n",
              "      <td>Female</td>\n",
              "      <td>19.0</td>\n",
              "      <td>.</td>\n",
              "      <td>5.0</td>\n",
              "      <td>Intermediate</td>\n",
              "      <td>Minor</td>\n",
              "      <td>Over Speed</td>\n",
              "      <td>Alive &amp; unstable</td>\n",
              "      <td>...</td>\n",
              "      <td>0.0</td>\n",
              "      <td>0.0</td>\n",
              "      <td>1.0</td>\n",
              "      <td>0.0</td>\n",
              "      <td>0.0</td>\n",
              "      <td>0.0</td>\n",
              "      <td>0.0</td>\n",
              "      <td>0.0</td>\n",
              "      <td>1.0</td>\n",
              "      <td>0.0</td>\n",
              "    </tr>\n",
              "  </tbody>\n",
              "</table>\n",
              "<p>28 rows × 21 columns</p>\n",
              "</div>\n",
              "    <div class=\"colab-df-buttons\">\n",
              "\n",
              "  <div class=\"colab-df-container\">\n",
              "    <button class=\"colab-df-convert\" onclick=\"convertToInteractive('df-1298c09c-e2cf-4a5a-a980-1aac4b98543f')\"\n",
              "            title=\"Convert this dataframe to an interactive table.\"\n",
              "            style=\"display:none;\">\n",
              "\n",
              "  <svg xmlns=\"http://www.w3.org/2000/svg\" height=\"24px\" viewBox=\"0 -960 960 960\">\n",
              "    <path d=\"M120-120v-720h720v720H120Zm60-500h600v-160H180v160Zm220 220h160v-160H400v160Zm0 220h160v-160H400v160ZM180-400h160v-160H180v160Zm440 0h160v-160H620v160ZM180-180h160v-160H180v160Zm440 0h160v-160H620v160Z\"/>\n",
              "  </svg>\n",
              "    </button>\n",
              "\n",
              "  <style>\n",
              "    .colab-df-container {\n",
              "      display:flex;\n",
              "      gap: 12px;\n",
              "    }\n",
              "\n",
              "    .colab-df-convert {\n",
              "      background-color: #E8F0FE;\n",
              "      border: none;\n",
              "      border-radius: 50%;\n",
              "      cursor: pointer;\n",
              "      display: none;\n",
              "      fill: #1967D2;\n",
              "      height: 32px;\n",
              "      padding: 0 0 0 0;\n",
              "      width: 32px;\n",
              "    }\n",
              "\n",
              "    .colab-df-convert:hover {\n",
              "      background-color: #E2EBFA;\n",
              "      box-shadow: 0px 1px 2px rgba(60, 64, 67, 0.3), 0px 1px 3px 1px rgba(60, 64, 67, 0.15);\n",
              "      fill: #174EA6;\n",
              "    }\n",
              "\n",
              "    .colab-df-buttons div {\n",
              "      margin-bottom: 4px;\n",
              "    }\n",
              "\n",
              "    [theme=dark] .colab-df-convert {\n",
              "      background-color: #3B4455;\n",
              "      fill: #D2E3FC;\n",
              "    }\n",
              "\n",
              "    [theme=dark] .colab-df-convert:hover {\n",
              "      background-color: #434B5C;\n",
              "      box-shadow: 0px 1px 3px 1px rgba(0, 0, 0, 0.15);\n",
              "      filter: drop-shadow(0px 1px 2px rgba(0, 0, 0, 0.3));\n",
              "      fill: #FFFFFF;\n",
              "    }\n",
              "  </style>\n",
              "\n",
              "    <script>\n",
              "      const buttonEl =\n",
              "        document.querySelector('#df-1298c09c-e2cf-4a5a-a980-1aac4b98543f button.colab-df-convert');\n",
              "      buttonEl.style.display =\n",
              "        google.colab.kernel.accessAllowed ? 'block' : 'none';\n",
              "\n",
              "      async function convertToInteractive(key) {\n",
              "        const element = document.querySelector('#df-1298c09c-e2cf-4a5a-a980-1aac4b98543f');\n",
              "        const dataTable =\n",
              "          await google.colab.kernel.invokeFunction('convertToInteractive',\n",
              "                                                    [key], {});\n",
              "        if (!dataTable) return;\n",
              "\n",
              "        const docLinkHtml = 'Like what you see? Visit the ' +\n",
              "          '<a target=\"_blank\" href=https://colab.research.google.com/notebooks/data_table.ipynb>data table notebook</a>'\n",
              "          + ' to learn more about interactive tables.';\n",
              "        element.innerHTML = '';\n",
              "        dataTable['output_type'] = 'display_data';\n",
              "        await google.colab.output.renderOutput(dataTable, element);\n",
              "        const docLink = document.createElement('div');\n",
              "        docLink.innerHTML = docLinkHtml;\n",
              "        element.appendChild(docLink);\n",
              "      }\n",
              "    </script>\n",
              "  </div>\n",
              "\n",
              "\n",
              "<div id=\"df-065d45ee-6daa-4d35-b9cc-abedcaa0c2b1\">\n",
              "  <button class=\"colab-df-quickchart\" onclick=\"quickchart('df-065d45ee-6daa-4d35-b9cc-abedcaa0c2b1')\"\n",
              "            title=\"Suggest charts\"\n",
              "            style=\"display:none;\">\n",
              "\n",
              "<svg xmlns=\"http://www.w3.org/2000/svg\" height=\"24px\"viewBox=\"0 0 24 24\"\n",
              "     width=\"24px\">\n",
              "    <g>\n",
              "        <path d=\"M19 3H5c-1.1 0-2 .9-2 2v14c0 1.1.9 2 2 2h14c1.1 0 2-.9 2-2V5c0-1.1-.9-2-2-2zM9 17H7v-7h2v7zm4 0h-2V7h2v10zm4 0h-2v-4h2v4z\"/>\n",
              "    </g>\n",
              "</svg>\n",
              "  </button>\n",
              "\n",
              "<style>\n",
              "  .colab-df-quickchart {\n",
              "      --bg-color: #E8F0FE;\n",
              "      --fill-color: #1967D2;\n",
              "      --hover-bg-color: #E2EBFA;\n",
              "      --hover-fill-color: #174EA6;\n",
              "      --disabled-fill-color: #AAA;\n",
              "      --disabled-bg-color: #DDD;\n",
              "  }\n",
              "\n",
              "  [theme=dark] .colab-df-quickchart {\n",
              "      --bg-color: #3B4455;\n",
              "      --fill-color: #D2E3FC;\n",
              "      --hover-bg-color: #434B5C;\n",
              "      --hover-fill-color: #FFFFFF;\n",
              "      --disabled-bg-color: #3B4455;\n",
              "      --disabled-fill-color: #666;\n",
              "  }\n",
              "\n",
              "  .colab-df-quickchart {\n",
              "    background-color: var(--bg-color);\n",
              "    border: none;\n",
              "    border-radius: 50%;\n",
              "    cursor: pointer;\n",
              "    display: none;\n",
              "    fill: var(--fill-color);\n",
              "    height: 32px;\n",
              "    padding: 0;\n",
              "    width: 32px;\n",
              "  }\n",
              "\n",
              "  .colab-df-quickchart:hover {\n",
              "    background-color: var(--hover-bg-color);\n",
              "    box-shadow: 0 1px 2px rgba(60, 64, 67, 0.3), 0 1px 3px 1px rgba(60, 64, 67, 0.15);\n",
              "    fill: var(--button-hover-fill-color);\n",
              "  }\n",
              "\n",
              "  .colab-df-quickchart-complete:disabled,\n",
              "  .colab-df-quickchart-complete:disabled:hover {\n",
              "    background-color: var(--disabled-bg-color);\n",
              "    fill: var(--disabled-fill-color);\n",
              "    box-shadow: none;\n",
              "  }\n",
              "\n",
              "  .colab-df-spinner {\n",
              "    border: 2px solid var(--fill-color);\n",
              "    border-color: transparent;\n",
              "    border-bottom-color: var(--fill-color);\n",
              "    animation:\n",
              "      spin 1s steps(1) infinite;\n",
              "  }\n",
              "\n",
              "  @keyframes spin {\n",
              "    0% {\n",
              "      border-color: transparent;\n",
              "      border-bottom-color: var(--fill-color);\n",
              "      border-left-color: var(--fill-color);\n",
              "    }\n",
              "    20% {\n",
              "      border-color: transparent;\n",
              "      border-left-color: var(--fill-color);\n",
              "      border-top-color: var(--fill-color);\n",
              "    }\n",
              "    30% {\n",
              "      border-color: transparent;\n",
              "      border-left-color: var(--fill-color);\n",
              "      border-top-color: var(--fill-color);\n",
              "      border-right-color: var(--fill-color);\n",
              "    }\n",
              "    40% {\n",
              "      border-color: transparent;\n",
              "      border-right-color: var(--fill-color);\n",
              "      border-top-color: var(--fill-color);\n",
              "    }\n",
              "    60% {\n",
              "      border-color: transparent;\n",
              "      border-right-color: var(--fill-color);\n",
              "    }\n",
              "    80% {\n",
              "      border-color: transparent;\n",
              "      border-right-color: var(--fill-color);\n",
              "      border-bottom-color: var(--fill-color);\n",
              "    }\n",
              "    90% {\n",
              "      border-color: transparent;\n",
              "      border-bottom-color: var(--fill-color);\n",
              "    }\n",
              "  }\n",
              "</style>\n",
              "\n",
              "  <script>\n",
              "    async function quickchart(key) {\n",
              "      const quickchartButtonEl =\n",
              "        document.querySelector('#' + key + ' button');\n",
              "      quickchartButtonEl.disabled = true;  // To prevent multiple clicks.\n",
              "      quickchartButtonEl.classList.add('colab-df-spinner');\n",
              "      try {\n",
              "        const charts = await google.colab.kernel.invokeFunction(\n",
              "            'suggestCharts', [key], {});\n",
              "      } catch (error) {\n",
              "        console.error('Error during call to suggestCharts:', error);\n",
              "      }\n",
              "      quickchartButtonEl.classList.remove('colab-df-spinner');\n",
              "      quickchartButtonEl.classList.add('colab-df-quickchart-complete');\n",
              "    }\n",
              "    (() => {\n",
              "      let quickchartButtonEl =\n",
              "        document.querySelector('#df-065d45ee-6daa-4d35-b9cc-abedcaa0c2b1 button');\n",
              "      quickchartButtonEl.style.display =\n",
              "        google.colab.kernel.accessAllowed ? 'block' : 'none';\n",
              "    })();\n",
              "  </script>\n",
              "</div>\n",
              "\n",
              "    </div>\n",
              "  </div>\n"
            ],
            "application/vnd.google.colaboratory.intrinsic+json": {
              "type": "dataframe"
            }
          },
          "metadata": {},
          "execution_count": 4128
        }
      ]
    },
    {
      "cell_type": "code",
      "source": [
        "df.duplicated().sum()"
      ],
      "metadata": {
        "colab": {
          "base_uri": "https://localhost:8080/"
        },
        "id": "dzPb75os6bdv",
        "outputId": "dfc11cfd-70b2-403d-cfd7-e63e4019d8c0"
      },
      "execution_count": 4129,
      "outputs": [
        {
          "output_type": "execute_result",
          "data": {
            "text/plain": [
              "28"
            ]
          },
          "metadata": {},
          "execution_count": 4129
        }
      ]
    },
    {
      "cell_type": "markdown",
      "source": [
        "##Handle Duplicate value"
      ],
      "metadata": {
        "id": "HduExYEKl3K9"
      }
    },
    {
      "cell_type": "code",
      "source": [
        "df.drop_duplicates(inplace =True)"
      ],
      "metadata": {
        "id": "R0zEiH5M6nAD"
      },
      "execution_count": 4130,
      "outputs": []
    },
    {
      "cell_type": "code",
      "source": [
        "df.shape"
      ],
      "metadata": {
        "id": "IZ_bEVPf6wsH",
        "colab": {
          "base_uri": "https://localhost:8080/"
        },
        "outputId": "70dc80f5-2ee9-4aaa-ce76-c46dd2541ba6"
      },
      "execution_count": 4131,
      "outputs": [
        {
          "output_type": "execute_result",
          "data": {
            "text/plain": [
              "(46161, 21)"
            ]
          },
          "metadata": {},
          "execution_count": 4131
        }
      ]
    },
    {
      "cell_type": "code",
      "source": [
        "df.info()"
      ],
      "metadata": {
        "id": "DLkKtjzAV7Ad",
        "colab": {
          "base_uri": "https://localhost:8080/"
        },
        "outputId": "cb665a8a-c8a6-4717-9398-ae1c227ecd33"
      },
      "execution_count": 4132,
      "outputs": [
        {
          "output_type": "stream",
          "name": "stdout",
          "text": [
            "<class 'pandas.core.frame.DataFrame'>\n",
            "Index: 46161 entries, 0 to 46188\n",
            "Data columns (total 21 columns):\n",
            " #   Column                    Non-Null Count  Dtype  \n",
            "---  ------                    --------------  -----  \n",
            " 0   EmergencyArea             46161 non-null  object \n",
            " 1   TotalPatientsInEmergency  46161 non-null  object \n",
            " 2   Gender                    46161 non-null  object \n",
            " 3   Age                       46161 non-null  float64\n",
            " 4   Reason                    46161 non-null  object \n",
            " 5   responsetime              46161 non-null  float64\n",
            " 6   EducationTitle            46161 non-null  object \n",
            " 7   InjuryType                46161 non-null  object \n",
            " 8   Cause                     46161 non-null  object \n",
            " 9   PatientStatus             46161 non-null  object \n",
            " 10  BicycleInvovled           46161 non-null  float64\n",
            " 11  BikesInvolved             46161 non-null  float64\n",
            " 12  BusesInvolved             46161 non-null  float64\n",
            " 13  CarsInvolved              46161 non-null  float64\n",
            " 14  CartInvovled              46161 non-null  float64\n",
            " 15  RickshawsInvolved         46161 non-null  float64\n",
            " 16  TractorInvovled           46161 non-null  float64\n",
            " 17  TrainsInvovled            46161 non-null  float64\n",
            " 18  TrucksInvolved            46161 non-null  float64\n",
            " 19  VansInvolved              46161 non-null  float64\n",
            " 20  OthersInvolved            46161 non-null  float64\n",
            "dtypes: float64(13), object(8)\n",
            "memory usage: 7.7+ MB\n"
          ]
        }
      ]
    },
    {
      "cell_type": "markdown",
      "source": [
        "#Encoding the categorical columns"
      ],
      "metadata": {
        "id": "kOti_cB0S8uo"
      }
    },
    {
      "cell_type": "markdown",
      "source": [
        "##Data Type Conversion\n",
        "Upon reviewing the data types in the dataframe, we observe that the following columns are of object type:\n",
        "\n",
        "* EmergencyArea\n",
        "* Gender\n",
        "* Reason\n",
        "* EducationTitle\n",
        "* InjuryType\n",
        "* Cause\n",
        "\n",
        "\n",
        "Since machine learning models require numerical data, these categorical columns must be transformed into numerical format through encoding techniques. We will apply appropriate encoding methods to convert these columns into numerical values, making them suitable for analysis and modeling."
      ],
      "metadata": {
        "id": "fWaHsp0FV8If"
      }
    },
    {
      "cell_type": "markdown",
      "source": [
        "## Ordinal Encoding"
      ],
      "metadata": {
        "id": "ZxKu_vTzXCOg"
      }
    },
    {
      "cell_type": "code",
      "source": [
        "df['EducationTitle'].value_counts()"
      ],
      "metadata": {
        "id": "FN2ABTDZc3aa",
        "colab": {
          "base_uri": "https://localhost:8080/",
          "height": 398
        },
        "outputId": "60175f26-8d23-4381-dcc4-36d86b91096b"
      },
      "execution_count": 4133,
      "outputs": [
        {
          "output_type": "execute_result",
          "data": {
            "text/plain": [
              "EducationTitle\n",
              "Matric          15688\n",
              "Primary         11714\n",
              "Illetrate       10835\n",
              "Intermediate     5673\n",
              "Graduation       1684\n",
              "Masters           439\n",
              "Middle            118\n",
              "PHD                 9\n",
              "0                   1\n",
              "Name: count, dtype: int64"
            ],
            "text/html": [
              "<div>\n",
              "<style scoped>\n",
              "    .dataframe tbody tr th:only-of-type {\n",
              "        vertical-align: middle;\n",
              "    }\n",
              "\n",
              "    .dataframe tbody tr th {\n",
              "        vertical-align: top;\n",
              "    }\n",
              "\n",
              "    .dataframe thead th {\n",
              "        text-align: right;\n",
              "    }\n",
              "</style>\n",
              "<table border=\"1\" class=\"dataframe\">\n",
              "  <thead>\n",
              "    <tr style=\"text-align: right;\">\n",
              "      <th></th>\n",
              "      <th>count</th>\n",
              "    </tr>\n",
              "    <tr>\n",
              "      <th>EducationTitle</th>\n",
              "      <th></th>\n",
              "    </tr>\n",
              "  </thead>\n",
              "  <tbody>\n",
              "    <tr>\n",
              "      <th>Matric</th>\n",
              "      <td>15688</td>\n",
              "    </tr>\n",
              "    <tr>\n",
              "      <th>Primary</th>\n",
              "      <td>11714</td>\n",
              "    </tr>\n",
              "    <tr>\n",
              "      <th>Illetrate</th>\n",
              "      <td>10835</td>\n",
              "    </tr>\n",
              "    <tr>\n",
              "      <th>Intermediate</th>\n",
              "      <td>5673</td>\n",
              "    </tr>\n",
              "    <tr>\n",
              "      <th>Graduation</th>\n",
              "      <td>1684</td>\n",
              "    </tr>\n",
              "    <tr>\n",
              "      <th>Masters</th>\n",
              "      <td>439</td>\n",
              "    </tr>\n",
              "    <tr>\n",
              "      <th>Middle</th>\n",
              "      <td>118</td>\n",
              "    </tr>\n",
              "    <tr>\n",
              "      <th>PHD</th>\n",
              "      <td>9</td>\n",
              "    </tr>\n",
              "    <tr>\n",
              "      <th>0</th>\n",
              "      <td>1</td>\n",
              "    </tr>\n",
              "  </tbody>\n",
              "</table>\n",
              "</div><br><label><b>dtype:</b> int64</label>"
            ]
          },
          "metadata": {},
          "execution_count": 4133
        }
      ]
    },
    {
      "cell_type": "markdown",
      "source": [
        "###Info EducationTitle Encoding\n",
        "\n",
        "```\n",
        "For the columns EducationTitle, we will apply Ordinal Encoding,\n",
        "because these features have a strong inherent order:\n",
        "\n",
        "- EducationTitle represents educational level that follows a defined hierarchy (PhD < Master < Primary < Matric).\n",
        "By using ordinal encoding, we can capture the meaningful order in these features.\n",
        "```\n",
        "\n"
      ],
      "metadata": {
        "id": "PtdyAmChc_3n"
      }
    },
    {
      "cell_type": "markdown",
      "source": [
        "###EducationTitle Visualization Bar chart\n",
        "\n",
        "\n"
      ],
      "metadata": {
        "id": "MkPYIFc_1RkV"
      }
    },
    {
      "cell_type": "code",
      "source": [
        "\n",
        "df['EducationTitle'].value_counts().plot(kind='bar', color=['blue', 'red'])\n",
        "\n",
        "\n",
        "plt.show()"
      ],
      "metadata": {
        "id": "xoR-ioD50WML",
        "colab": {
          "base_uri": "https://localhost:8080/",
          "height": 525
        },
        "outputId": "8c6c4f34-834e-4a08-8bb0-a0b92e302967"
      },
      "execution_count": 4134,
      "outputs": [
        {
          "output_type": "display_data",
          "data": {
            "text/plain": [
              "<Figure size 640x480 with 1 Axes>"
            ],
            "image/png": "[encoded data removed]"
          },
          "metadata": {}
        }
      ]
    },
    {
      "cell_type": "markdown",
      "source": [
        "###EducationTitle encoding"
      ],
      "metadata": {
        "id": "zhQH2I9827Lz"
      }
    },
    {
      "cell_type": "code",
      "source": [
        "\n",
        "encoder=OrdinalEncoder()\n",
        "df['EducationTitle'] = encoder.fit_transform(df[['EducationTitle']])\n",
        "df.info()"
      ],
      "metadata": {
        "id": "p2LpUPcM3JKg",
        "colab": {
          "base_uri": "https://localhost:8080/"
        },
        "outputId": "dfa60382-076b-432c-8288-b8fc8c271bf8"
      },
      "execution_count": 4135,
      "outputs": [
        {
          "output_type": "stream",
          "name": "stdout",
          "text": [
            "<class 'pandas.core.frame.DataFrame'>\n",
            "Index: 46161 entries, 0 to 46188\n",
            "Data columns (total 21 columns):\n",
            " #   Column                    Non-Null Count  Dtype  \n",
            "---  ------                    --------------  -----  \n",
            " 0   EmergencyArea             46161 non-null  object \n",
            " 1   TotalPatientsInEmergency  46161 non-null  object \n",
            " 2   Gender                    46161 non-null  object \n",
            " 3   Age                       46161 non-null  float64\n",
            " 4   Reason                    46161 non-null  object \n",
            " 5   responsetime              46161 non-null  float64\n",
            " 6   EducationTitle            46161 non-null  float64\n",
            " 7   InjuryType                46161 non-null  object \n",
            " 8   Cause                     46161 non-null  object \n",
            " 9   PatientStatus             46161 non-null  object \n",
            " 10  BicycleInvovled           46161 non-null  float64\n",
            " 11  BikesInvolved             46161 non-null  float64\n",
            " 12  BusesInvolved             46161 non-null  float64\n",
            " 13  CarsInvolved              46161 non-null  float64\n",
            " 14  CartInvovled              46161 non-null  float64\n",
            " 15  RickshawsInvolved         46161 non-null  float64\n",
            " 16  TractorInvovled           46161 non-null  float64\n",
            " 17  TrainsInvovled            46161 non-null  float64\n",
            " 18  TrucksInvolved            46161 non-null  float64\n",
            " 19  VansInvolved              46161 non-null  float64\n",
            " 20  OthersInvolved            46161 non-null  float64\n",
            "dtypes: float64(14), object(7)\n",
            "memory usage: 7.7+ MB\n"
          ]
        }
      ]
    },
    {
      "cell_type": "code",
      "source": [
        "df['EducationTitle'].plot(kind='hist', color=['blue'])\n",
        "\n",
        "\n",
        "plt.show()"
      ],
      "metadata": {
        "id": "GHQkqIPG3UnG",
        "colab": {
          "base_uri": "https://localhost:8080/",
          "height": 430
        },
        "outputId": "01fb225b-c0b3-49a8-84ea-eb9ceb654e5c"
      },
      "execution_count": 4136,
      "outputs": [
        {
          "output_type": "display_data",
          "data": {
            "text/plain": [
              "<Figure size 640x480 with 1 Axes>"
            ],
            "image/png": "[encoded data removed]"
          },
          "metadata": {}
        }
      ]
    },
    {
      "cell_type": "markdown",
      "source": [
        "The histogram shows the distribution of EducationTitle in a dataset. It reveals that most people have education title 5, with fewer people having higher titles and even fewer having lower titles. There are also a few outliers with very high education titles.\n",
        "\n",
        "\n",
        "\n",
        "\n",
        "\n",
        "\n",
        "\n",
        "\n",
        "\\"
      ],
      "metadata": {
        "id": "iCMCMp0KcjD2"
      }
    },
    {
      "cell_type": "markdown",
      "source": [
        "###EducationTitle Visualization Box plot"
      ],
      "metadata": {
        "id": "VSNbHeyp3dpz"
      }
    },
    {
      "cell_type": "code",
      "source": [
        "#boxplot for column EducationTitle\n",
        "plt.figure(figsize=(12, 6))\n",
        "sns.boxplot(x=df['EducationTitle'])\n",
        "\n",
        "plt.show()"
      ],
      "metadata": {
        "id": "jIClO2lh3kmi",
        "colab": {
          "base_uri": "https://localhost:8080/",
          "height": 476
        },
        "outputId": "180f1d21-98e6-4c69-da74-3f20968f1377"
      },
      "execution_count": 4137,
      "outputs": [
        {
          "output_type": "display_data",
          "data": {
            "text/plain": [
              "<Figure size 1200x600 with 1 Axes>"
            ],
            "image/png": "[encoded data removed]"
          },
          "metadata": {}
        }
      ]
    },
    {
      "cell_type": "markdown",
      "source": [
        "The median education title is 5, indicating that 50% of the individuals have an education title less than or equal to 5.\n",
        "\n",
        "The box plot shows a slight right skew, as the whisker on the right side is longer than the whisker on the left side. This indicates that there are a few individuals with higher education titles, but the majority of individuals have lower education titles.\n"
      ],
      "metadata": {
        "id": "EVkkhJbcdDDa"
      }
    },
    {
      "cell_type": "code",
      "source": [
        "df['InjuryType'].value_counts()"
      ],
      "metadata": {
        "colab": {
          "base_uri": "https://localhost:8080/",
          "height": 272
        },
        "id": "XxOhNvQBnHOa",
        "outputId": "564298ae-68d4-4a66-cbfa-d977e02bba8b"
      },
      "execution_count": 4138,
      "outputs": [
        {
          "output_type": "execute_result",
          "data": {
            "text/plain": [
              "InjuryType\n",
              "Minor                 34767\n",
              "Single Fracture        6736\n",
              "Head Injury            3499\n",
              "Multiple Fractures      778\n",
              "Spinal Injury           381\n",
              "Name: count, dtype: int64"
            ],
            "text/html": [
              "<div>\n",
              "<style scoped>\n",
              "    .dataframe tbody tr th:only-of-type {\n",
              "        vertical-align: middle;\n",
              "    }\n",
              "\n",
              "    .dataframe tbody tr th {\n",
              "        vertical-align: top;\n",
              "    }\n",
              "\n",
              "    .dataframe thead th {\n",
              "        text-align: right;\n",
              "    }\n",
              "</style>\n",
              "<table border=\"1\" class=\"dataframe\">\n",
              "  <thead>\n",
              "    <tr style=\"text-align: right;\">\n",
              "      <th></th>\n",
              "      <th>count</th>\n",
              "    </tr>\n",
              "    <tr>\n",
              "      <th>InjuryType</th>\n",
              "      <th></th>\n",
              "    </tr>\n",
              "  </thead>\n",
              "  <tbody>\n",
              "    <tr>\n",
              "      <th>Minor</th>\n",
              "      <td>34767</td>\n",
              "    </tr>\n",
              "    <tr>\n",
              "      <th>Single Fracture</th>\n",
              "      <td>6736</td>\n",
              "    </tr>\n",
              "    <tr>\n",
              "      <th>Head Injury</th>\n",
              "      <td>3499</td>\n",
              "    </tr>\n",
              "    <tr>\n",
              "      <th>Multiple Fractures</th>\n",
              "      <td>778</td>\n",
              "    </tr>\n",
              "    <tr>\n",
              "      <th>Spinal Injury</th>\n",
              "      <td>381</td>\n",
              "    </tr>\n",
              "  </tbody>\n",
              "</table>\n",
              "</div><br><label><b>dtype:</b> int64</label>"
            ]
          },
          "metadata": {},
          "execution_count": 4138
        }
      ]
    },
    {
      "cell_type": "markdown",
      "source": [
        "###Info InjuryType Encoding\n",
        "\n",
        "```\n",
        "We are using ordinal encoding for \"InjuryType\" because this method assigns numerical values to categories based on a meaningful order.\n",
        " In the case of injury severity, there is a natural hierarchy from minor to more serious conditions. For example:\n",
        "\n",
        "1. Minor\n",
        "2. Single Fracture\n",
        "3. Head Injury\n",
        "4. Multiple Fractures\n",
        "5. Spinal Injury\n",
        "\n",
        "By using ordinal encoding, you can capture this ordinal relationship, where higher numbers represent more severe injuries.\n",
        "```\n",
        "\n"
      ],
      "metadata": {
        "id": "mCCQRsSun1vF"
      }
    },
    {
      "cell_type": "markdown",
      "source": [
        "###InjuryType Visualization Bar Chart"
      ],
      "metadata": {
        "id": "7phgoXuVxbJD"
      }
    },
    {
      "cell_type": "code",
      "source": [
        "df['InjuryType'].value_counts().plot(kind='bar', color=['blue', 'red'])\n",
        "\n",
        "\n",
        "plt.show()"
      ],
      "metadata": {
        "id": "P2RMYNwJxmvv",
        "colab": {
          "base_uri": "https://localhost:8080/",
          "height": 559
        },
        "outputId": "6e8e312d-9da6-494c-d494-79de87d900fe"
      },
      "execution_count": 4139,
      "outputs": [
        {
          "output_type": "display_data",
          "data": {
            "text/plain": [
              "<Figure size 640x480 with 1 Axes>"
            ],
            "image/png": "[encoded data removed]"
          },
          "metadata": {}
        }
      ]
    },
    {
      "cell_type": "markdown",
      "source": [
        "###InjuryType Encoding"
      ],
      "metadata": {
        "id": "4bYRbsONx2s6"
      }
    },
    {
      "cell_type": "code",
      "source": [
        "encoder = OrdinalEncoder()\n",
        "df['InjuryType'] = encoder.fit_transform(df[['InjuryType']])\n",
        "df.info()"
      ],
      "metadata": {
        "id": "A1epdJr4x-gm",
        "colab": {
          "base_uri": "https://localhost:8080/"
        },
        "outputId": "4ffa66a6-7a85-49a6-8b13-6f21cbf87322"
      },
      "execution_count": 4140,
      "outputs": [
        {
          "output_type": "stream",
          "name": "stdout",
          "text": [
            "<class 'pandas.core.frame.DataFrame'>\n",
            "Index: 46161 entries, 0 to 46188\n",
            "Data columns (total 21 columns):\n",
            " #   Column                    Non-Null Count  Dtype  \n",
            "---  ------                    --------------  -----  \n",
            " 0   EmergencyArea             46161 non-null  object \n",
            " 1   TotalPatientsInEmergency  46161 non-null  object \n",
            " 2   Gender                    46161 non-null  object \n",
            " 3   Age                       46161 non-null  float64\n",
            " 4   Reason                    46161 non-null  object \n",
            " 5   responsetime              46161 non-null  float64\n",
            " 6   EducationTitle            46161 non-null  float64\n",
            " 7   InjuryType                46161 non-null  float64\n",
            " 8   Cause                     46161 non-null  object \n",
            " 9   PatientStatus             46161 non-null  object \n",
            " 10  BicycleInvovled           46161 non-null  float64\n",
            " 11  BikesInvolved             46161 non-null  float64\n",
            " 12  BusesInvolved             46161 non-null  float64\n",
            " 13  CarsInvolved              46161 non-null  float64\n",
            " 14  CartInvovled              46161 non-null  float64\n",
            " 15  RickshawsInvolved         46161 non-null  float64\n",
            " 16  TractorInvovled           46161 non-null  float64\n",
            " 17  TrainsInvovled            46161 non-null  float64\n",
            " 18  TrucksInvolved            46161 non-null  float64\n",
            " 19  VansInvolved              46161 non-null  float64\n",
            " 20  OthersInvolved            46161 non-null  float64\n",
            "dtypes: float64(15), object(6)\n",
            "memory usage: 7.7+ MB\n"
          ]
        }
      ]
    },
    {
      "cell_type": "code",
      "source": [
        "df['InjuryType'].value_counts()"
      ],
      "metadata": {
        "id": "cVQMneLKy02l",
        "colab": {
          "base_uri": "https://localhost:8080/",
          "height": 272
        },
        "outputId": "15578126-ccfe-4e1e-87e4-dbfd8b125a1e"
      },
      "execution_count": 4141,
      "outputs": [
        {
          "output_type": "execute_result",
          "data": {
            "text/plain": [
              "InjuryType\n",
              "1.0    34767\n",
              "3.0     6736\n",
              "0.0     3499\n",
              "2.0      778\n",
              "4.0      381\n",
              "Name: count, dtype: int64"
            ],
            "text/html": [
              "<div>\n",
              "<style scoped>\n",
              "    .dataframe tbody tr th:only-of-type {\n",
              "        vertical-align: middle;\n",
              "    }\n",
              "\n",
              "    .dataframe tbody tr th {\n",
              "        vertical-align: top;\n",
              "    }\n",
              "\n",
              "    .dataframe thead th {\n",
              "        text-align: right;\n",
              "    }\n",
              "</style>\n",
              "<table border=\"1\" class=\"dataframe\">\n",
              "  <thead>\n",
              "    <tr style=\"text-align: right;\">\n",
              "      <th></th>\n",
              "      <th>count</th>\n",
              "    </tr>\n",
              "    <tr>\n",
              "      <th>InjuryType</th>\n",
              "      <th></th>\n",
              "    </tr>\n",
              "  </thead>\n",
              "  <tbody>\n",
              "    <tr>\n",
              "      <th>1.0</th>\n",
              "      <td>34767</td>\n",
              "    </tr>\n",
              "    <tr>\n",
              "      <th>3.0</th>\n",
              "      <td>6736</td>\n",
              "    </tr>\n",
              "    <tr>\n",
              "      <th>0.0</th>\n",
              "      <td>3499</td>\n",
              "    </tr>\n",
              "    <tr>\n",
              "      <th>2.0</th>\n",
              "      <td>778</td>\n",
              "    </tr>\n",
              "    <tr>\n",
              "      <th>4.0</th>\n",
              "      <td>381</td>\n",
              "    </tr>\n",
              "  </tbody>\n",
              "</table>\n",
              "</div><br><label><b>dtype:</b> int64</label>"
            ]
          },
          "metadata": {},
          "execution_count": 4141
        }
      ]
    },
    {
      "cell_type": "markdown",
      "source": [
        "###InjuryType Visualization histogram\n"
      ],
      "metadata": {
        "id": "B3t84ZvyyZch"
      }
    },
    {
      "cell_type": "code",
      "source": [
        "injury_type =[0.0, 1.0,2.0, 3.0,  4.0]\n",
        "counts =  [3499, 34765,778 ,6736 , 381]\n",
        "\n",
        "# Set up the figure\n",
        "plt.figure(figsize=(8, 5))\n",
        "\n",
        "# Create the bar plot\n",
        "sns.barplot(x=injury_type, y=counts, color=\"orange\")\n",
        "\n",
        "# Add title and labels\n",
        "plt.title('InjuryType Histogram', fontsize=14)\n",
        "plt.xlabel('InjuryType', fontsize=12)\n",
        "plt.ylabel('Count', fontsize=12)\n",
        "\n",
        "# Display counts on top of bars\n",
        "for i, count in enumerate(counts):\n",
        "    plt.text(i, count + 200, f'{count}', ha='center', fontsize=10)\n",
        "\n",
        "# Show the plot\n",
        "plt.tight_layout()\n",
        "plt.show()\n"
      ],
      "metadata": {
        "id": "YtNUjyQ5yx-g",
        "colab": {
          "base_uri": "https://localhost:8080/",
          "height": 507
        },
        "outputId": "5f36190c-fcba-4255-a688-790a697ff181"
      },
      "execution_count": 4142,
      "outputs": [
        {
          "output_type": "display_data",
          "data": {
            "text/plain": [
              "<Figure size 800x500 with 1 Axes>"
            ],
            "image/png": "[encoded data removed]"
          },
          "metadata": {}
        }
      ]
    },
    {
      "cell_type": "markdown",
      "source": [
        "The injury type labeled \"1.0\" has the highest frequency, with a count of 34,765. This suggests that it is the most common type of injury in the dataset.\n",
        "\n",
        "Less Frequent Injury Types: The injury types \"0.0,\" \"2.0,\" \"3.0,\" and \"4.0\" have significantly lower frequencies. Specifically, \"0.0\" and \"3.0\" have counts of 3499 and 6736, respectively, while \"2.0\" and \"4.0\" have even smaller counts of 778 and 381.\n"
      ],
      "metadata": {
        "id": "sk_SvkMBdpeD"
      }
    },
    {
      "cell_type": "code",
      "source": [
        "df['PatientStatus'].value_counts()"
      ],
      "metadata": {
        "colab": {
          "base_uri": "https://localhost:8080/",
          "height": 210
        },
        "id": "mNJTyeSxDmh7",
        "outputId": "ea69763b-6fdf-47ca-eb79-a4333fa0dc9e"
      },
      "execution_count": 4143,
      "outputs": [
        {
          "output_type": "execute_result",
          "data": {
            "text/plain": [
              "PatientStatus\n",
              "Alive & unstable    23765\n",
              "Alive & stable      21812\n",
              "Dead                  584\n",
              "Name: count, dtype: int64"
            ],
            "text/html": [
              "<div>\n",
              "<style scoped>\n",
              "    .dataframe tbody tr th:only-of-type {\n",
              "        vertical-align: middle;\n",
              "    }\n",
              "\n",
              "    .dataframe tbody tr th {\n",
              "        vertical-align: top;\n",
              "    }\n",
              "\n",
              "    .dataframe thead th {\n",
              "        text-align: right;\n",
              "    }\n",
              "</style>\n",
              "<table border=\"1\" class=\"dataframe\">\n",
              "  <thead>\n",
              "    <tr style=\"text-align: right;\">\n",
              "      <th></th>\n",
              "      <th>count</th>\n",
              "    </tr>\n",
              "    <tr>\n",
              "      <th>PatientStatus</th>\n",
              "      <th></th>\n",
              "    </tr>\n",
              "  </thead>\n",
              "  <tbody>\n",
              "    <tr>\n",
              "      <th>Alive &amp; unstable</th>\n",
              "      <td>23765</td>\n",
              "    </tr>\n",
              "    <tr>\n",
              "      <th>Alive &amp; stable</th>\n",
              "      <td>21812</td>\n",
              "    </tr>\n",
              "    <tr>\n",
              "      <th>Dead</th>\n",
              "      <td>584</td>\n",
              "    </tr>\n",
              "  </tbody>\n",
              "</table>\n",
              "</div><br><label><b>dtype:</b> int64</label>"
            ]
          },
          "metadata": {},
          "execution_count": 4143
        }
      ]
    },
    {
      "cell_type": "markdown",
      "source": [
        "###Info Patient status Encoding\n",
        "\n",
        "```\n",
        "For the columns Patient status, we will apply Ordinal Encoding,\n",
        "because these features have a strong inherent order\n",
        "```"
      ],
      "metadata": {
        "id": "XBCmtd2QDQMk"
      }
    },
    {
      "cell_type": "markdown",
      "source": [
        "###InjuryType Visualization Bar Chart"
      ],
      "metadata": {
        "id": "iFx1VQGGEgpA"
      }
    },
    {
      "cell_type": "code",
      "source": [
        "df['PatientStatus'].value_counts().plot(kind='bar', color=['blue', 'red'])\n",
        "\n",
        "\n",
        "plt.show()\n"
      ],
      "metadata": {
        "colab": {
          "base_uri": "https://localhost:8080/",
          "height": 549
        },
        "id": "57olwwwQEhl3",
        "outputId": "4405ecd8-ec43-45ad-e7ec-bccabd1b867d"
      },
      "execution_count": 4144,
      "outputs": [
        {
          "output_type": "display_data",
          "data": {
            "text/plain": [
              "<Figure size 640x480 with 1 Axes>"
            ],
            "image/png": "[encoded data removed]"
          },
          "metadata": {}
        }
      ]
    },
    {
      "cell_type": "markdown",
      "source": [
        "###PatientStatus Encoding\n"
      ],
      "metadata": {
        "id": "9EjhMdWaEmRK"
      }
    },
    {
      "cell_type": "code",
      "source": [
        "encoder = OrdinalEncoder()\n",
        "df['PatientStatus'] = encoder.fit_transform(df[['PatientStatus']])\n",
        "df.info()\n"
      ],
      "metadata": {
        "colab": {
          "base_uri": "https://localhost:8080/"
        },
        "id": "2-MNHT9BEqAw",
        "outputId": "20b7be80-2021-48c3-ac0a-4c2b67f27e0f"
      },
      "execution_count": 4145,
      "outputs": [
        {
          "output_type": "stream",
          "name": "stdout",
          "text": [
            "<class 'pandas.core.frame.DataFrame'>\n",
            "Index: 46161 entries, 0 to 46188\n",
            "Data columns (total 21 columns):\n",
            " #   Column                    Non-Null Count  Dtype  \n",
            "---  ------                    --------------  -----  \n",
            " 0   EmergencyArea             46161 non-null  object \n",
            " 1   TotalPatientsInEmergency  46161 non-null  object \n",
            " 2   Gender                    46161 non-null  object \n",
            " 3   Age                       46161 non-null  float64\n",
            " 4   Reason                    46161 non-null  object \n",
            " 5   responsetime              46161 non-null  float64\n",
            " 6   EducationTitle            46161 non-null  float64\n",
            " 7   InjuryType                46161 non-null  float64\n",
            " 8   Cause                     46161 non-null  object \n",
            " 9   PatientStatus             46161 non-null  float64\n",
            " 10  BicycleInvovled           46161 non-null  float64\n",
            " 11  BikesInvolved             46161 non-null  float64\n",
            " 12  BusesInvolved             46161 non-null  float64\n",
            " 13  CarsInvolved              46161 non-null  float64\n",
            " 14  CartInvovled              46161 non-null  float64\n",
            " 15  RickshawsInvolved         46161 non-null  float64\n",
            " 16  TractorInvovled           46161 non-null  float64\n",
            " 17  TrainsInvovled            46161 non-null  float64\n",
            " 18  TrucksInvolved            46161 non-null  float64\n",
            " 19  VansInvolved              46161 non-null  float64\n",
            " 20  OthersInvolved            46161 non-null  float64\n",
            "dtypes: float64(16), object(5)\n",
            "memory usage: 7.7+ MB\n"
          ]
        }
      ]
    },
    {
      "cell_type": "code",
      "source": [
        "df.isnull().sum()"
      ],
      "metadata": {
        "colab": {
          "base_uri": "https://localhost:8080/",
          "height": 743
        },
        "id": "E7zLR1dbyzaY",
        "outputId": "d739f5b2-fb59-4a9b-a392-18e3c0ec7d00"
      },
      "execution_count": 4146,
      "outputs": [
        {
          "output_type": "execute_result",
          "data": {
            "text/plain": [
              "EmergencyArea               0\n",
              "TotalPatientsInEmergency    0\n",
              "Gender                      0\n",
              "Age                         0\n",
              "Reason                      0\n",
              "responsetime                0\n",
              "EducationTitle              0\n",
              "InjuryType                  0\n",
              "Cause                       0\n",
              "PatientStatus               0\n",
              "BicycleInvovled             0\n",
              "BikesInvolved               0\n",
              "BusesInvolved               0\n",
              "CarsInvolved                0\n",
              "CartInvovled                0\n",
              "RickshawsInvolved           0\n",
              "TractorInvovled             0\n",
              "TrainsInvovled              0\n",
              "TrucksInvolved              0\n",
              "VansInvolved                0\n",
              "OthersInvolved              0\n",
              "dtype: int64"
            ],
            "text/html": [
              "<div>\n",
              "<style scoped>\n",
              "    .dataframe tbody tr th:only-of-type {\n",
              "        vertical-align: middle;\n",
              "    }\n",
              "\n",
              "    .dataframe tbody tr th {\n",
              "        vertical-align: top;\n",
              "    }\n",
              "\n",
              "    .dataframe thead th {\n",
              "        text-align: right;\n",
              "    }\n",
              "</style>\n",
              "<table border=\"1\" class=\"dataframe\">\n",
              "  <thead>\n",
              "    <tr style=\"text-align: right;\">\n",
              "      <th></th>\n",
              "      <th>0</th>\n",
              "    </tr>\n",
              "  </thead>\n",
              "  <tbody>\n",
              "    <tr>\n",
              "      <th>EmergencyArea</th>\n",
              "      <td>0</td>\n",
              "    </tr>\n",
              "    <tr>\n",
              "      <th>TotalPatientsInEmergency</th>\n",
              "      <td>0</td>\n",
              "    </tr>\n",
              "    <tr>\n",
              "      <th>Gender</th>\n",
              "      <td>0</td>\n",
              "    </tr>\n",
              "    <tr>\n",
              "      <th>Age</th>\n",
              "      <td>0</td>\n",
              "    </tr>\n",
              "    <tr>\n",
              "      <th>Reason</th>\n",
              "      <td>0</td>\n",
              "    </tr>\n",
              "    <tr>\n",
              "      <th>responsetime</th>\n",
              "      <td>0</td>\n",
              "    </tr>\n",
              "    <tr>\n",
              "      <th>EducationTitle</th>\n",
              "      <td>0</td>\n",
              "    </tr>\n",
              "    <tr>\n",
              "      <th>InjuryType</th>\n",
              "      <td>0</td>\n",
              "    </tr>\n",
              "    <tr>\n",
              "      <th>Cause</th>\n",
              "      <td>0</td>\n",
              "    </tr>\n",
              "    <tr>\n",
              "      <th>PatientStatus</th>\n",
              "      <td>0</td>\n",
              "    </tr>\n",
              "    <tr>\n",
              "      <th>BicycleInvovled</th>\n",
              "      <td>0</td>\n",
              "    </tr>\n",
              "    <tr>\n",
              "      <th>BikesInvolved</th>\n",
              "      <td>0</td>\n",
              "    </tr>\n",
              "    <tr>\n",
              "      <th>BusesInvolved</th>\n",
              "      <td>0</td>\n",
              "    </tr>\n",
              "    <tr>\n",
              "      <th>CarsInvolved</th>\n",
              "      <td>0</td>\n",
              "    </tr>\n",
              "    <tr>\n",
              "      <th>CartInvovled</th>\n",
              "      <td>0</td>\n",
              "    </tr>\n",
              "    <tr>\n",
              "      <th>RickshawsInvolved</th>\n",
              "      <td>0</td>\n",
              "    </tr>\n",
              "    <tr>\n",
              "      <th>TractorInvovled</th>\n",
              "      <td>0</td>\n",
              "    </tr>\n",
              "    <tr>\n",
              "      <th>TrainsInvovled</th>\n",
              "      <td>0</td>\n",
              "    </tr>\n",
              "    <tr>\n",
              "      <th>TrucksInvolved</th>\n",
              "      <td>0</td>\n",
              "    </tr>\n",
              "    <tr>\n",
              "      <th>VansInvolved</th>\n",
              "      <td>0</td>\n",
              "    </tr>\n",
              "    <tr>\n",
              "      <th>OthersInvolved</th>\n",
              "      <td>0</td>\n",
              "    </tr>\n",
              "  </tbody>\n",
              "</table>\n",
              "</div><br><label><b>dtype:</b> int64</label>"
            ]
          },
          "metadata": {},
          "execution_count": 4146
        }
      ]
    },
    {
      "cell_type": "code",
      "source": [
        "df['PatientStatus'].value_counts()\n"
      ],
      "metadata": {
        "colab": {
          "base_uri": "https://localhost:8080/",
          "height": 210
        },
        "id": "LmzLxAGCEs9y",
        "outputId": "e6de6c29-ce7d-492a-98b6-5924bbba29af"
      },
      "execution_count": 4147,
      "outputs": [
        {
          "output_type": "execute_result",
          "data": {
            "text/plain": [
              "PatientStatus\n",
              "1.0    23765\n",
              "0.0    21812\n",
              "2.0      584\n",
              "Name: count, dtype: int64"
            ],
            "text/html": [
              "<div>\n",
              "<style scoped>\n",
              "    .dataframe tbody tr th:only-of-type {\n",
              "        vertical-align: middle;\n",
              "    }\n",
              "\n",
              "    .dataframe tbody tr th {\n",
              "        vertical-align: top;\n",
              "    }\n",
              "\n",
              "    .dataframe thead th {\n",
              "        text-align: right;\n",
              "    }\n",
              "</style>\n",
              "<table border=\"1\" class=\"dataframe\">\n",
              "  <thead>\n",
              "    <tr style=\"text-align: right;\">\n",
              "      <th></th>\n",
              "      <th>count</th>\n",
              "    </tr>\n",
              "    <tr>\n",
              "      <th>PatientStatus</th>\n",
              "      <th></th>\n",
              "    </tr>\n",
              "  </thead>\n",
              "  <tbody>\n",
              "    <tr>\n",
              "      <th>1.0</th>\n",
              "      <td>23765</td>\n",
              "    </tr>\n",
              "    <tr>\n",
              "      <th>0.0</th>\n",
              "      <td>21812</td>\n",
              "    </tr>\n",
              "    <tr>\n",
              "      <th>2.0</th>\n",
              "      <td>584</td>\n",
              "    </tr>\n",
              "  </tbody>\n",
              "</table>\n",
              "</div><br><label><b>dtype:</b> int64</label>"
            ]
          },
          "metadata": {},
          "execution_count": 4147
        }
      ]
    },
    {
      "cell_type": "markdown",
      "source": [
        "##Label Encoding"
      ],
      "metadata": {
        "id": "GLNbgvcjebCo"
      }
    },
    {
      "cell_type": "code",
      "source": [
        "df['EmergencyArea'].value_counts()"
      ],
      "metadata": {
        "id": "kLDzZaLefP-O",
        "colab": {
          "base_uri": "https://localhost:8080/",
          "height": 490
        },
        "outputId": "425c9365-4dfa-4ce9-bfb3-647f672694ab"
      },
      "execution_count": 4148,
      "outputs": [
        {
          "output_type": "execute_result",
          "data": {
            "text/plain": [
              "EmergencyArea\n",
              " Railway Track Underpass Nazar Chowk Near Kacheri, Rwp.       42\n",
              " Cod Chowk Adyala Road Rawalpindi                             38\n",
              " 502 Chowk, Adyala Road, Rwp                                  33\n",
              "Near Pc Hotel Signal Mall Road Rwp                            31\n",
              " 22 No. Chungi Damiyal Road, Main Chowk, Rawalpindi           29\n",
              "                                                              ..\n",
              "Adra Pull Abid Majeed Road Rwp                                 1\n",
              "Jinnah Park Railway Track Rwp                                  1\n",
              "Abid Majeed Road Front of CSD Rwp                              1\n",
              "22 No Stop Rwp                                                 1\n",
              "Near Rehmanabad Metro Station T/W Faizabad Murree Road Rwp     1\n",
              "Name: count, Length: 37521, dtype: int64"
            ],
            "text/html": [
              "<div>\n",
              "<style scoped>\n",
              "    .dataframe tbody tr th:only-of-type {\n",
              "        vertical-align: middle;\n",
              "    }\n",
              "\n",
              "    .dataframe tbody tr th {\n",
              "        vertical-align: top;\n",
              "    }\n",
              "\n",
              "    .dataframe thead th {\n",
              "        text-align: right;\n",
              "    }\n",
              "</style>\n",
              "<table border=\"1\" class=\"dataframe\">\n",
              "  <thead>\n",
              "    <tr style=\"text-align: right;\">\n",
              "      <th></th>\n",
              "      <th>count</th>\n",
              "    </tr>\n",
              "    <tr>\n",
              "      <th>EmergencyArea</th>\n",
              "      <th></th>\n",
              "    </tr>\n",
              "  </thead>\n",
              "  <tbody>\n",
              "    <tr>\n",
              "      <th>Railway Track Underpass Nazar Chowk Near Kacheri, Rwp.</th>\n",
              "      <td>42</td>\n",
              "    </tr>\n",
              "    <tr>\n",
              "      <th>Cod Chowk Adyala Road Rawalpindi</th>\n",
              "      <td>38</td>\n",
              "    </tr>\n",
              "    <tr>\n",
              "      <th>502 Chowk, Adyala Road, Rwp</th>\n",
              "      <td>33</td>\n",
              "    </tr>\n",
              "    <tr>\n",
              "      <th>Near Pc Hotel Signal Mall Road Rwp</th>\n",
              "      <td>31</td>\n",
              "    </tr>\n",
              "    <tr>\n",
              "      <th>22 No. Chungi Damiyal Road, Main Chowk, Rawalpindi</th>\n",
              "      <td>29</td>\n",
              "    </tr>\n",
              "    <tr>\n",
              "      <th>...</th>\n",
              "      <td>...</td>\n",
              "    </tr>\n",
              "    <tr>\n",
              "      <th>Adra Pull Abid Majeed Road Rwp</th>\n",
              "      <td>1</td>\n",
              "    </tr>\n",
              "    <tr>\n",
              "      <th>Jinnah Park Railway Track Rwp</th>\n",
              "      <td>1</td>\n",
              "    </tr>\n",
              "    <tr>\n",
              "      <th>Abid Majeed Road Front of CSD Rwp</th>\n",
              "      <td>1</td>\n",
              "    </tr>\n",
              "    <tr>\n",
              "      <th>22 No Stop Rwp</th>\n",
              "      <td>1</td>\n",
              "    </tr>\n",
              "    <tr>\n",
              "      <th>Near Rehmanabad Metro Station T/W Faizabad Murree Road Rwp</th>\n",
              "      <td>1</td>\n",
              "    </tr>\n",
              "  </tbody>\n",
              "</table>\n",
              "<p>37521 rows × 1 columns</p>\n",
              "</div><br><label><b>dtype:</b> int64</label>"
            ]
          },
          "metadata": {},
          "execution_count": 4148
        }
      ]
    },
    {
      "cell_type": "markdown",
      "source": [
        "###Info EmergencyArea Encoding\n",
        "\n",
        "```\n",
        "The EmergencyArea column contains numerous unique locations, with varying frequencies of incidents at each.\n",
        " Label encoding was applied to convert these categorical values into numerical labels for machine learning models.\n",
        "  While label encoding simplifies the data for models, it doesn't capture the significance of frequent locations.\n",
        "```\n",
        "\n"
      ],
      "metadata": {
        "id": "a3ISpf2Dhvw2"
      }
    },
    {
      "cell_type": "markdown",
      "source": [
        "###EmergencyArea Encoding"
      ],
      "metadata": {
        "id": "p0CU0GIh3KVw"
      }
    },
    {
      "cell_type": "code",
      "source": [
        "df['EmergencyArea'].value_counts()"
      ],
      "metadata": {
        "id": "hOTc3pUHiyqz",
        "colab": {
          "base_uri": "https://localhost:8080/",
          "height": 490
        },
        "outputId": "c6d9daf0-06f0-4be6-e6ce-b683b768817a"
      },
      "execution_count": 4149,
      "outputs": [
        {
          "output_type": "execute_result",
          "data": {
            "text/plain": [
              "EmergencyArea\n",
              " Railway Track Underpass Nazar Chowk Near Kacheri, Rwp.       42\n",
              " Cod Chowk Adyala Road Rawalpindi                             38\n",
              " 502 Chowk, Adyala Road, Rwp                                  33\n",
              "Near Pc Hotel Signal Mall Road Rwp                            31\n",
              " 22 No. Chungi Damiyal Road, Main Chowk, Rawalpindi           29\n",
              "                                                              ..\n",
              "Adra Pull Abid Majeed Road Rwp                                 1\n",
              "Jinnah Park Railway Track Rwp                                  1\n",
              "Abid Majeed Road Front of CSD Rwp                              1\n",
              "22 No Stop Rwp                                                 1\n",
              "Near Rehmanabad Metro Station T/W Faizabad Murree Road Rwp     1\n",
              "Name: count, Length: 37521, dtype: int64"
            ],
            "text/html": [
              "<div>\n",
              "<style scoped>\n",
              "    .dataframe tbody tr th:only-of-type {\n",
              "        vertical-align: middle;\n",
              "    }\n",
              "\n",
              "    .dataframe tbody tr th {\n",
              "        vertical-align: top;\n",
              "    }\n",
              "\n",
              "    .dataframe thead th {\n",
              "        text-align: right;\n",
              "    }\n",
              "</style>\n",
              "<table border=\"1\" class=\"dataframe\">\n",
              "  <thead>\n",
              "    <tr style=\"text-align: right;\">\n",
              "      <th></th>\n",
              "      <th>count</th>\n",
              "    </tr>\n",
              "    <tr>\n",
              "      <th>EmergencyArea</th>\n",
              "      <th></th>\n",
              "    </tr>\n",
              "  </thead>\n",
              "  <tbody>\n",
              "    <tr>\n",
              "      <th>Railway Track Underpass Nazar Chowk Near Kacheri, Rwp.</th>\n",
              "      <td>42</td>\n",
              "    </tr>\n",
              "    <tr>\n",
              "      <th>Cod Chowk Adyala Road Rawalpindi</th>\n",
              "      <td>38</td>\n",
              "    </tr>\n",
              "    <tr>\n",
              "      <th>502 Chowk, Adyala Road, Rwp</th>\n",
              "      <td>33</td>\n",
              "    </tr>\n",
              "    <tr>\n",
              "      <th>Near Pc Hotel Signal Mall Road Rwp</th>\n",
              "      <td>31</td>\n",
              "    </tr>\n",
              "    <tr>\n",
              "      <th>22 No. Chungi Damiyal Road, Main Chowk, Rawalpindi</th>\n",
              "      <td>29</td>\n",
              "    </tr>\n",
              "    <tr>\n",
              "      <th>...</th>\n",
              "      <td>...</td>\n",
              "    </tr>\n",
              "    <tr>\n",
              "      <th>Adra Pull Abid Majeed Road Rwp</th>\n",
              "      <td>1</td>\n",
              "    </tr>\n",
              "    <tr>\n",
              "      <th>Jinnah Park Railway Track Rwp</th>\n",
              "      <td>1</td>\n",
              "    </tr>\n",
              "    <tr>\n",
              "      <th>Abid Majeed Road Front of CSD Rwp</th>\n",
              "      <td>1</td>\n",
              "    </tr>\n",
              "    <tr>\n",
              "      <th>22 No Stop Rwp</th>\n",
              "      <td>1</td>\n",
              "    </tr>\n",
              "    <tr>\n",
              "      <th>Near Rehmanabad Metro Station T/W Faizabad Murree Road Rwp</th>\n",
              "      <td>1</td>\n",
              "    </tr>\n",
              "  </tbody>\n",
              "</table>\n",
              "<p>37521 rows × 1 columns</p>\n",
              "</div><br><label><b>dtype:</b> int64</label>"
            ]
          },
          "metadata": {},
          "execution_count": 4149
        }
      ]
    },
    {
      "cell_type": "code",
      "source": [
        "encoder = LabelEncoder()\n",
        "df['EmergencyArea'] = encoder.fit_transform(df['EmergencyArea'])\n",
        "df.info()"
      ],
      "metadata": {
        "id": "WSLv2IGlitgR",
        "colab": {
          "base_uri": "https://localhost:8080/"
        },
        "outputId": "473042c4-59b9-41fa-95a5-35c813ad0372"
      },
      "execution_count": 4150,
      "outputs": [
        {
          "output_type": "stream",
          "name": "stdout",
          "text": [
            "<class 'pandas.core.frame.DataFrame'>\n",
            "Index: 46161 entries, 0 to 46188\n",
            "Data columns (total 21 columns):\n",
            " #   Column                    Non-Null Count  Dtype  \n",
            "---  ------                    --------------  -----  \n",
            " 0   EmergencyArea             46161 non-null  int64  \n",
            " 1   TotalPatientsInEmergency  46161 non-null  object \n",
            " 2   Gender                    46161 non-null  object \n",
            " 3   Age                       46161 non-null  float64\n",
            " 4   Reason                    46161 non-null  object \n",
            " 5   responsetime              46161 non-null  float64\n",
            " 6   EducationTitle            46161 non-null  float64\n",
            " 7   InjuryType                46161 non-null  float64\n",
            " 8   Cause                     46161 non-null  object \n",
            " 9   PatientStatus             46161 non-null  float64\n",
            " 10  BicycleInvovled           46161 non-null  float64\n",
            " 11  BikesInvolved             46161 non-null  float64\n",
            " 12  BusesInvolved             46161 non-null  float64\n",
            " 13  CarsInvolved              46161 non-null  float64\n",
            " 14  CartInvovled              46161 non-null  float64\n",
            " 15  RickshawsInvolved         46161 non-null  float64\n",
            " 16  TractorInvovled           46161 non-null  float64\n",
            " 17  TrainsInvovled            46161 non-null  float64\n",
            " 18  TrucksInvolved            46161 non-null  float64\n",
            " 19  VansInvolved              46161 non-null  float64\n",
            " 20  OthersInvolved            46161 non-null  float64\n",
            "dtypes: float64(16), int64(1), object(4)\n",
            "memory usage: 7.7+ MB\n"
          ]
        }
      ]
    },
    {
      "cell_type": "code",
      "source": [
        "df['EmergencyArea'].value_counts()"
      ],
      "metadata": {
        "colab": {
          "base_uri": "https://localhost:8080/",
          "height": 490
        },
        "id": "EPZhfeXdtazv",
        "outputId": "4362e104-3102-418d-feb7-59fce55f9f15"
      },
      "execution_count": 4151,
      "outputs": [
        {
          "output_type": "execute_result",
          "data": {
            "text/plain": [
              "EmergencyArea\n",
              "5352     42\n",
              "1082     38\n",
              "42       33\n",
              "27523    31\n",
              "16       29\n",
              "         ..\n",
              "8576      1\n",
              "20180     1\n",
              "8483      1\n",
              "7655      1\n",
              "27847     1\n",
              "Name: count, Length: 37521, dtype: int64"
            ],
            "text/html": [
              "<div>\n",
              "<style scoped>\n",
              "    .dataframe tbody tr th:only-of-type {\n",
              "        vertical-align: middle;\n",
              "    }\n",
              "\n",
              "    .dataframe tbody tr th {\n",
              "        vertical-align: top;\n",
              "    }\n",
              "\n",
              "    .dataframe thead th {\n",
              "        text-align: right;\n",
              "    }\n",
              "</style>\n",
              "<table border=\"1\" class=\"dataframe\">\n",
              "  <thead>\n",
              "    <tr style=\"text-align: right;\">\n",
              "      <th></th>\n",
              "      <th>count</th>\n",
              "    </tr>\n",
              "    <tr>\n",
              "      <th>EmergencyArea</th>\n",
              "      <th></th>\n",
              "    </tr>\n",
              "  </thead>\n",
              "  <tbody>\n",
              "    <tr>\n",
              "      <th>5352</th>\n",
              "      <td>42</td>\n",
              "    </tr>\n",
              "    <tr>\n",
              "      <th>1082</th>\n",
              "      <td>38</td>\n",
              "    </tr>\n",
              "    <tr>\n",
              "      <th>42</th>\n",
              "      <td>33</td>\n",
              "    </tr>\n",
              "    <tr>\n",
              "      <th>27523</th>\n",
              "      <td>31</td>\n",
              "    </tr>\n",
              "    <tr>\n",
              "      <th>16</th>\n",
              "      <td>29</td>\n",
              "    </tr>\n",
              "    <tr>\n",
              "      <th>...</th>\n",
              "      <td>...</td>\n",
              "    </tr>\n",
              "    <tr>\n",
              "      <th>8576</th>\n",
              "      <td>1</td>\n",
              "    </tr>\n",
              "    <tr>\n",
              "      <th>20180</th>\n",
              "      <td>1</td>\n",
              "    </tr>\n",
              "    <tr>\n",
              "      <th>8483</th>\n",
              "      <td>1</td>\n",
              "    </tr>\n",
              "    <tr>\n",
              "      <th>7655</th>\n",
              "      <td>1</td>\n",
              "    </tr>\n",
              "    <tr>\n",
              "      <th>27847</th>\n",
              "      <td>1</td>\n",
              "    </tr>\n",
              "  </tbody>\n",
              "</table>\n",
              "<p>37521 rows × 1 columns</p>\n",
              "</div><br><label><b>dtype:</b> int64</label>"
            ]
          },
          "metadata": {},
          "execution_count": 4151
        }
      ]
    },
    {
      "cell_type": "markdown",
      "source": [
        "###EmergencyArea Visualization Box Plot"
      ],
      "metadata": {
        "id": "yWDjXlLoaToW"
      }
    },
    {
      "cell_type": "code",
      "source": [
        "plt.figure(figsize=(10, 6))\n",
        "sns.boxplot(x=df['EmergencyArea'])\n",
        "\n",
        "plt.show()"
      ],
      "metadata": {
        "id": "kbMSn4B_aZ4W",
        "colab": {
          "base_uri": "https://localhost:8080/",
          "height": 542
        },
        "outputId": "3faf0191-7007-4966-c89c-0b9a8aaa8592"
      },
      "execution_count": 4152,
      "outputs": [
        {
          "output_type": "display_data",
          "data": {
            "text/plain": [
              "<Figure size 1000x600 with 1 Axes>"
            ],
            "image/png": "[encoded data removed]"
          },
          "metadata": {}
        }
      ]
    },
    {
      "cell_type": "markdown",
      "source": [
        " The median value, represented by the line inside the box, is approximately 20,000. This suggests that the middle 50% of the data\n",
        " points fall within the range of 10,000 to 25,000.\n",
        "\n",
        "There are no visible outliers, as there are no data points outside of the whiskers."
      ],
      "metadata": {
        "id": "Jo-VJNxpeFJC"
      }
    },
    {
      "cell_type": "markdown",
      "source": [
        "###EmergencyArea Visualization Histogram"
      ],
      "metadata": {
        "id": "ZYqHHdy2cW6m"
      }
    },
    {
      "cell_type": "code",
      "source": [
        "df['EmergencyArea'].plot(kind='hist', color='red')\n",
        "plt.title('Distribution of EmergencyArea')\n",
        "plt.xlabel('EmergencyArea')\n",
        "plt.ylabel('Frequency')\n",
        "plt.show()\n"
      ],
      "metadata": {
        "id": "lW7A2RhLbahJ",
        "colab": {
          "base_uri": "https://localhost:8080/",
          "height": 472
        },
        "outputId": "4c942718-8219-4b8e-9096-60f0754be60d"
      },
      "execution_count": 4153,
      "outputs": [
        {
          "output_type": "display_data",
          "data": {
            "text/plain": [
              "<Figure size 640x480 with 1 Axes>"
            ],
            "image/png": "[encoded data removed]"
          },
          "metadata": {}
        }
      ]
    },
    {
      "cell_type": "markdown",
      "source": [
        "The histogram shows a relatively uniform distribution, with a consistent frequency across most of the \"Emergency Area\" values. There is no clear peak or skew in the data.\n",
        "\n",
        "The range of \"Emergency Area\" values appears to be from approximately 0 to 35,000.\n",
        "\n",
        "The frequency of each value seems to be around 4,000-5,000, with some minor variations."
      ],
      "metadata": {
        "id": "afB7wZCoeXrZ"
      }
    },
    {
      "cell_type": "markdown",
      "source": [
        "###Info Cause Encoding\n",
        "\n",
        "\n",
        "\n",
        "\n",
        "```\n",
        "Label encoding is used for the Cause column to convert categorical values (e.g., \"Over Speed,\" \"Carelessness\")\n",
        "into numeric labels that machine learning models can process.\n",
        "This is especially helpful for algorithms\n",
        "like decision trees or random forests, which handle numerical data efficiently.\n",
        "```\n",
        "\n"
      ],
      "metadata": {
        "id": "b5tDNAjE3S5F"
      }
    },
    {
      "cell_type": "code",
      "source": [
        "df['Cause'].value_counts()"
      ],
      "metadata": {
        "id": "ARNXUD-v5vzN",
        "colab": {
          "base_uri": "https://localhost:8080/",
          "height": 335
        },
        "outputId": "67b862cf-3036-44f5-86d5-328ddfa81c53"
      },
      "execution_count": 4154,
      "outputs": [
        {
          "output_type": "execute_result",
          "data": {
            "text/plain": [
              "Cause\n",
              "Over Speed      29569\n",
              "Carelessness    14169\n",
              "U Turn            933\n",
              "Wrong Turn        841\n",
              "Tyre Burst        481\n",
              "Others            104\n",
              "One Wheeling       64\n",
              "Name: count, dtype: int64"
            ],
            "text/html": [
              "<div>\n",
              "<style scoped>\n",
              "    .dataframe tbody tr th:only-of-type {\n",
              "        vertical-align: middle;\n",
              "    }\n",
              "\n",
              "    .dataframe tbody tr th {\n",
              "        vertical-align: top;\n",
              "    }\n",
              "\n",
              "    .dataframe thead th {\n",
              "        text-align: right;\n",
              "    }\n",
              "</style>\n",
              "<table border=\"1\" class=\"dataframe\">\n",
              "  <thead>\n",
              "    <tr style=\"text-align: right;\">\n",
              "      <th></th>\n",
              "      <th>count</th>\n",
              "    </tr>\n",
              "    <tr>\n",
              "      <th>Cause</th>\n",
              "      <th></th>\n",
              "    </tr>\n",
              "  </thead>\n",
              "  <tbody>\n",
              "    <tr>\n",
              "      <th>Over Speed</th>\n",
              "      <td>29569</td>\n",
              "    </tr>\n",
              "    <tr>\n",
              "      <th>Carelessness</th>\n",
              "      <td>14169</td>\n",
              "    </tr>\n",
              "    <tr>\n",
              "      <th>U Turn</th>\n",
              "      <td>933</td>\n",
              "    </tr>\n",
              "    <tr>\n",
              "      <th>Wrong Turn</th>\n",
              "      <td>841</td>\n",
              "    </tr>\n",
              "    <tr>\n",
              "      <th>Tyre Burst</th>\n",
              "      <td>481</td>\n",
              "    </tr>\n",
              "    <tr>\n",
              "      <th>Others</th>\n",
              "      <td>104</td>\n",
              "    </tr>\n",
              "    <tr>\n",
              "      <th>One Wheeling</th>\n",
              "      <td>64</td>\n",
              "    </tr>\n",
              "  </tbody>\n",
              "</table>\n",
              "</div><br><label><b>dtype:</b> int64</label>"
            ]
          },
          "metadata": {},
          "execution_count": 4154
        }
      ]
    },
    {
      "cell_type": "markdown",
      "source": [
        "###Cause Visualization Bar chart\n",
        "\n",
        "\n"
      ],
      "metadata": {
        "id": "L6MNiEnocuUw"
      }
    },
    {
      "cell_type": "code",
      "source": [
        "df['Cause'].value_counts().plot(kind='bar', color=['blue', 'red'])\n",
        "\n",
        "\n",
        "plt.show()"
      ],
      "metadata": {
        "id": "3E_n5pBsdZyz",
        "colab": {
          "base_uri": "https://localhost:8080/",
          "height": 533
        },
        "outputId": "744050d0-e2c2-4b67-d46d-199219c82e00"
      },
      "execution_count": 4155,
      "outputs": [
        {
          "output_type": "display_data",
          "data": {
            "text/plain": [
              "<Figure size 640x480 with 1 Axes>"
            ],
            "image/png": "[encoded data removed]"
          },
          "metadata": {}
        }
      ]
    },
    {
      "cell_type": "markdown",
      "source": [
        "###Cause Label Encoding"
      ],
      "metadata": {
        "id": "4QXDTEF45KTn"
      }
    },
    {
      "cell_type": "code",
      "source": [
        "encoder = LabelEncoder()\n",
        "df['Cause'] = encoder.fit_transform(df['Cause'])\n",
        "df.info()"
      ],
      "metadata": {
        "id": "djaHAwB25QoH",
        "colab": {
          "base_uri": "https://localhost:8080/"
        },
        "outputId": "305a2902-8d5d-4bb1-e199-4cd051ea625d"
      },
      "execution_count": 4156,
      "outputs": [
        {
          "output_type": "stream",
          "name": "stdout",
          "text": [
            "<class 'pandas.core.frame.DataFrame'>\n",
            "Index: 46161 entries, 0 to 46188\n",
            "Data columns (total 21 columns):\n",
            " #   Column                    Non-Null Count  Dtype  \n",
            "---  ------                    --------------  -----  \n",
            " 0   EmergencyArea             46161 non-null  int64  \n",
            " 1   TotalPatientsInEmergency  46161 non-null  object \n",
            " 2   Gender                    46161 non-null  object \n",
            " 3   Age                       46161 non-null  float64\n",
            " 4   Reason                    46161 non-null  object \n",
            " 5   responsetime              46161 non-null  float64\n",
            " 6   EducationTitle            46161 non-null  float64\n",
            " 7   InjuryType                46161 non-null  float64\n",
            " 8   Cause                     46161 non-null  int64  \n",
            " 9   PatientStatus             46161 non-null  float64\n",
            " 10  BicycleInvovled           46161 non-null  float64\n",
            " 11  BikesInvolved             46161 non-null  float64\n",
            " 12  BusesInvolved             46161 non-null  float64\n",
            " 13  CarsInvolved              46161 non-null  float64\n",
            " 14  CartInvovled              46161 non-null  float64\n",
            " 15  RickshawsInvolved         46161 non-null  float64\n",
            " 16  TractorInvovled           46161 non-null  float64\n",
            " 17  TrainsInvovled            46161 non-null  float64\n",
            " 18  TrucksInvolved            46161 non-null  float64\n",
            " 19  VansInvolved              46161 non-null  float64\n",
            " 20  OthersInvolved            46161 non-null  float64\n",
            "dtypes: float64(16), int64(2), object(3)\n",
            "memory usage: 7.7+ MB\n"
          ]
        }
      ]
    },
    {
      "cell_type": "code",
      "source": [
        "df['Cause'].value_counts()"
      ],
      "metadata": {
        "id": "uwZw3Rcw5ZXb",
        "colab": {
          "base_uri": "https://localhost:8080/",
          "height": 335
        },
        "outputId": "df09c38a-8bed-491f-e86a-19465b4d7142"
      },
      "execution_count": 4157,
      "outputs": [
        {
          "output_type": "execute_result",
          "data": {
            "text/plain": [
              "Cause\n",
              "3    29569\n",
              "0    14169\n",
              "5      933\n",
              "6      841\n",
              "4      481\n",
              "2      104\n",
              "1       64\n",
              "Name: count, dtype: int64"
            ],
            "text/html": [
              "<div>\n",
              "<style scoped>\n",
              "    .dataframe tbody tr th:only-of-type {\n",
              "        vertical-align: middle;\n",
              "    }\n",
              "\n",
              "    .dataframe tbody tr th {\n",
              "        vertical-align: top;\n",
              "    }\n",
              "\n",
              "    .dataframe thead th {\n",
              "        text-align: right;\n",
              "    }\n",
              "</style>\n",
              "<table border=\"1\" class=\"dataframe\">\n",
              "  <thead>\n",
              "    <tr style=\"text-align: right;\">\n",
              "      <th></th>\n",
              "      <th>count</th>\n",
              "    </tr>\n",
              "    <tr>\n",
              "      <th>Cause</th>\n",
              "      <th></th>\n",
              "    </tr>\n",
              "  </thead>\n",
              "  <tbody>\n",
              "    <tr>\n",
              "      <th>3</th>\n",
              "      <td>29569</td>\n",
              "    </tr>\n",
              "    <tr>\n",
              "      <th>0</th>\n",
              "      <td>14169</td>\n",
              "    </tr>\n",
              "    <tr>\n",
              "      <th>5</th>\n",
              "      <td>933</td>\n",
              "    </tr>\n",
              "    <tr>\n",
              "      <th>6</th>\n",
              "      <td>841</td>\n",
              "    </tr>\n",
              "    <tr>\n",
              "      <th>4</th>\n",
              "      <td>481</td>\n",
              "    </tr>\n",
              "    <tr>\n",
              "      <th>2</th>\n",
              "      <td>104</td>\n",
              "    </tr>\n",
              "    <tr>\n",
              "      <th>1</th>\n",
              "      <td>64</td>\n",
              "    </tr>\n",
              "  </tbody>\n",
              "</table>\n",
              "</div><br><label><b>dtype:</b> int64</label>"
            ]
          },
          "metadata": {},
          "execution_count": 4157
        }
      ]
    },
    {
      "cell_type": "markdown",
      "source": [
        "###Cause Visualization Histogram\n"
      ],
      "metadata": {
        "id": "vFjO-tbjd8RQ"
      }
    },
    {
      "cell_type": "code",
      "source": [
        "df['Cause'].plot(kind='hist', color='red')\n",
        "plt.title('Distribution of Cause')\n",
        "plt.xlabel('Cause')\n",
        "plt.show()\n"
      ],
      "metadata": {
        "id": "1pX2hz0YeDbU",
        "colab": {
          "base_uri": "https://localhost:8080/",
          "height": 472
        },
        "outputId": "b427e8be-0c02-4602-d852-9b01be9a5f5b"
      },
      "execution_count": 4158,
      "outputs": [
        {
          "output_type": "display_data",
          "data": {
            "text/plain": [
              "<Figure size 640x480 with 1 Axes>"
            ],
            "image/png": "[encoded data removed]"
          },
          "metadata": {}
        }
      ]
    },
    {
      "cell_type": "code",
      "source": [
        "df['Reason'].value_counts()"
      ],
      "metadata": {
        "id": "8e9fOaknqLOq",
        "colab": {
          "base_uri": "https://localhost:8080/",
          "height": 490
        },
        "outputId": "8e670f38-e41f-41bf-8b38-fb656e634bfa"
      },
      "execution_count": 4159,
      "outputs": [
        {
          "output_type": "execute_result",
          "data": {
            "text/plain": [
              "Reason\n",
              "same                                                                             2318\n",
              "Same                                                                             1314\n",
              "Bike Slipped                                                                     1223\n",
              "Same                                                                             1012\n",
              "Bike Slip                                                                         957\n",
              "                                                                                 ... \n",
              " Car(FD-178 Honda Swift) Hitted the pedestrian due to over speed                    1\n",
              "Female motor bike pa jta hoa bike slipped hony ki wajhy sy garr gei(Rin 9043)       1\n",
              "Car hit another car (MRAG 734) (u4156)                                              1\n",
              " Unknown van hit the bike (APF-22 US 70cc) and runaway                              1\n",
              " Both car hited eachother overspeed                                                 1\n",
              "Name: count, Length: 23940, dtype: int64"
            ],
            "text/html": [
              "<div>\n",
              "<style scoped>\n",
              "    .dataframe tbody tr th:only-of-type {\n",
              "        vertical-align: middle;\n",
              "    }\n",
              "\n",
              "    .dataframe tbody tr th {\n",
              "        vertical-align: top;\n",
              "    }\n",
              "\n",
              "    .dataframe thead th {\n",
              "        text-align: right;\n",
              "    }\n",
              "</style>\n",
              "<table border=\"1\" class=\"dataframe\">\n",
              "  <thead>\n",
              "    <tr style=\"text-align: right;\">\n",
              "      <th></th>\n",
              "      <th>count</th>\n",
              "    </tr>\n",
              "    <tr>\n",
              "      <th>Reason</th>\n",
              "      <th></th>\n",
              "    </tr>\n",
              "  </thead>\n",
              "  <tbody>\n",
              "    <tr>\n",
              "      <th>same</th>\n",
              "      <td>2318</td>\n",
              "    </tr>\n",
              "    <tr>\n",
              "      <th>Same</th>\n",
              "      <td>1314</td>\n",
              "    </tr>\n",
              "    <tr>\n",
              "      <th>Bike Slipped</th>\n",
              "      <td>1223</td>\n",
              "    </tr>\n",
              "    <tr>\n",
              "      <th>Same</th>\n",
              "      <td>1012</td>\n",
              "    </tr>\n",
              "    <tr>\n",
              "      <th>Bike Slip</th>\n",
              "      <td>957</td>\n",
              "    </tr>\n",
              "    <tr>\n",
              "      <th>...</th>\n",
              "      <td>...</td>\n",
              "    </tr>\n",
              "    <tr>\n",
              "      <th>Car(FD-178 Honda Swift) Hitted the pedestrian due to over speed</th>\n",
              "      <td>1</td>\n",
              "    </tr>\n",
              "    <tr>\n",
              "      <th>Female motor bike pa jta hoa bike slipped hony ki wajhy sy garr gei(Rin 9043)</th>\n",
              "      <td>1</td>\n",
              "    </tr>\n",
              "    <tr>\n",
              "      <th>Car hit another car (MRAG 734) (u4156)</th>\n",
              "      <td>1</td>\n",
              "    </tr>\n",
              "    <tr>\n",
              "      <th>Unknown van hit the bike (APF-22 US 70cc) and runaway</th>\n",
              "      <td>1</td>\n",
              "    </tr>\n",
              "    <tr>\n",
              "      <th>Both car hited eachother overspeed</th>\n",
              "      <td>1</td>\n",
              "    </tr>\n",
              "  </tbody>\n",
              "</table>\n",
              "<p>23940 rows × 1 columns</p>\n",
              "</div><br><label><b>dtype:</b> int64</label>"
            ]
          },
          "metadata": {},
          "execution_count": 4159
        }
      ]
    },
    {
      "cell_type": "markdown",
      "source": [
        "###Fill 'Same' data with forward fill"
      ],
      "metadata": {
        "id": "BDVzr6FxuOxh"
      }
    },
    {
      "cell_type": "code",
      "source": [
        "df['Reason'] = df['Reason'].replace(['Same', 'same','Same ','.'], pd.NA)\n",
        "\n",
        "# Forward fill the NaN values with the value from the previous row\n",
        "df['Reason'] = df['Reason'].fillna(method='ffill')\n",
        "\n",
        "df['Reason'].value_counts()"
      ],
      "metadata": {
        "id": "-LS74FiUqJ5R",
        "colab": {
          "base_uri": "https://localhost:8080/",
          "height": 544
        },
        "outputId": "8b54f01e-4213-4829-dc11-63144fd00230"
      },
      "execution_count": 4160,
      "outputs": [
        {
          "output_type": "stream",
          "name": "stderr",
          "text": [
            "<ipython-input-4160-a33a3e5d415d>:4: FutureWarning: Series.fillna with 'method' is deprecated and will raise in a future version. Use obj.ffill() or obj.bfill() instead.\n",
            "  df['Reason'] = df['Reason'].fillna(method='ffill')\n"
          ]
        },
        {
          "output_type": "execute_result",
          "data": {
            "text/plain": [
              "Reason\n",
              "Bike Slipped                                                                             1330\n",
              "Bike Slip                                                                                1039\n",
              "Bike slipped                                                                             1018\n",
              "bike slipped                                                                              522\n",
              "Bike hit the Pedestrian and Runaway                                                       409\n",
              "                                                                                         ... \n",
              " Bike slipped due to over speed (RIK 3505)Honda CD 70                                       1\n",
              " Bike slip due to over speed (RIO # 5990)                                                   1\n",
              " Motor Bike no RIK-9123 super power hit the pedistarian bike Wala moka py moujoud tha       1\n",
              "Car hit the bike(Rik746) and ranaway                                                        1\n",
              " Both car hited eachother overspeed                                                         1\n",
              "Name: count, Length: 23936, dtype: int64"
            ],
            "text/html": [
              "<div>\n",
              "<style scoped>\n",
              "    .dataframe tbody tr th:only-of-type {\n",
              "        vertical-align: middle;\n",
              "    }\n",
              "\n",
              "    .dataframe tbody tr th {\n",
              "        vertical-align: top;\n",
              "    }\n",
              "\n",
              "    .dataframe thead th {\n",
              "        text-align: right;\n",
              "    }\n",
              "</style>\n",
              "<table border=\"1\" class=\"dataframe\">\n",
              "  <thead>\n",
              "    <tr style=\"text-align: right;\">\n",
              "      <th></th>\n",
              "      <th>count</th>\n",
              "    </tr>\n",
              "    <tr>\n",
              "      <th>Reason</th>\n",
              "      <th></th>\n",
              "    </tr>\n",
              "  </thead>\n",
              "  <tbody>\n",
              "    <tr>\n",
              "      <th>Bike Slipped</th>\n",
              "      <td>1330</td>\n",
              "    </tr>\n",
              "    <tr>\n",
              "      <th>Bike Slip</th>\n",
              "      <td>1039</td>\n",
              "    </tr>\n",
              "    <tr>\n",
              "      <th>Bike slipped</th>\n",
              "      <td>1018</td>\n",
              "    </tr>\n",
              "    <tr>\n",
              "      <th>bike slipped</th>\n",
              "      <td>522</td>\n",
              "    </tr>\n",
              "    <tr>\n",
              "      <th>Bike hit the Pedestrian and Runaway</th>\n",
              "      <td>409</td>\n",
              "    </tr>\n",
              "    <tr>\n",
              "      <th>...</th>\n",
              "      <td>...</td>\n",
              "    </tr>\n",
              "    <tr>\n",
              "      <th>Bike slipped due to over speed (RIK 3505)Honda CD 70</th>\n",
              "      <td>1</td>\n",
              "    </tr>\n",
              "    <tr>\n",
              "      <th>Bike slip due to over speed (RIO # 5990)</th>\n",
              "      <td>1</td>\n",
              "    </tr>\n",
              "    <tr>\n",
              "      <th>Motor Bike no RIK-9123 super power hit the pedistarian bike Wala moka py moujoud tha</th>\n",
              "      <td>1</td>\n",
              "    </tr>\n",
              "    <tr>\n",
              "      <th>Car hit the bike(Rik746) and ranaway</th>\n",
              "      <td>1</td>\n",
              "    </tr>\n",
              "    <tr>\n",
              "      <th>Both car hited eachother overspeed</th>\n",
              "      <td>1</td>\n",
              "    </tr>\n",
              "  </tbody>\n",
              "</table>\n",
              "<p>23936 rows × 1 columns</p>\n",
              "</div><br><label><b>dtype:</b> int64</label>"
            ]
          },
          "metadata": {},
          "execution_count": 4160
        }
      ]
    },
    {
      "cell_type": "markdown",
      "source": [
        "###Reason Encoding"
      ],
      "metadata": {
        "id": "dnXK733xuaX9"
      }
    },
    {
      "cell_type": "code",
      "source": [
        "encoder = LabelEncoder()\n",
        "df['Reason'] = encoder.fit_transform(df['Reason'])\n",
        "df.info()"
      ],
      "metadata": {
        "id": "MoP0ehcc7Ktc",
        "colab": {
          "base_uri": "https://localhost:8080/"
        },
        "outputId": "a7e8ec8e-07d8-4e18-9d7c-417fb1eb67a3"
      },
      "execution_count": 4161,
      "outputs": [
        {
          "output_type": "stream",
          "name": "stdout",
          "text": [
            "<class 'pandas.core.frame.DataFrame'>\n",
            "Index: 46161 entries, 0 to 46188\n",
            "Data columns (total 21 columns):\n",
            " #   Column                    Non-Null Count  Dtype  \n",
            "---  ------                    --------------  -----  \n",
            " 0   EmergencyArea             46161 non-null  int64  \n",
            " 1   TotalPatientsInEmergency  46161 non-null  object \n",
            " 2   Gender                    46161 non-null  object \n",
            " 3   Age                       46161 non-null  float64\n",
            " 4   Reason                    46161 non-null  int64  \n",
            " 5   responsetime              46161 non-null  float64\n",
            " 6   EducationTitle            46161 non-null  float64\n",
            " 7   InjuryType                46161 non-null  float64\n",
            " 8   Cause                     46161 non-null  int64  \n",
            " 9   PatientStatus             46161 non-null  float64\n",
            " 10  BicycleInvovled           46161 non-null  float64\n",
            " 11  BikesInvolved             46161 non-null  float64\n",
            " 12  BusesInvolved             46161 non-null  float64\n",
            " 13  CarsInvolved              46161 non-null  float64\n",
            " 14  CartInvovled              46161 non-null  float64\n",
            " 15  RickshawsInvolved         46161 non-null  float64\n",
            " 16  TractorInvovled           46161 non-null  float64\n",
            " 17  TrainsInvovled            46161 non-null  float64\n",
            " 18  TrucksInvolved            46161 non-null  float64\n",
            " 19  VansInvolved              46161 non-null  float64\n",
            " 20  OthersInvolved            46161 non-null  float64\n",
            "dtypes: float64(16), int64(3), object(2)\n",
            "memory usage: 7.7+ MB\n"
          ]
        }
      ]
    },
    {
      "cell_type": "code",
      "source": [
        "df['Reason'].value_counts()"
      ],
      "metadata": {
        "id": "_cXMBmJOukJ7",
        "colab": {
          "base_uri": "https://localhost:8080/",
          "height": 490
        },
        "outputId": "3f9443eb-6a4a-4bb5-8c2a-08d038b15976"
      },
      "execution_count": 4162,
      "outputs": [
        {
          "output_type": "execute_result",
          "data": {
            "text/plain": [
              "Reason\n",
              "11875    1330\n",
              "11684    1039\n",
              "14363    1018\n",
              "22920     522\n",
              "13088     409\n",
              "         ... \n",
              "4333        1\n",
              "3999        1\n",
              "6454        1\n",
              "15984       1\n",
              "5089        1\n",
              "Name: count, Length: 23936, dtype: int64"
            ],
            "text/html": [
              "<div>\n",
              "<style scoped>\n",
              "    .dataframe tbody tr th:only-of-type {\n",
              "        vertical-align: middle;\n",
              "    }\n",
              "\n",
              "    .dataframe tbody tr th {\n",
              "        vertical-align: top;\n",
              "    }\n",
              "\n",
              "    .dataframe thead th {\n",
              "        text-align: right;\n",
              "    }\n",
              "</style>\n",
              "<table border=\"1\" class=\"dataframe\">\n",
              "  <thead>\n",
              "    <tr style=\"text-align: right;\">\n",
              "      <th></th>\n",
              "      <th>count</th>\n",
              "    </tr>\n",
              "    <tr>\n",
              "      <th>Reason</th>\n",
              "      <th></th>\n",
              "    </tr>\n",
              "  </thead>\n",
              "  <tbody>\n",
              "    <tr>\n",
              "      <th>11875</th>\n",
              "      <td>1330</td>\n",
              "    </tr>\n",
              "    <tr>\n",
              "      <th>11684</th>\n",
              "      <td>1039</td>\n",
              "    </tr>\n",
              "    <tr>\n",
              "      <th>14363</th>\n",
              "      <td>1018</td>\n",
              "    </tr>\n",
              "    <tr>\n",
              "      <th>22920</th>\n",
              "      <td>522</td>\n",
              "    </tr>\n",
              "    <tr>\n",
              "      <th>13088</th>\n",
              "      <td>409</td>\n",
              "    </tr>\n",
              "    <tr>\n",
              "      <th>...</th>\n",
              "      <td>...</td>\n",
              "    </tr>\n",
              "    <tr>\n",
              "      <th>4333</th>\n",
              "      <td>1</td>\n",
              "    </tr>\n",
              "    <tr>\n",
              "      <th>3999</th>\n",
              "      <td>1</td>\n",
              "    </tr>\n",
              "    <tr>\n",
              "      <th>6454</th>\n",
              "      <td>1</td>\n",
              "    </tr>\n",
              "    <tr>\n",
              "      <th>15984</th>\n",
              "      <td>1</td>\n",
              "    </tr>\n",
              "    <tr>\n",
              "      <th>5089</th>\n",
              "      <td>1</td>\n",
              "    </tr>\n",
              "  </tbody>\n",
              "</table>\n",
              "<p>23936 rows × 1 columns</p>\n",
              "</div><br><label><b>dtype:</b> int64</label>"
            ]
          },
          "metadata": {},
          "execution_count": 4162
        }
      ]
    },
    {
      "cell_type": "markdown",
      "source": [
        "###Reason Visualization Box plot"
      ],
      "metadata": {
        "id": "DVaYiFXz43tg"
      }
    },
    {
      "cell_type": "code",
      "source": [
        "plt.figure(figsize=(10, 6))\n",
        "sns.boxplot(x=df['Reason'])\n",
        "\n",
        "plt.show()"
      ],
      "metadata": {
        "id": "jEXGCd8s9EWf",
        "colab": {
          "base_uri": "https://localhost:8080/",
          "height": 542
        },
        "outputId": "08ef7121-42c3-42a1-eb56-4af4b30239d2"
      },
      "execution_count": 4163,
      "outputs": [
        {
          "output_type": "display_data",
          "data": {
            "text/plain": [
              "<Figure size 1000x600 with 1 Axes>"
            ],
            "image/png": "[encoded data removed]"
          },
          "metadata": {}
        }
      ]
    },
    {
      "cell_type": "markdown",
      "source": [
        " The median value, represented by the line inside the box, is approximately 15,000. This suggests that the middle 50% of the data points fall within the range of 10,000 to 20,000.\n",
        "\n",
        "There are no visible outliers, as there are no data points outside of the whiskers.\n"
      ],
      "metadata": {
        "id": "pWsDpjkm5Vzv"
      }
    },
    {
      "cell_type": "markdown",
      "source": [
        "###Reason Visualization Histogram\n"
      ],
      "metadata": {
        "id": "V2GqBEqS68Ol"
      }
    },
    {
      "cell_type": "code",
      "source": [
        "df['Reason'].plot(kind='hist', color=[ 'red'])\n",
        "plt.show()"
      ],
      "metadata": {
        "colab": {
          "base_uri": "https://localhost:8080/",
          "height": 430
        },
        "id": "OQD5BqT6ktol",
        "outputId": "64442013-1dba-4518-d2cd-2548f411cd85"
      },
      "execution_count": 4164,
      "outputs": [
        {
          "output_type": "display_data",
          "data": {
            "text/plain": [
              "<Figure size 640x480 with 1 Axes>"
            ],
            "image/png": "[encoded data removed]"
          },
          "metadata": {}
        }
      ]
    },
    {
      "cell_type": "markdown",
      "source": [
        "The histogram shows a skewed distribution, with a peak around the values 10,000 to 15,000 and a longer tail extending towards higher values.\n",
        "\n",
        "The range of values appears to be from approximately 0 to 25,000.\n"
      ],
      "metadata": {
        "id": "LG-QYerQgN29"
      }
    },
    {
      "cell_type": "markdown",
      "source": [
        "##One Hot Encoding"
      ],
      "metadata": {
        "id": "8Deo6MiaKmsV"
      }
    },
    {
      "cell_type": "markdown",
      "source": [
        "###Info Gender Encoding\n",
        "\n",
        "```\n",
        "We utilize one-hot encoding for Gender and Injury Type due to the lack of a coherent ordinal relationship\n",
        "among their values. This technique allows us to represent categorical variables as binary vectors, ensuring that\n",
        "each category is treated independently.\n",
        "\n",
        "```\n",
        "\n"
      ],
      "metadata": {
        "id": "oKdZT5lDuAgM"
      }
    },
    {
      "cell_type": "code",
      "source": [
        "df['Gender'].value_counts()\n",
        "\n"
      ],
      "metadata": {
        "colab": {
          "base_uri": "https://localhost:8080/",
          "height": 241
        },
        "id": "AjtE0nQrjuiu",
        "outputId": "16ecabfa-72f3-4a17-8e6b-64676912aa23"
      },
      "execution_count": 4165,
      "outputs": [
        {
          "output_type": "execute_result",
          "data": {
            "text/plain": [
              "Gender\n",
              "Male      39770\n",
              "Female     6389\n",
              "Other         1\n",
              "0             1\n",
              "Name: count, dtype: int64"
            ],
            "text/html": [
              "<div>\n",
              "<style scoped>\n",
              "    .dataframe tbody tr th:only-of-type {\n",
              "        vertical-align: middle;\n",
              "    }\n",
              "\n",
              "    .dataframe tbody tr th {\n",
              "        vertical-align: top;\n",
              "    }\n",
              "\n",
              "    .dataframe thead th {\n",
              "        text-align: right;\n",
              "    }\n",
              "</style>\n",
              "<table border=\"1\" class=\"dataframe\">\n",
              "  <thead>\n",
              "    <tr style=\"text-align: right;\">\n",
              "      <th></th>\n",
              "      <th>count</th>\n",
              "    </tr>\n",
              "    <tr>\n",
              "      <th>Gender</th>\n",
              "      <th></th>\n",
              "    </tr>\n",
              "  </thead>\n",
              "  <tbody>\n",
              "    <tr>\n",
              "      <th>Male</th>\n",
              "      <td>39770</td>\n",
              "    </tr>\n",
              "    <tr>\n",
              "      <th>Female</th>\n",
              "      <td>6389</td>\n",
              "    </tr>\n",
              "    <tr>\n",
              "      <th>Other</th>\n",
              "      <td>1</td>\n",
              "    </tr>\n",
              "    <tr>\n",
              "      <th>0</th>\n",
              "      <td>1</td>\n",
              "    </tr>\n",
              "  </tbody>\n",
              "</table>\n",
              "</div><br><label><b>dtype:</b> int64</label>"
            ]
          },
          "metadata": {},
          "execution_count": 4165
        }
      ]
    },
    {
      "cell_type": "code",
      "source": [
        "#print the '0' column whole row from gender\n",
        "df[df['Gender'] == '0']\n",
        "\n"
      ],
      "metadata": {
        "colab": {
          "base_uri": "https://localhost:8080/",
          "height": 130
        },
        "id": "SJMCIvDVHt9g",
        "outputId": "dc748769-ad72-4a4e-cb99-12b84b462250"
      },
      "execution_count": 4166,
      "outputs": [
        {
          "output_type": "execute_result",
          "data": {
            "text/plain": [
              "       EmergencyArea TotalPatientsInEmergency Gender  Age  Reason  \\\n",
              "31356          34003         Alive & unstable      0  0.0    9354   \n",
              "\n",
              "       responsetime  EducationTitle  InjuryType  Cause  PatientStatus  ...  \\\n",
              "31356           1.0             0.0         1.0      0            0.0  ...   \n",
              "\n",
              "       BikesInvolved  BusesInvolved  CarsInvolved  CartInvovled  \\\n",
              "31356            0.0            0.0           0.0           0.0   \n",
              "\n",
              "       RickshawsInvolved  TractorInvovled  TrainsInvovled  TrucksInvolved  \\\n",
              "31356                1.0              0.0             0.0             0.0   \n",
              "\n",
              "       VansInvolved  OthersInvolved  \n",
              "31356           0.0             0.0  \n",
              "\n",
              "[1 rows x 21 columns]"
            ],
            "text/html": [
              "\n",
              "  <div id=\"df-7aac7e25-c0b3-4e7b-9d7e-51476889bc56\" class=\"colab-df-container\">\n",
              "    <div>\n",
              "<style scoped>\n",
              "    .dataframe tbody tr th:only-of-type {\n",
              "        vertical-align: middle;\n",
              "    }\n",
              "\n",
              "    .dataframe tbody tr th {\n",
              "        vertical-align: top;\n",
              "    }\n",
              "\n",
              "    .dataframe thead th {\n",
              "        text-align: right;\n",
              "    }\n",
              "</style>\n",
              "<table border=\"1\" class=\"dataframe\">\n",
              "  <thead>\n",
              "    <tr style=\"text-align: right;\">\n",
              "      <th></th>\n",
              "      <th>EmergencyArea</th>\n",
              "      <th>TotalPatientsInEmergency</th>\n",
              "      <th>Gender</th>\n",
              "      <th>Age</th>\n",
              "      <th>Reason</th>\n",
              "      <th>responsetime</th>\n",
              "      <th>EducationTitle</th>\n",
              "      <th>InjuryType</th>\n",
              "      <th>Cause</th>\n",
              "      <th>PatientStatus</th>\n",
              "      <th>...</th>\n",
              "      <th>BikesInvolved</th>\n",
              "      <th>BusesInvolved</th>\n",
              "      <th>CarsInvolved</th>\n",
              "      <th>CartInvovled</th>\n",
              "      <th>RickshawsInvolved</th>\n",
              "      <th>TractorInvovled</th>\n",
              "      <th>TrainsInvovled</th>\n",
              "      <th>TrucksInvolved</th>\n",
              "      <th>VansInvolved</th>\n",
              "      <th>OthersInvolved</th>\n",
              "    </tr>\n",
              "  </thead>\n",
              "  <tbody>\n",
              "    <tr>\n",
              "      <th>31356</th>\n",
              "      <td>34003</td>\n",
              "      <td>Alive &amp; unstable</td>\n",
              "      <td>0</td>\n",
              "      <td>0.0</td>\n",
              "      <td>9354</td>\n",
              "      <td>1.0</td>\n",
              "      <td>0.0</td>\n",
              "      <td>1.0</td>\n",
              "      <td>0</td>\n",
              "      <td>0.0</td>\n",
              "      <td>...</td>\n",
              "      <td>0.0</td>\n",
              "      <td>0.0</td>\n",
              "      <td>0.0</td>\n",
              "      <td>0.0</td>\n",
              "      <td>1.0</td>\n",
              "      <td>0.0</td>\n",
              "      <td>0.0</td>\n",
              "      <td>0.0</td>\n",
              "      <td>0.0</td>\n",
              "      <td>0.0</td>\n",
              "    </tr>\n",
              "  </tbody>\n",
              "</table>\n",
              "<p>1 rows × 21 columns</p>\n",
              "</div>\n",
              "    <div class=\"colab-df-buttons\">\n",
              "\n",
              "  <div class=\"colab-df-container\">\n",
              "    <button class=\"colab-df-convert\" onclick=\"convertToInteractive('df-7aac7e25-c0b3-4e7b-9d7e-51476889bc56')\"\n",
              "            title=\"Convert this dataframe to an interactive table.\"\n",
              "            style=\"display:none;\">\n",
              "\n",
              "  <svg xmlns=\"http://www.w3.org/2000/svg\" height=\"24px\" viewBox=\"0 -960 960 960\">\n",
              "    <path d=\"M120-120v-720h720v720H120Zm60-500h600v-160H180v160Zm220 220h160v-160H400v160Zm0 220h160v-160H400v160ZM180-400h160v-160H180v160Zm440 0h160v-160H620v160ZM180-180h160v-160H180v160Zm440 0h160v-160H620v160Z\"/>\n",
              "  </svg>\n",
              "    </button>\n",
              "\n",
              "  <style>\n",
              "    .colab-df-container {\n",
              "      display:flex;\n",
              "      gap: 12px;\n",
              "    }\n",
              "\n",
              "    .colab-df-convert {\n",
              "      background-color: #E8F0FE;\n",
              "      border: none;\n",
              "      border-radius: 50%;\n",
              "      cursor: pointer;\n",
              "      display: none;\n",
              "      fill: #1967D2;\n",
              "      height: 32px;\n",
              "      padding: 0 0 0 0;\n",
              "      width: 32px;\n",
              "    }\n",
              "\n",
              "    .colab-df-convert:hover {\n",
              "      background-color: #E2EBFA;\n",
              "      box-shadow: 0px 1px 2px rgba(60, 64, 67, 0.3), 0px 1px 3px 1px rgba(60, 64, 67, 0.15);\n",
              "      fill: #174EA6;\n",
              "    }\n",
              "\n",
              "    .colab-df-buttons div {\n",
              "      margin-bottom: 4px;\n",
              "    }\n",
              "\n",
              "    [theme=dark] .colab-df-convert {\n",
              "      background-color: #3B4455;\n",
              "      fill: #D2E3FC;\n",
              "    }\n",
              "\n",
              "    [theme=dark] .colab-df-convert:hover {\n",
              "      background-color: #434B5C;\n",
              "      box-shadow: 0px 1px 3px 1px rgba(0, 0, 0, 0.15);\n",
              "      filter: drop-shadow(0px 1px 2px rgba(0, 0, 0, 0.3));\n",
              "      fill: #FFFFFF;\n",
              "    }\n",
              "  </style>\n",
              "\n",
              "    <script>\n",
              "      const buttonEl =\n",
              "        document.querySelector('#df-7aac7e25-c0b3-4e7b-9d7e-51476889bc56 button.colab-df-convert');\n",
              "      buttonEl.style.display =\n",
              "        google.colab.kernel.accessAllowed ? 'block' : 'none';\n",
              "\n",
              "      async function convertToInteractive(key) {\n",
              "        const element = document.querySelector('#df-7aac7e25-c0b3-4e7b-9d7e-51476889bc56');\n",
              "        const dataTable =\n",
              "          await google.colab.kernel.invokeFunction('convertToInteractive',\n",
              "                                                    [key], {});\n",
              "        if (!dataTable) return;\n",
              "\n",
              "        const docLinkHtml = 'Like what you see? Visit the ' +\n",
              "          '<a target=\"_blank\" href=https://colab.research.google.com/notebooks/data_table.ipynb>data table notebook</a>'\n",
              "          + ' to learn more about interactive tables.';\n",
              "        element.innerHTML = '';\n",
              "        dataTable['output_type'] = 'display_data';\n",
              "        await google.colab.output.renderOutput(dataTable, element);\n",
              "        const docLink = document.createElement('div');\n",
              "        docLink.innerHTML = docLinkHtml;\n",
              "        element.appendChild(docLink);\n",
              "      }\n",
              "    </script>\n",
              "  </div>\n",
              "\n",
              "\n",
              "    </div>\n",
              "  </div>\n"
            ],
            "application/vnd.google.colaboratory.intrinsic+json": {
              "type": "dataframe"
            }
          },
          "metadata": {},
          "execution_count": 4166
        }
      ]
    },
    {
      "cell_type": "markdown",
      "source": [
        "As the TotalPatientsInEmergency is not in perfect form same goes for Gender we can just delete this row"
      ],
      "metadata": {
        "id": "HbHozWYxI5bO"
      }
    },
    {
      "cell_type": "code",
      "source": [
        "#drop the row where Gender value is '0'\n",
        "df.drop(df[df['Gender'] == '0'].index, inplace=True)\n",
        "df['Gender'].value_counts()"
      ],
      "metadata": {
        "colab": {
          "base_uri": "https://localhost:8080/",
          "height": 210
        },
        "id": "V49XUnCPJGer",
        "outputId": "c421b3a6-ce32-4c3d-b2f7-7cc96194d007"
      },
      "execution_count": 4167,
      "outputs": [
        {
          "output_type": "execute_result",
          "data": {
            "text/plain": [
              "Gender\n",
              "Male      39770\n",
              "Female     6389\n",
              "Other         1\n",
              "Name: count, dtype: int64"
            ],
            "text/html": [
              "<div>\n",
              "<style scoped>\n",
              "    .dataframe tbody tr th:only-of-type {\n",
              "        vertical-align: middle;\n",
              "    }\n",
              "\n",
              "    .dataframe tbody tr th {\n",
              "        vertical-align: top;\n",
              "    }\n",
              "\n",
              "    .dataframe thead th {\n",
              "        text-align: right;\n",
              "    }\n",
              "</style>\n",
              "<table border=\"1\" class=\"dataframe\">\n",
              "  <thead>\n",
              "    <tr style=\"text-align: right;\">\n",
              "      <th></th>\n",
              "      <th>count</th>\n",
              "    </tr>\n",
              "    <tr>\n",
              "      <th>Gender</th>\n",
              "      <th></th>\n",
              "    </tr>\n",
              "  </thead>\n",
              "  <tbody>\n",
              "    <tr>\n",
              "      <th>Male</th>\n",
              "      <td>39770</td>\n",
              "    </tr>\n",
              "    <tr>\n",
              "      <th>Female</th>\n",
              "      <td>6389</td>\n",
              "    </tr>\n",
              "    <tr>\n",
              "      <th>Other</th>\n",
              "      <td>1</td>\n",
              "    </tr>\n",
              "  </tbody>\n",
              "</table>\n",
              "</div><br><label><b>dtype:</b> int64</label>"
            ]
          },
          "metadata": {},
          "execution_count": 4167
        }
      ]
    },
    {
      "cell_type": "markdown",
      "source": [
        "###Gender Visualization Pie chart\n"
      ],
      "metadata": {
        "id": "bPXpErCEvQ9a"
      }
    },
    {
      "cell_type": "code",
      "source": [
        "df['Gender'].value_counts().plot(kind='pie', colors=['orange', 'blue','purple'])\n",
        "plt.show()"
      ],
      "metadata": {
        "colab": {
          "base_uri": "https://localhost:8080/",
          "height": 406
        },
        "id": "kJSiYMo_vXgl",
        "outputId": "a7575af5-b30c-4c73-c952-dcca8947fab1"
      },
      "execution_count": 4168,
      "outputs": [
        {
          "output_type": "display_data",
          "data": {
            "text/plain": [
              "<Figure size 640x480 with 1 Axes>"
            ],
            "image/png": "[encoded data removed]"
          },
          "metadata": {}
        }
      ]
    },
    {
      "cell_type": "markdown",
      "source": [
        "###Gender Visualization Bar chart\n"
      ],
      "metadata": {
        "id": "ZIGGZVcnvlud"
      }
    },
    {
      "cell_type": "code",
      "source": [
        "df['Gender'].value_counts().plot(kind='bar', color=['red', 'orange','purple'])\n",
        "plt.show()"
      ],
      "metadata": {
        "colab": {
          "base_uri": "https://localhost:8080/",
          "height": 486
        },
        "id": "bmu_eazYvopx",
        "outputId": "38ac5f2a-3bd0-43f1-8976-548b8f391ba2"
      },
      "execution_count": 4169,
      "outputs": [
        {
          "output_type": "display_data",
          "data": {
            "text/plain": [
              "<Figure size 640x480 with 1 Axes>"
            ],
            "image/png": "[encoded data removed]"
          },
          "metadata": {}
        }
      ]
    },
    {
      "cell_type": "markdown",
      "source": [
        "###Gender One Hot Encode"
      ],
      "metadata": {
        "id": "H56HD7lSwRx1"
      }
    },
    {
      "cell_type": "code",
      "source": [
        "#convert gender into one-hot encoding\n",
        "df = pd.get_dummies(df, columns=['Gender'])\n",
        "df.info()"
      ],
      "metadata": {
        "colab": {
          "base_uri": "https://localhost:8080/"
        },
        "id": "ZpNGfGeAuRHL",
        "outputId": "90b4b641-5462-445a-8c6e-187049c04195"
      },
      "execution_count": 4170,
      "outputs": [
        {
          "output_type": "stream",
          "name": "stdout",
          "text": [
            "<class 'pandas.core.frame.DataFrame'>\n",
            "Index: 46160 entries, 0 to 46188\n",
            "Data columns (total 23 columns):\n",
            " #   Column                    Non-Null Count  Dtype  \n",
            "---  ------                    --------------  -----  \n",
            " 0   EmergencyArea             46160 non-null  int64  \n",
            " 1   TotalPatientsInEmergency  46160 non-null  object \n",
            " 2   Age                       46160 non-null  float64\n",
            " 3   Reason                    46160 non-null  int64  \n",
            " 4   responsetime              46160 non-null  float64\n",
            " 5   EducationTitle            46160 non-null  float64\n",
            " 6   InjuryType                46160 non-null  float64\n",
            " 7   Cause                     46160 non-null  int64  \n",
            " 8   PatientStatus             46160 non-null  float64\n",
            " 9   BicycleInvovled           46160 non-null  float64\n",
            " 10  BikesInvolved             46160 non-null  float64\n",
            " 11  BusesInvolved             46160 non-null  float64\n",
            " 12  CarsInvolved              46160 non-null  float64\n",
            " 13  CartInvovled              46160 non-null  float64\n",
            " 14  RickshawsInvolved         46160 non-null  float64\n",
            " 15  TractorInvovled           46160 non-null  float64\n",
            " 16  TrainsInvovled            46160 non-null  float64\n",
            " 17  TrucksInvolved            46160 non-null  float64\n",
            " 18  VansInvolved              46160 non-null  float64\n",
            " 19  OthersInvolved            46160 non-null  float64\n",
            " 20  Gender_Female             46160 non-null  bool   \n",
            " 21  Gender_Male               46160 non-null  bool   \n",
            " 22  Gender_Other              46160 non-null  bool   \n",
            "dtypes: bool(3), float64(16), int64(3), object(1)\n",
            "memory usage: 7.5+ MB\n"
          ]
        }
      ]
    },
    {
      "cell_type": "markdown",
      "source": [
        "##Convert TotalPatientsInEmergency into numerical"
      ],
      "metadata": {
        "id": "fmKd3rNgGdrV"
      }
    },
    {
      "cell_type": "code",
      "source": [
        "df['TotalPatientsInEmergency'].value_counts()"
      ],
      "metadata": {
        "colab": {
          "base_uri": "https://localhost:8080/",
          "height": 837
        },
        "id": "G2b45BRxGxsl",
        "outputId": "19379c3b-d32d-47e5-bbb0-a7d667724aa9"
      },
      "execution_count": 4171,
      "outputs": [
        {
          "output_type": "execute_result",
          "data": {
            "text/plain": [
              "TotalPatientsInEmergency\n",
              "1     25684\n",
              "1     10467\n",
              "2      5177\n",
              "2      2136\n",
              "3      1119\n",
              "3       448\n",
              "4       361\n",
              "5       185\n",
              "4       117\n",
              "6        89\n",
              "5        70\n",
              "7        49\n",
              "7        49\n",
              "6        42\n",
              "8        39\n",
              "9        27\n",
              "11       22\n",
              "9        18\n",
              "8        16\n",
              "15       14\n",
              "11       11\n",
              "10       10\n",
              "10       10\n",
              "Name: count, dtype: int64"
            ],
            "text/html": [
              "<div>\n",
              "<style scoped>\n",
              "    .dataframe tbody tr th:only-of-type {\n",
              "        vertical-align: middle;\n",
              "    }\n",
              "\n",
              "    .dataframe tbody tr th {\n",
              "        vertical-align: top;\n",
              "    }\n",
              "\n",
              "    .dataframe thead th {\n",
              "        text-align: right;\n",
              "    }\n",
              "</style>\n",
              "<table border=\"1\" class=\"dataframe\">\n",
              "  <thead>\n",
              "    <tr style=\"text-align: right;\">\n",
              "      <th></th>\n",
              "      <th>count</th>\n",
              "    </tr>\n",
              "    <tr>\n",
              "      <th>TotalPatientsInEmergency</th>\n",
              "      <th></th>\n",
              "    </tr>\n",
              "  </thead>\n",
              "  <tbody>\n",
              "    <tr>\n",
              "      <th>1</th>\n",
              "      <td>25684</td>\n",
              "    </tr>\n",
              "    <tr>\n",
              "      <th>1</th>\n",
              "      <td>10467</td>\n",
              "    </tr>\n",
              "    <tr>\n",
              "      <th>2</th>\n",
              "      <td>5177</td>\n",
              "    </tr>\n",
              "    <tr>\n",
              "      <th>2</th>\n",
              "      <td>2136</td>\n",
              "    </tr>\n",
              "    <tr>\n",
              "      <th>3</th>\n",
              "      <td>1119</td>\n",
              "    </tr>\n",
              "    <tr>\n",
              "      <th>3</th>\n",
              "      <td>448</td>\n",
              "    </tr>\n",
              "    <tr>\n",
              "      <th>4</th>\n",
              "      <td>361</td>\n",
              "    </tr>\n",
              "    <tr>\n",
              "      <th>5</th>\n",
              "      <td>185</td>\n",
              "    </tr>\n",
              "    <tr>\n",
              "      <th>4</th>\n",
              "      <td>117</td>\n",
              "    </tr>\n",
              "    <tr>\n",
              "      <th>6</th>\n",
              "      <td>89</td>\n",
              "    </tr>\n",
              "    <tr>\n",
              "      <th>5</th>\n",
              "      <td>70</td>\n",
              "    </tr>\n",
              "    <tr>\n",
              "      <th>7</th>\n",
              "      <td>49</td>\n",
              "    </tr>\n",
              "    <tr>\n",
              "      <th>7</th>\n",
              "      <td>49</td>\n",
              "    </tr>\n",
              "    <tr>\n",
              "      <th>6</th>\n",
              "      <td>42</td>\n",
              "    </tr>\n",
              "    <tr>\n",
              "      <th>8</th>\n",
              "      <td>39</td>\n",
              "    </tr>\n",
              "    <tr>\n",
              "      <th>9</th>\n",
              "      <td>27</td>\n",
              "    </tr>\n",
              "    <tr>\n",
              "      <th>11</th>\n",
              "      <td>22</td>\n",
              "    </tr>\n",
              "    <tr>\n",
              "      <th>9</th>\n",
              "      <td>18</td>\n",
              "    </tr>\n",
              "    <tr>\n",
              "      <th>8</th>\n",
              "      <td>16</td>\n",
              "    </tr>\n",
              "    <tr>\n",
              "      <th>15</th>\n",
              "      <td>14</td>\n",
              "    </tr>\n",
              "    <tr>\n",
              "      <th>11</th>\n",
              "      <td>11</td>\n",
              "    </tr>\n",
              "    <tr>\n",
              "      <th>10</th>\n",
              "      <td>10</td>\n",
              "    </tr>\n",
              "    <tr>\n",
              "      <th>10</th>\n",
              "      <td>10</td>\n",
              "    </tr>\n",
              "  </tbody>\n",
              "</table>\n",
              "</div><br><label><b>dtype:</b> int64</label>"
            ]
          },
          "metadata": {},
          "execution_count": 4171
        }
      ]
    },
    {
      "cell_type": "code",
      "source": [
        "df['TotalPatientsInEmergency'] = df['TotalPatientsInEmergency'].astype(float)\n",
        "df.info()\n"
      ],
      "metadata": {
        "colab": {
          "base_uri": "https://localhost:8080/"
        },
        "id": "4QL4J35CLPqA",
        "outputId": "bf6466dc-0ec3-4d6c-c706-9a309d410034"
      },
      "execution_count": 4172,
      "outputs": [
        {
          "output_type": "stream",
          "name": "stdout",
          "text": [
            "<class 'pandas.core.frame.DataFrame'>\n",
            "Index: 46160 entries, 0 to 46188\n",
            "Data columns (total 23 columns):\n",
            " #   Column                    Non-Null Count  Dtype  \n",
            "---  ------                    --------------  -----  \n",
            " 0   EmergencyArea             46160 non-null  int64  \n",
            " 1   TotalPatientsInEmergency  46160 non-null  float64\n",
            " 2   Age                       46160 non-null  float64\n",
            " 3   Reason                    46160 non-null  int64  \n",
            " 4   responsetime              46160 non-null  float64\n",
            " 5   EducationTitle            46160 non-null  float64\n",
            " 6   InjuryType                46160 non-null  float64\n",
            " 7   Cause                     46160 non-null  int64  \n",
            " 8   PatientStatus             46160 non-null  float64\n",
            " 9   BicycleInvovled           46160 non-null  float64\n",
            " 10  BikesInvolved             46160 non-null  float64\n",
            " 11  BusesInvolved             46160 non-null  float64\n",
            " 12  CarsInvolved              46160 non-null  float64\n",
            " 13  CartInvovled              46160 non-null  float64\n",
            " 14  RickshawsInvolved         46160 non-null  float64\n",
            " 15  TractorInvovled           46160 non-null  float64\n",
            " 16  TrainsInvovled            46160 non-null  float64\n",
            " 17  TrucksInvolved            46160 non-null  float64\n",
            " 18  VansInvolved              46160 non-null  float64\n",
            " 19  OthersInvolved            46160 non-null  float64\n",
            " 20  Gender_Female             46160 non-null  bool   \n",
            " 21  Gender_Male               46160 non-null  bool   \n",
            " 22  Gender_Other              46160 non-null  bool   \n",
            "dtypes: bool(3), float64(17), int64(3)\n",
            "memory usage: 7.5 MB\n"
          ]
        }
      ]
    },
    {
      "cell_type": "markdown",
      "source": [
        "###TotalPatientEmergency Visualization Histogram\n"
      ],
      "metadata": {
        "id": "BMp6OB94G60r"
      }
    },
    {
      "cell_type": "code",
      "source": [
        "plt.figure(figsize=(10, 6))\n",
        "plt.hist(df['TotalPatientsInEmergency'], bins=20, color='skyblue', edgecolor='black')\n",
        "\n",
        "# Title and labels\n",
        "plt.title('Distribution of Total Patients in Emergency', fontsize=16)\n",
        "plt.xlabel('Number of Patients', fontsize=12)\n",
        "plt.ylabel('Frequency', fontsize=12)\n",
        "\n",
        "# Optional: Add grid and adjust spines\n",
        "plt.grid(axis='y', alpha=0.75)\n",
        "plt.gca().spines[['top', 'right']].set_visible(False)\n",
        "\n",
        "# Show the plot\n",
        "plt.tight_layout()\n",
        "plt.show()"
      ],
      "metadata": {
        "colab": {
          "base_uri": "https://localhost:8080/",
          "height": 515
        },
        "id": "HwgETlBeG97X",
        "outputId": "4d42f20a-93ce-496c-bed4-be3790c9fe97"
      },
      "execution_count": 4173,
      "outputs": [
        {
          "output_type": "display_data",
          "data": {
            "text/plain": [
              "<Figure size 1000x600 with 1 Axes>"
            ],
            "image/png": "[encoded data removed]"
          },
          "metadata": {}
        }
      ]
    },
    {
      "cell_type": "markdown",
      "source": [
        " The distribution is heavily skewed to the right, with a long tail extending towards higher numbers of patients. This indicates that there are a few instances with a very large number of patients, which significantly impacts the overall distribution."
      ],
      "metadata": {
        "id": "G0OHz7gzOuXS"
      }
    },
    {
      "cell_type": "markdown",
      "source": [
        "#Split Into Train and Test Sets for InjuryType"
      ],
      "metadata": {
        "id": "at1dG47pxHRL"
      }
    },
    {
      "cell_type": "code",
      "source": [
        "#Define the feature columns exclude  the target columns\n",
        "feature_columns = df.columns.difference(df['InjuryType'])\n",
        "\n",
        "#Create feature X and target Y\n",
        "X = df[feature_columns]\n",
        "Y = df['InjuryType']\n",
        "\n",
        "#Perform train-test split (80% train, 20% test)\n",
        "X_train_InjuryType, X_test_InjuryType, y_train_InjuryType, y_test_InjuryType = train_test_split(X, Y, test_size=0.2, random_state=42)\n"
      ],
      "metadata": {
        "id": "5oyVYHH27lGb"
      },
      "execution_count": 4174,
      "outputs": []
    },
    {
      "cell_type": "code",
      "source": [
        "print(f\"X_train shape for InjuryType: {X_train_InjuryType.shape}\")\n",
        "print(f\"X_test shape for InjuryType: {X_test_InjuryType.shape}\")\n",
        "print(f\"Y_train shape for InjuryType: {y_train_InjuryType.shape}\")\n",
        "print(f\"Y_test shape for InjuryType: {y_test_InjuryType.shape}\")"
      ],
      "metadata": {
        "colab": {
          "base_uri": "https://localhost:8080/"
        },
        "id": "ZKHT6aW-9GYH",
        "outputId": "5bb9160c-9d53-4c32-c582-a3e7755b3398"
      },
      "execution_count": 4175,
      "outputs": [
        {
          "output_type": "stream",
          "name": "stdout",
          "text": [
            "X_train shape for InjuryType: (36928, 23)\n",
            "X_test shape for InjuryType: (9232, 23)\n",
            "Y_train shape for InjuryType: (36928,)\n",
            "Y_test shape for InjuryType: (9232,)\n"
          ]
        }
      ]
    },
    {
      "cell_type": "markdown",
      "source": [
        "#Split Into Train and Test Sets for PatientStatus"
      ],
      "metadata": {
        "id": "Ofafgf8-Gs-z"
      }
    },
    {
      "cell_type": "code",
      "source": [
        "feature_columns = df.columns.difference(df['PatientStatus'])\n",
        "\n",
        "X = df[feature_columns]\n",
        "Y = df['PatientStatus']\n",
        "\n",
        "X_train_PatientStatus, X_test_PatientStatus, y_train_PatientStatus, y_test_PatientStatus = train_test_split(X, Y, test_size=0.2, random_state=42)"
      ],
      "metadata": {
        "id": "pH9EfXujGvld"
      },
      "execution_count": 4176,
      "outputs": []
    },
    {
      "cell_type": "code",
      "source": [
        "print(f\"X_train shape for PatientStatus: {X_train_PatientStatus.shape}\")\n",
        "print(f\"X_test shape for PatientStatus: {X_test_PatientStatus.shape}\")\n",
        "print(f\"Y_train shape for PatientStatus: {y_train_PatientStatus.shape}\")\n",
        "print(f\"Y_test shape for PatientStatus: {y_test_PatientStatus.shape}\")"
      ],
      "metadata": {
        "colab": {
          "base_uri": "https://localhost:8080/"
        },
        "id": "cSsHjT9WHbVy",
        "outputId": "f16706ee-2187-4acf-a3ef-f916a6cf8718"
      },
      "execution_count": 4177,
      "outputs": [
        {
          "output_type": "stream",
          "name": "stdout",
          "text": [
            "X_train shape for PatientStatus: (36928, 23)\n",
            "X_test shape for PatientStatus: (9232, 23)\n",
            "Y_train shape for PatientStatus: (36928,)\n",
            "Y_test shape for PatientStatus: (9232,)\n"
          ]
        }
      ]
    },
    {
      "cell_type": "markdown",
      "source": [
        "#Feature Scaling for InjuryType"
      ],
      "metadata": {
        "id": "EZDq7k6xBTJ2"
      }
    },
    {
      "cell_type": "code",
      "source": [
        "normalizer = Normalizer(norm='max')\n",
        "\n",
        "\n",
        "X_train_normalized_InjuryType = normalizer.fit_transform(X_train_InjuryType)\n",
        "X_test_normalized_InjuryType = normalizer.transform(X_test_InjuryType)\n",
        "\n",
        "\n",
        "X_train_normalized_InjuryType = pd.DataFrame(X_train_normalized_InjuryType, columns=feature_columns)\n",
        "X_test_normalized_InjuryType = pd.DataFrame(X_test_normalized_InjuryType, columns=feature_columns)"
      ],
      "metadata": {
        "id": "wJwAPxnDBalM"
      },
      "execution_count": 4178,
      "outputs": []
    },
    {
      "cell_type": "markdown",
      "source": [
        "#Feature Scaling for PatientStatus"
      ],
      "metadata": {
        "id": "03WN9xDWAvYd"
      }
    },
    {
      "cell_type": "code",
      "source": [
        "normalizer = Normalizer(norm='max')\n",
        "\n",
        "\n",
        "X_train_normalized_PatientStatus = normalizer.fit_transform(X_train_PatientStatus)\n",
        "X_test_normalized_PatientStatus = normalizer.transform(X_test_PatientStatus)\n",
        "\n",
        "\n",
        "X_train_normalized_PatientStatus = pd.DataFrame(X_train_normalized_PatientStatus, columns=feature_columns)\n",
        "X_test_normalized_PatientStatus = pd.DataFrame(X_test_normalized_PatientStatus, columns=feature_columns)"
      ],
      "metadata": {
        "id": "urfnix67Zelc"
      },
      "execution_count": 4179,
      "outputs": []
    },
    {
      "cell_type": "markdown",
      "source": [
        "#Logistic Regression for InjuryType"
      ],
      "metadata": {
        "id": "ASX77g5MDDBh"
      }
    },
    {
      "cell_type": "code",
      "source": [
        "solvers = ['lbfgs', 'liblinear', 'newton-cg', 'newton-cholesky', 'sag', 'saga']\n",
        "max_iters = [50, 100, 150, 200, 250, 300]\n",
        "\n",
        "solver_results = []\n",
        "max_iter_results = []\n",
        "\n",
        "# Evaluate each solver\n",
        "for solver in solvers:\n",
        "    model_solver = LogisticRegression(solver=solver,class_weight='balanced')\n",
        "    model_solver.fit(X_train_normalized_InjuryType, y_train_InjuryType)\n",
        "    y_pred_solver = model_solver.predict(X_test_normalized_InjuryType)\n",
        "\n",
        "    # Calculate metrics\n",
        "    accuracy_solver = accuracy_score(y_test_InjuryType, y_pred_solver)\n",
        "    confusion_solver = confusion_matrix(y_test_InjuryType, y_pred_solver)\n",
        "    precision_solver = precision_score(y_test_InjuryType, y_pred_solver, average='weighted', zero_division=0)\n",
        "    recall_solver = recall_score(y_test_InjuryType, y_pred_solver, average='weighted')\n",
        "    f1_solver = f1_score(y_test_InjuryType, y_pred_solver, average='weighted')\n",
        "\n",
        "    solver_results.append((solver, accuracy_solver, confusion_solver, precision_solver, recall_solver, f1_solver))\n",
        "\n",
        "# Evaluate each max_iter\n",
        "for max_iter in max_iters:\n",
        "    model_max_iter = LogisticRegression(solver='saga',max_iter=max_iter,class_weight='balanced')\n",
        "    model_max_iter.fit(X_train_normalized_InjuryType, y_train_InjuryType)\n",
        "    y_pred_max_iter = model_max_iter.predict(X_test_normalized_InjuryType)\n",
        "\n",
        "    # Calculate metrics\n",
        "    accuracy_max_iter = accuracy_score(y_test_InjuryType, y_pred_max_iter)\n",
        "    confusion_max_iter = confusion_matrix(y_test_InjuryType, y_pred_max_iter)\n",
        "    precision_max_iter = precision_score(y_test_InjuryType, y_pred_max_iter, average='weighted', zero_division=0)\n",
        "    recall_max_iter = recall_score(y_test_InjuryType, y_pred_max_iter, average='weighted')\n",
        "    f1_max_iter = f1_score(y_test_InjuryType, y_pred_max_iter, average='weighted')\n",
        "\n",
        "    max_iter_results.append((max_iter, accuracy_max_iter, confusion_max_iter, precision_max_iter, recall_max_iter, f1_max_iter))\n",
        "\n",
        "# Print formatted output for Solvers\n",
        "print(\"*************************** Solvers ***************************\")\n",
        "for solver, accuracy, confusion, precision, recall, f1 in solver_results:\n",
        "    print(f\"Solver: {solver}\")\n",
        "    print(f\"Accuracy: {accuracy:.4f}\")\n",
        "    print(f\"Precision: {precision:.4f}\")\n",
        "    print(f\"Recall: {recall:.4f}\")\n",
        "    print(f\"F1 Score: {f1:.4f}\")\n",
        "    print(\"Confusion Matrix:\")\n",
        "    print(confusion)\n",
        "    print(\"------------------------------------------------------------\\n\")\n",
        "\n",
        "# Print formatted output for Max Iterations\n",
        "print(\"*************************** Max Iterations ***************************\")\n",
        "for max_iter, accuracy, confusion, precision, recall, f1 in max_iter_results:\n",
        "    print(f\"Max Iterations: {max_iter}\")\n",
        "    print(f\"Accuracy: {accuracy:.4f}\")\n",
        "    print(f\"Precision: {precision:.4f}\")\n",
        "    print(f\"Recall: {recall:.4f}\")\n",
        "    print(f\"F1 Score: {f1:.4f}\")\n",
        "    print(\"Confusion Matrix:\")\n",
        "    print(confusion)\n",
        "    print(\"------------------------------------------------------------\\n\")\n"
      ],
      "metadata": {
        "colab": {
          "base_uri": "https://localhost:8080/"
        },
        "id": "T4TbCVAGDHV8",
        "outputId": "8a5c370c-b3d4-422c-d46b-83a0c262591f"
      },
      "execution_count": 4180,
      "outputs": [
        {
          "output_type": "stream",
          "name": "stderr",
          "text": [
            "/usr/local/lib/python3.10/dist-packages/sklearn/linear_model/_sag.py:349: ConvergenceWarning: The max_iter was reached which means the coef_ did not converge\n",
            "  warnings.warn(\n",
            "/usr/local/lib/python3.10/dist-packages/sklearn/linear_model/_sag.py:349: ConvergenceWarning: The max_iter was reached which means the coef_ did not converge\n",
            "  warnings.warn(\n",
            "/usr/local/lib/python3.10/dist-packages/sklearn/linear_model/_sag.py:349: ConvergenceWarning: The max_iter was reached which means the coef_ did not converge\n",
            "  warnings.warn(\n",
            "/usr/local/lib/python3.10/dist-packages/sklearn/linear_model/_sag.py:349: ConvergenceWarning: The max_iter was reached which means the coef_ did not converge\n",
            "  warnings.warn(\n",
            "/usr/local/lib/python3.10/dist-packages/sklearn/linear_model/_sag.py:349: ConvergenceWarning: The max_iter was reached which means the coef_ did not converge\n",
            "  warnings.warn(\n",
            "/usr/local/lib/python3.10/dist-packages/sklearn/linear_model/_sag.py:349: ConvergenceWarning: The max_iter was reached which means the coef_ did not converge\n",
            "  warnings.warn(\n",
            "/usr/local/lib/python3.10/dist-packages/sklearn/linear_model/_sag.py:349: ConvergenceWarning: The max_iter was reached which means the coef_ did not converge\n",
            "  warnings.warn(\n"
          ]
        },
        {
          "output_type": "stream",
          "name": "stdout",
          "text": [
            "*************************** Solvers ***************************\n",
            "Solver: lbfgs\n",
            "Accuracy: 0.2014\n",
            "Precision: 0.6034\n",
            "Recall: 0.2014\n",
            "F1 Score: 0.2622\n",
            "Confusion Matrix:\n",
            "[[   0  127  260  197   95]\n",
            " [   0 1336 2649 2188  820]\n",
            " [   0   18   79   37   22]\n",
            " [   0  245  490  432  160]\n",
            " [   0   15   32   18   12]]\n",
            "------------------------------------------------------------\n",
            "\n",
            "Solver: liblinear\n",
            "Accuracy: 0.7575\n",
            "Precision: 0.5738\n",
            "Recall: 0.7575\n",
            "F1 Score: 0.6529\n",
            "Confusion Matrix:\n",
            "[[   0  679    0    0    0]\n",
            " [   0 6993    0    0    0]\n",
            " [   0  156    0    0    0]\n",
            " [   0 1327    0    0    0]\n",
            " [   0   77    0    0    0]]\n",
            "------------------------------------------------------------\n",
            "\n",
            "Solver: newton-cg\n",
            "Accuracy: 0.1920\n",
            "Precision: 0.6132\n",
            "Recall: 0.1920\n",
            "F1 Score: 0.2494\n",
            "Confusion Matrix:\n",
            "[[   1  112  268  197  101]\n",
            " [  10 1240 2669 2230  844]\n",
            " [   1   15   79   40   21]\n",
            " [   6  223  494  439  165]\n",
            " [   0   10   33   20   14]]\n",
            "------------------------------------------------------------\n",
            "\n",
            "Solver: newton-cholesky\n",
            "Accuracy: 0.2982\n",
            "Precision: 0.6158\n",
            "Recall: 0.2982\n",
            "F1 Score: 0.3862\n",
            "Confusion Matrix:\n",
            "[[   1  209  262  131   76]\n",
            " [  10 2385 2619 1310  669]\n",
            " [   1   33   78   24   20]\n",
            " [   5  422  486  281  133]\n",
            " [   0   23   33   13    8]]\n",
            "------------------------------------------------------------\n",
            "\n",
            "Solver: sag\n",
            "Accuracy: 0.1163\n",
            "Precision: 0.5937\n",
            "Recall: 0.1163\n",
            "F1 Score: 0.1650\n",
            "Confusion Matrix:\n",
            "[[ 202   62    0    0  415]\n",
            " [1864  827    0    0 4302]\n",
            " [  39   11    0    0  106]\n",
            " [ 357  159    0    0  811]\n",
            " [  25    7    0    0   45]]\n",
            "------------------------------------------------------------\n",
            "\n",
            "Solver: saga\n",
            "Accuracy: 0.1437\n",
            "Precision: 0.0207\n",
            "Recall: 0.1437\n",
            "F1 Score: 0.0361\n",
            "Confusion Matrix:\n",
            "[[   0    0    0  679    0]\n",
            " [   0    0    0 6993    0]\n",
            " [   0    0    0  156    0]\n",
            " [   0    0    0 1327    0]\n",
            " [   0    0    0   77    0]]\n",
            "------------------------------------------------------------\n",
            "\n",
            "*************************** Max Iterations ***************************\n",
            "Max Iterations: 50\n",
            "Accuracy: 0.1034\n",
            "Precision: 0.5877\n",
            "Recall: 0.1034\n",
            "F1 Score: 0.0715\n",
            "Confusion Matrix:\n",
            "[[ 656   23    0    0    0]\n",
            " [6694  299    0    0    0]\n",
            " [ 155    1    0    0    0]\n",
            " [1263   64    0    0    0]\n",
            " [  75    2    0    0    0]]\n",
            "------------------------------------------------------------\n",
            "\n",
            "Max Iterations: 100\n",
            "Accuracy: 0.0954\n",
            "Precision: 0.5987\n",
            "Recall: 0.0954\n",
            "F1 Score: 0.0567\n",
            "Confusion Matrix:\n",
            "[[ 657   22    0    0    0]\n",
            " [6769  224    0    0    0]\n",
            " [ 154    2    0    0    0]\n",
            " [1293   34    0    0    0]\n",
            " [  73    4    0    0    0]]\n",
            "------------------------------------------------------------\n",
            "\n",
            "Max Iterations: 150\n",
            "Accuracy: 0.1375\n",
            "Precision: 0.0268\n",
            "Recall: 0.1375\n",
            "F1 Score: 0.0433\n",
            "Confusion Matrix:\n",
            "[[  90    0    0  589    0]\n",
            " [ 848    0    0 6145    0]\n",
            " [  11    0    0  145    0]\n",
            " [ 148    0    0 1179    0]\n",
            " [  11    0    0   66    0]]\n",
            "------------------------------------------------------------\n",
            "\n",
            "Max Iterations: 200\n",
            "Accuracy: 0.0112\n",
            "Precision: 0.0302\n",
            "Recall: 0.0112\n",
            "F1 Score: 0.0055\n",
            "Confusion Matrix:\n",
            "[[   4    0    0   11  664]\n",
            " [  85    0    0   88 6820]\n",
            " [   0    0    0    0  156]\n",
            " [   8    0    0   23 1296]\n",
            " [   1    0    0    0   76]]\n",
            "------------------------------------------------------------\n",
            "\n",
            "Max Iterations: 250\n",
            "Accuracy: 0.4476\n",
            "Precision: 0.6065\n",
            "Recall: 0.4476\n",
            "F1 Score: 0.4978\n",
            "Confusion Matrix:\n",
            "[[  85  328    0  266    0]\n",
            " [ 785 3516    0 2692    0]\n",
            " [  10   62    0   84    0]\n",
            " [ 138  658    0  531    0]\n",
            " [  10   34    0   33    0]]\n",
            "------------------------------------------------------------\n",
            "\n",
            "Max Iterations: 300\n",
            "Accuracy: 0.7575\n",
            "Precision: 0.5738\n",
            "Recall: 0.7575\n",
            "F1 Score: 0.6529\n",
            "Confusion Matrix:\n",
            "[[   0  679    0    0    0]\n",
            " [   0 6993    0    0    0]\n",
            " [   0  156    0    0    0]\n",
            " [   0 1327    0    0    0]\n",
            " [   0   77    0    0    0]]\n",
            "------------------------------------------------------------\n",
            "\n"
          ]
        },
        {
          "output_type": "stream",
          "name": "stderr",
          "text": [
            "/usr/local/lib/python3.10/dist-packages/sklearn/linear_model/_sag.py:349: ConvergenceWarning: The max_iter was reached which means the coef_ did not converge\n",
            "  warnings.warn(\n"
          ]
        }
      ]
    },
    {
      "cell_type": "code",
      "source": [
        "solvers = [result[0] for result in solver_results]\n",
        "solver_accuracies = [result[1] for result in solver_results]\n",
        "\n",
        "max_iters = [result[0] for result in max_iter_results]\n",
        "max_iter_accuracies = [result[1] for result in max_iter_results]\n",
        "\n",
        "# Plot Accuracy vs Solver\n",
        "plt.figure(figsize=(10, 5))\n",
        "plt.plot(solvers, solver_accuracies, marker='o', color='b')\n",
        "plt.xlabel('Solver')\n",
        "plt.ylabel('Accuracy')\n",
        "plt.title('Accuracy vs Solver')\n",
        "plt.grid(True)\n",
        "plt.show()\n",
        "\n",
        "# Plot Accuracy vs Max_iter\n",
        "plt.figure(figsize=(10, 5))\n",
        "plt.plot(max_iters, max_iter_accuracies, marker='o', color='r')\n",
        "plt.xlabel('Max Iterations')\n",
        "plt.ylabel('Accuracy')\n",
        "plt.title('Accuracy vs Max_iter')\n",
        "plt.grid(True)\n",
        "plt.show()"
      ],
      "metadata": {
        "colab": {
          "base_uri": "https://localhost:8080/",
          "height": 944
        },
        "id": "5yvKhnn0DrEG",
        "outputId": "f7caa9a3-5263-458f-cdc0-2e8fa324c5ca"
      },
      "execution_count": 4181,
      "outputs": [
        {
          "output_type": "display_data",
          "data": {
            "text/plain": [
              "<Figure size 1000x500 with 1 Axes>"
            ],
            "image/png": "[encoded data removed]"
          },
          "metadata": {}
        },
        {
          "output_type": "display_data",
          "data": {
            "text/plain": [
              "<Figure size 1000x500 with 1 Axes>"
            ],
            "image/png": "[encoded data removed]"
          },
          "metadata": {}
        }
      ]
    },
    {
      "cell_type": "markdown",
      "source": [
        "#Logistic Regression for PatientStatus"
      ],
      "metadata": {
        "id": "cBG5tlgBBl8a"
      }
    },
    {
      "cell_type": "code",
      "source": [
        "solvers = ['lbfgs', 'liblinear', 'newton-cg', 'newton-cholesky', 'sag', 'saga']\n",
        "max_iters = [50, 100, 150, 200, 250, 300]\n",
        "\n",
        "solver_results = []\n",
        "max_iter_results = []\n",
        "\n",
        "# Evaluate each solver\n",
        "for solver in solvers:\n",
        "    model_solver = LogisticRegression(solver=solver,class_weight='balanced')\n",
        "    model_solver.fit(X_train_normalized_PatientStatus, y_train_PatientStatus)\n",
        "    y_pred_solver = model_solver.predict(X_test_normalized_PatientStatus)\n",
        "\n",
        "    # Calculate metrics\n",
        "    accuracy_solver = accuracy_score(y_test_PatientStatus, y_pred_solver)\n",
        "    confusion_solver = confusion_matrix(y_test_PatientStatus, y_pred_solver)\n",
        "    precision_solver = precision_score(y_test_PatientStatus, y_pred_solver, average='weighted', zero_division=0)\n",
        "    recall_solver = recall_score(y_test_PatientStatus, y_pred_solver, average='weighted')\n",
        "    f1_solver = f1_score(y_test_PatientStatus, y_pred_solver, average='weighted')\n",
        "\n",
        "    solver_results.append((solver, accuracy_solver, confusion_solver, precision_solver, recall_solver, f1_solver))\n",
        "\n",
        "# Evaluate each max_iter\n",
        "for max_iter in max_iters:\n",
        "    model_max_iter = LogisticRegression(solver='saga',max_iter=max_iter,class_weight='balanced')\n",
        "    model_max_iter.fit(X_train_normalized_PatientStatus, y_train_PatientStatus)\n",
        "    y_pred_max_iter = model_max_iter.predict(X_test_normalized_PatientStatus)\n",
        "\n",
        "    # Calculate metrics\n",
        "    accuracy_max_iter = accuracy_score(y_test_PatientStatus, y_pred_max_iter)\n",
        "    confusion_max_iter = confusion_matrix(y_test_PatientStatus, y_pred_max_iter)\n",
        "    precision_max_iter = precision_score(y_test_PatientStatus, y_pred_max_iter, average='weighted', zero_division=0)\n",
        "    recall_max_iter = recall_score(y_test_PatientStatus, y_pred_max_iter, average='weighted')\n",
        "    f1_max_iter = f1_score(y_test_PatientStatus, y_pred_max_iter, average='weighted')\n",
        "\n",
        "    max_iter_results.append((max_iter, accuracy_max_iter, confusion_max_iter, precision_max_iter, recall_max_iter, f1_max_iter))\n",
        "\n",
        "# Print formatted output for Solvers\n",
        "print(\"*************************** Solvers ***************************\")\n",
        "for solver, accuracy, confusion, precision, recall, f1 in solver_results:\n",
        "    print(f\"Solver: {solver}\")\n",
        "    print(f\"Accuracy: {accuracy:.4f}\")\n",
        "    print(f\"Precision: {precision:.4f}\")\n",
        "    print(f\"Recall: {recall:.4f}\")\n",
        "    print(f\"F1 Score: {f1:.4f}\")\n",
        "    print(\"Confusion Matrix:\")\n",
        "    print(confusion)\n",
        "    print(\"------------------------------------------------------------\\n\")\n",
        "\n",
        "# Print formatted output for Max Iterations\n",
        "print(\"*************************** Max Iterations ***************************\")\n",
        "for max_iter, accuracy, confusion, precision, recall, f1 in max_iter_results:\n",
        "    print(f\"Max Iterations: {max_iter}\")\n",
        "    print(f\"Accuracy: {accuracy:.4f}\")\n",
        "    print(f\"Precision: {precision:.4f}\")\n",
        "    print(f\"Recall: {recall:.4f}\")\n",
        "    print(f\"F1 Score: {f1:.4f}\")\n",
        "    print(\"Confusion Matrix:\")\n",
        "    print(confusion)\n",
        "    print(\"------------------------------------------------------------\\n\")\n"
      ],
      "metadata": {
        "colab": {
          "base_uri": "https://localhost:8080/"
        },
        "id": "0iWrUHN7dRrA",
        "outputId": "366a9e08-ef61-49b1-9c08-4605f2d1b8d6"
      },
      "execution_count": 4182,
      "outputs": [
        {
          "output_type": "stream",
          "name": "stderr",
          "text": [
            "/usr/local/lib/python3.10/dist-packages/sklearn/linear_model/_sag.py:349: ConvergenceWarning: The max_iter was reached which means the coef_ did not converge\n",
            "  warnings.warn(\n",
            "/usr/local/lib/python3.10/dist-packages/sklearn/linear_model/_sag.py:349: ConvergenceWarning: The max_iter was reached which means the coef_ did not converge\n",
            "  warnings.warn(\n",
            "/usr/local/lib/python3.10/dist-packages/sklearn/linear_model/_sag.py:349: ConvergenceWarning: The max_iter was reached which means the coef_ did not converge\n",
            "  warnings.warn(\n",
            "/usr/local/lib/python3.10/dist-packages/sklearn/linear_model/_sag.py:349: ConvergenceWarning: The max_iter was reached which means the coef_ did not converge\n",
            "  warnings.warn(\n",
            "/usr/local/lib/python3.10/dist-packages/sklearn/linear_model/_sag.py:349: ConvergenceWarning: The max_iter was reached which means the coef_ did not converge\n",
            "  warnings.warn(\n",
            "/usr/local/lib/python3.10/dist-packages/sklearn/linear_model/_sag.py:349: ConvergenceWarning: The max_iter was reached which means the coef_ did not converge\n",
            "  warnings.warn(\n",
            "/usr/local/lib/python3.10/dist-packages/sklearn/linear_model/_sag.py:349: ConvergenceWarning: The max_iter was reached which means the coef_ did not converge\n",
            "  warnings.warn(\n"
          ]
        },
        {
          "output_type": "stream",
          "name": "stdout",
          "text": [
            "*************************** Solvers ***************************\n",
            "Solver: lbfgs\n",
            "Accuracy: 0.2762\n",
            "Precision: 0.5068\n",
            "Recall: 0.2762\n",
            "F1 Score: 0.3334\n",
            "Confusion Matrix:\n",
            "[[1783  613 2031]\n",
            " [1732  705 2244]\n",
            " [  35   27   62]]\n",
            "------------------------------------------------------------\n",
            "\n",
            "Solver: liblinear\n",
            "Accuracy: 0.5077\n",
            "Precision: 0.4969\n",
            "Recall: 0.5077\n",
            "F1 Score: 0.4596\n",
            "Confusion Matrix:\n",
            "[[ 951 3476    0]\n",
            " [ 945 3736    0]\n",
            " [  20  104    0]]\n",
            "------------------------------------------------------------\n",
            "\n",
            "Solver: newton-cg\n",
            "Accuracy: 0.2764\n",
            "Precision: 0.5074\n",
            "Recall: 0.2764\n",
            "F1 Score: 0.3338\n",
            "Confusion Matrix:\n",
            "[[1781  614 2032]\n",
            " [1729  709 2243]\n",
            " [  35   27   62]]\n",
            "------------------------------------------------------------\n",
            "\n",
            "Solver: newton-cholesky\n",
            "Accuracy: 0.2981\n",
            "Precision: 0.5021\n",
            "Recall: 0.2981\n",
            "F1 Score: 0.3544\n",
            "Confusion Matrix:\n",
            "[[1855  756 1816]\n",
            " [1815  842 2024]\n",
            " [  37   32   55]]\n",
            "------------------------------------------------------------\n",
            "\n",
            "Solver: sag\n",
            "Accuracy: 0.0168\n",
            "Precision: 0.1957\n",
            "Recall: 0.0168\n",
            "F1 Score: 0.0072\n",
            "Confusion Matrix:\n",
            "[[   0   50 4377]\n",
            " [   0   32 4649]\n",
            " [   0    1  123]]\n",
            "------------------------------------------------------------\n",
            "\n",
            "Solver: saga\n",
            "Accuracy: 0.5024\n",
            "Precision: 0.4965\n",
            "Recall: 0.5024\n",
            "F1 Score: 0.4989\n",
            "Confusion Matrix:\n",
            "[[2339 2088    0]\n",
            " [2382 2299    0]\n",
            " [  60   64    0]]\n",
            "------------------------------------------------------------\n",
            "\n",
            "*************************** Max Iterations ***************************\n",
            "Max Iterations: 50\n",
            "Accuracy: 0.0447\n",
            "Precision: 0.2622\n",
            "Recall: 0.0447\n",
            "F1 Score: 0.0568\n",
            "Confusion Matrix:\n",
            "[[   0  270 4157]\n",
            " [   0  292 4389]\n",
            " [   0    3  121]]\n",
            "------------------------------------------------------------\n",
            "\n",
            "Max Iterations: 100\n",
            "Accuracy: 0.4137\n",
            "Precision: 0.4900\n",
            "Recall: 0.4137\n",
            "F1 Score: 0.3488\n",
            "Confusion Matrix:\n",
            "[[3463  315  649]\n",
            " [3697  339  645]\n",
            " [ 103    4   17]]\n",
            "------------------------------------------------------------\n",
            "\n",
            "Max Iterations: 150\n",
            "Accuracy: 0.3178\n",
            "Precision: 0.4873\n",
            "Recall: 0.3178\n",
            "F1 Score: 0.3760\n",
            "Confusion Matrix:\n",
            "[[1065 1751 1611]\n",
            " [1110 1807 1764]\n",
            " [  24   38   62]]\n",
            "------------------------------------------------------------\n",
            "\n",
            "Max Iterations: 200\n",
            "Accuracy: 0.2658\n",
            "Precision: 0.7429\n",
            "Recall: 0.2658\n",
            "F1 Score: 0.2467\n",
            "Confusion Matrix:\n",
            "[[2377    0 2050]\n",
            " [2413    1 2267]\n",
            " [  48    0   76]]\n",
            "------------------------------------------------------------\n",
            "\n",
            "Max Iterations: 250\n",
            "Accuracy: 0.5070\n",
            "Precision: 0.4951\n",
            "Recall: 0.5070\n",
            "F1 Score: 0.4386\n",
            "Confusion Matrix:\n",
            "[[ 707 3720    0]\n",
            " [ 707 3974    0]\n",
            " [  18  106    0]]\n",
            "------------------------------------------------------------\n",
            "\n",
            "Max Iterations: 300\n",
            "Accuracy: 0.4795\n",
            "Precision: 0.2299\n",
            "Recall: 0.4795\n",
            "F1 Score: 0.3108\n",
            "Confusion Matrix:\n",
            "[[4427    0    0]\n",
            " [4681    0    0]\n",
            " [ 124    0    0]]\n",
            "------------------------------------------------------------\n",
            "\n"
          ]
        },
        {
          "output_type": "stream",
          "name": "stderr",
          "text": [
            "/usr/local/lib/python3.10/dist-packages/sklearn/linear_model/_sag.py:349: ConvergenceWarning: The max_iter was reached which means the coef_ did not converge\n",
            "  warnings.warn(\n"
          ]
        }
      ]
    },
    {
      "cell_type": "code",
      "source": [
        "solvers = [result[0] for result in solver_results]\n",
        "solver_accuracies = [result[1] for result in solver_results]\n",
        "\n",
        "max_iters = [result[0] for result in max_iter_results]\n",
        "max_iter_accuracies = [result[1] for result in max_iter_results]\n",
        "\n",
        "# Plot Accuracy vs Solver\n",
        "plt.figure(figsize=(10, 5))\n",
        "plt.plot(solvers, solver_accuracies, marker='o', color='b')\n",
        "plt.xlabel('Solver')\n",
        "plt.ylabel('Accuracy')\n",
        "plt.title('Accuracy vs Solver')\n",
        "plt.grid(True)\n",
        "plt.show()\n",
        "\n",
        "# Plot Accuracy vs Max_iter\n",
        "plt.figure(figsize=(10, 5))\n",
        "plt.plot(max_iters, max_iter_accuracies, marker='o', color='r')\n",
        "plt.xlabel('Max Iterations')\n",
        "plt.ylabel('Accuracy')\n",
        "plt.title('Accuracy vs Max_iter')\n",
        "plt.grid(True)\n",
        "plt.show()\n"
      ],
      "metadata": {
        "colab": {
          "base_uri": "https://localhost:8080/",
          "height": 944
        },
        "id": "DOs35zn54Yl-",
        "outputId": "dde52ea3-faf1-4de2-fcee-4ebaadcce886"
      },
      "execution_count": 4183,
      "outputs": [
        {
          "output_type": "display_data",
          "data": {
            "text/plain": [
              "<Figure size 1000x500 with 1 Axes>"
            ],
            "image/png": "[encoded data removed]"
          },
          "metadata": {}
        },
        {
          "output_type": "display_data",
          "data": {
            "text/plain": [
              "<Figure size 1000x500 with 1 Axes>"
            ],
            "image/png": "[encoded data removed]"
          },
          "metadata": {}
        }
      ]
    }
  ]
}